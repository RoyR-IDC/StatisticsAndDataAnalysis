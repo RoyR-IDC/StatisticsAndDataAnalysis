{
 "cells": [
  {
   "cell_type": "markdown",
   "metadata": {},
   "source": [
    "# Data Visualization\n",
    "\n",
    "### The Challenger: An Information Disaster\n",
    "\n",
    "You are in charge of a space shuttle launch that takes off tomorrow morning. Engineers have collected data on O-Ring failures and deduced that the critical factor for a successful mission is the temperature at time of the launch. The engineers are trying to communicate their findings in a way that will be digestible for you, the decision maker, and come up with the following visualization:\n",
    "\n",
    "<img src=\"vis1.jpeg\" alt=\"Drawing\" style=\"width: 600px;\"/>\n",
    "\n",
    "Knowing that the forecast temperature for tomorrow is 26-29 degrees Fahrenheit, do you approve the space shuttle launch?"
   ]
  },
  {
   "cell_type": "code",
   "execution_count": null,
   "metadata": {},
   "outputs": [],
   "source": [
    "%matplotlib inline\n",
    "import warnings\n",
    "import matplotlib\n",
    "\n",
    "import numpy as np\n",
    "import pandas as pd\n",
    "import seaborn as sns\n",
    "import matplotlib.pyplot as plt"
   ]
  },
  {
   "cell_type": "code",
   "execution_count": null,
   "metadata": {},
   "outputs": [],
   "source": [
    "warnings.filterwarnings('ignore')\n",
    "plt.rcParams['figure.figsize'] = (12.0, 8.0) # set default size of plots\n",
    "plt.rcParams['image.interpolation'] = 'nearest'\n",
    "plt.rcParams['image.cmap'] = 'gray'"
   ]
  },
  {
   "cell_type": "markdown",
   "metadata": {},
   "source": [
    "Lets extract the original data from the visualization as (temp, damage_index) instances."
   ]
  },
  {
   "cell_type": "code",
   "execution_count": null,
   "metadata": {},
   "outputs": [],
   "source": [
    "data = [[53, 11], [57, 4], [58, 4], [63, 2], [66, 0], [67, 0],  \n",
    "        [67, 0],  [67, 0], [68, 0], [69, 0], [70, 4], [70, 0], \n",
    "        [70, 4],  [70, 0], [72, 0], [73, 0], [75, 0], [75, 4], \n",
    "        [76, 0],  [76, 0], [78, 0], [79, 0], [81, 0]]\n",
    "\n",
    "data = np.array(data)"
   ]
  },
  {
   "cell_type": "markdown",
   "metadata": {},
   "source": [
    "Plotting points on the x-y plane is done by the method `scatter`. We will address the rest of the syntax later on."
   ]
  },
  {
   "cell_type": "code",
   "execution_count": null,
   "metadata": {},
   "outputs": [],
   "source": [
    "fig, ax = plt.subplots()\n",
    "ax.scatter(data[:,0], data[:,1])\n",
    "ax.set_xlabel('Temperature')\n",
    "ax.set_ylabel(\"Damage Index\")"
   ]
  },
  {
   "cell_type": "markdown",
   "metadata": {},
   "source": [
    "If you are familiar with `Pandas`, the same plot can be achieved by operating on a dataframe. We will focus on explicit methods for the rest of the class."
   ]
  },
  {
   "cell_type": "code",
   "execution_count": null,
   "metadata": {},
   "outputs": [],
   "source": [
    "# The same plot using pandas.\n",
    "df = pd.DataFrame(data, columns=['Temperature', 'Damage Index'])\n",
    "ax = df.plot.scatter(0,1)"
   ]
  },
  {
   "cell_type": "code",
   "execution_count": null,
   "metadata": {},
   "outputs": [],
   "source": [
    "fig, ax = plt.subplots()\n",
    "ax.scatter(data[:,0], data[:,1])\n",
    "ax.axvline(26, c='r');\n",
    "ax.set_xlabel('Temperature')\n",
    "ax.set_ylabel(\"Damage Index\")"
   ]
  },
  {
   "cell_type": "markdown",
   "metadata": {},
   "source": [
    "We can use Seaborn to easily add a linear trendline."
   ]
  },
  {
   "cell_type": "code",
   "execution_count": null,
   "metadata": {},
   "outputs": [],
   "source": [
    "fig, ax = plt.subplots()\n",
    "xlim = [0,100]\n",
    "ax.set_xlim(xlim)\n",
    "ax = sns.regplot(data[:,0], data[:,1], fit_reg=True)\n",
    "ax.axvline(26, c='r');\n",
    "ax.set_xlabel('Temperature')\n",
    "ax.set_ylabel(\"Damage Index\")"
   ]
  },
  {
   "cell_type": "code",
   "execution_count": null,
   "metadata": {},
   "outputs": [],
   "source": [
    "fig, ax = plt.subplots()\n",
    "xlim = [0,100]\n",
    "ax.set_xlim(xlim)\n",
    "ax = sns.regplot(data[:,0], data[:,1], fit_reg=True, order=2)\n",
    "ax.axvline(26, c='r');\n",
    "ax.set_xlabel('Temperature')\n",
    "ax.set_ylabel(\"Damage Index\")"
   ]
  },
  {
   "cell_type": "markdown",
   "metadata": {},
   "source": [
    "# Introduction to data visualization in Python\n",
    "\n",
    "Now that we are certain that data visualization is important, we can officially introduce `matplotlib`. The `matplotlib` package provide a simple object oriented API for figure manipulation: e.g., creates a figure, creates a plotting area in a figure, plots some lines in a plotting area, decorates the plot with labels, etc.\n",
    "\n",
    "The basic **objects** matplotlib provides are as follows:\n",
    "1. Figure: The **whole** figure. The figure keeps track of all the child `Axes`, which are figure elements such as lines, text, axis, polygons, etc. A figure can have any number of Axes, but to be useful should have at least one.\n",
    "1. Axes: This is what you think of as 'a plot'. It is the region of the image with the data space. A given figure can contain many Axes, but a given Axes object can only be in one Figure. \n",
    "1. Axis: They take care of setting the graph limits and generating the ticks (the marks on the axis) and ticklabels (strings labeling the ticks).\n",
    "1. Artist: Basically everything you can see on the figure is an artist (even the Figure, Axes, and Axis objects). When the figure is rendered, all of the artists are drawn to the canvas which is a part of the figure.\n",
    "\n",
    "Putting everything together we get:\n",
    "\n",
    "<img src=\"https://files.realpython.com/media/fig_map.bc8c7cabd823.png\" width=\"450\">\n",
    "\n",
    "<img src=\"https://matplotlib.org/3.1.1/_images/anatomy.png\" width='600'>"
   ]
  },
  {
   "cell_type": "markdown",
   "metadata": {},
   "source": [
    "## Using Matplotlib\n",
    "There are several ways to initiate a matplotlib figure. The simplest one is by using a layout manager called `subplots`. This method returns the figure and multiple axes. `subplots` positions the axes automatically and lets you access each axes using a list. "
   ]
  },
  {
   "cell_type": "code",
   "execution_count": null,
   "metadata": {},
   "outputs": [],
   "source": [
    "fig, ax = plt.subplots() # creates a figure with a single empty axes"
   ]
  },
  {
   "cell_type": "markdown",
   "metadata": {},
   "source": [
    "Jupyter notebook will typically capture the matplotlib figure and present it without explictly calling `plt.show()`. To avoid issues with the plotting behavior, always use `%matplotlib inline` at the very top of the first cell of your notebook. Jupyter also lets you control the default size (in inches) of the figures by setting the figure size parameter: `plt.rcParams['figure.figsize'] = [6, 4]`."
   ]
  },
  {
   "cell_type": "code",
   "execution_count": null,
   "metadata": {},
   "outputs": [],
   "source": [
    "print(\"Figure: \", fig)\n",
    "print(\"Axes: \", ax)"
   ]
  },
  {
   "cell_type": "code",
   "execution_count": null,
   "metadata": {},
   "outputs": [],
   "source": [
    "fig, ax = plt.subplots(2)\n",
    "print(\"Figure: \", fig)\n",
    "print(\"Axes list: \", ax)\n",
    "print(\"Axes 0: \", ax[0])"
   ]
  },
  {
   "cell_type": "markdown",
   "metadata": {},
   "source": [
    "## Basic Plots\n",
    "\n",
    "We will start by creating a figure with two axes, and populate it incrementally."
   ]
  },
  {
   "cell_type": "code",
   "execution_count": null,
   "metadata": {},
   "outputs": [],
   "source": [
    "fig, ax = plt.subplots(2,1)"
   ]
  },
  {
   "cell_type": "markdown",
   "metadata": {},
   "source": [
    "First, we need to define the data that will be used. The numpy method `linspace` can create evenly spaced numbers over a specified interval, which is perfect for many visualization needs."
   ]
  },
  {
   "cell_type": "code",
   "execution_count": null,
   "metadata": {},
   "outputs": [],
   "source": [
    "x = np.linspace(-10, 10, 10)\n",
    "x"
   ]
  },
  {
   "cell_type": "markdown",
   "metadata": {},
   "source": [
    "Next, we will access one of the axes objects, and create a basic $y$ versus $x$ plot as mixture of lines and markers. Note that plots are highly customizable. Check the [docs](https://matplotlib.org/3.1.1/tutorials/introductory/pyplot.html) for more information."
   ]
  },
  {
   "cell_type": "code",
   "execution_count": null,
   "metadata": {},
   "outputs": [],
   "source": [
    "ax[0].plot(x, x ** 3, color='r', marker='*', markersize=8, linewidth=2); # populating the axes"
   ]
  },
  {
   "cell_type": "markdown",
   "metadata": {},
   "source": [
    "if the figure is defined in a different cell in the Jupyter Notebook, call the figure object again to plot."
   ]
  },
  {
   "cell_type": "code",
   "execution_count": null,
   "metadata": {},
   "outputs": [],
   "source": [
    "fig"
   ]
  },
  {
   "cell_type": "markdown",
   "metadata": {},
   "source": [
    "We will add a plot to the second axes, and call figure again to see the result."
   ]
  },
  {
   "cell_type": "code",
   "execution_count": null,
   "metadata": {},
   "outputs": [],
   "source": [
    "ax[1].plot(x, x ** 2, color='g', marker='o', markersize=14, linewidth=5); # populating the axes\n",
    "fig"
   ]
  },
  {
   "cell_type": "markdown",
   "metadata": {},
   "source": [
    "Once a plot has been drawn, it is possible to access the axes again and add objects to the axes. Note, this does **not** replace the previous drawing."
   ]
  },
  {
   "cell_type": "code",
   "execution_count": null,
   "metadata": {},
   "outputs": [],
   "source": [
    "ax[0].plot(x[::-1], x ** 3, color='r', marker='^', markersize=20, linewidth=2);\n",
    "fig"
   ]
  },
  {
   "cell_type": "markdown",
   "metadata": {},
   "source": [
    "It is possible to add a completely different object to the canvas."
   ]
  },
  {
   "cell_type": "code",
   "execution_count": null,
   "metadata": {},
   "outputs": [],
   "source": [
    "ax[1].annotate('global min', xy=(0, 0), xytext=(0, 60), size=20,\n",
    "             arrowprops=dict(facecolor='black'));\n",
    "fig"
   ]
  },
  {
   "cell_type": "markdown",
   "metadata": {},
   "source": [
    "Calling `annotate` again will add another annotation to the figure."
   ]
  },
  {
   "cell_type": "code",
   "execution_count": null,
   "metadata": {},
   "outputs": [],
   "source": [
    "ax[1].annotate('not a global min', xy=(x[8], x[8]**2), xytext=(6, 10), size=15,\n",
    "             arrowprops=dict(facecolor='black'));\n",
    "fig"
   ]
  },
  {
   "cell_type": "markdown",
   "metadata": {},
   "source": [
    "Multiple plotting on the same axes can be done in several ways, and should be accompanied with a legend and additional visual aids such as titles, axis names, grids, etc."
   ]
  },
  {
   "cell_type": "code",
   "execution_count": null,
   "metadata": {},
   "outputs": [],
   "source": [
    "fig, axes = plt.subplots(1, 2, figsize=(14,5))\n",
    "\n",
    "x = np.linspace(2, 4, 10)\n",
    "\n",
    "# you can add an arbitrary amount of x,y lines in one line  \n",
    "axes[0].plot(x, x, x, x*np.log(x), x, x**2, x, np.exp(x))\n",
    "# adding a title to the axes\n",
    "axes[0].set_title(\"Normal scale\")\n",
    "# adding a legend\n",
    "axes[0].legend(['x','x log(x)','x^2','e^x']);\n",
    "# adding a grid\n",
    "axes[0].grid(alpha=0.5, linestyle='dashed')\n",
    "\n",
    "# a different approach and a logarithmic scale on the y axis\n",
    "axes[1].plot(x, x, label='x')\n",
    "axes[1].plot(x, x*np.log(x), label='x log(x)')\n",
    "axes[1].plot(x, x**2, label='$x^2$')\n",
    "axes[1].plot(x, np.exp(x), label='$e^x$')\n",
    "axes[1].legend();\n",
    "axes[1].set_yscale(\"log\")\n",
    "axes[1].set_title(\"Logarithmic scale (y)\");"
   ]
  },
  {
   "cell_type": "markdown",
   "metadata": {},
   "source": [
    "So far we only used the plot method that produces lines. There are many additional ways to visualize information."
   ]
  },
  {
   "cell_type": "code",
   "execution_count": null,
   "metadata": {},
   "outputs": [],
   "source": [
    "n = np.array([0,1,2,3,4,5])\n",
    "xx = np.linspace(-0.75, 1., 100)\n",
    "\n",
    "fig, axes = plt.subplots(2, 4, figsize=(16,8))\n",
    "\n",
    "axes[0,0].scatter(xx, xx + 0.25*np.random.randn(len(xx)))\n",
    "axes[0,0].set_title(\"Scatter\")\n",
    "\n",
    "axes[0,1].step(n, n**2, lw=2)\n",
    "axes[0,1].set_title(\"Step\")\n",
    "\n",
    "axes[0,2].bar(n, n**2, align=\"center\", width=0.5, alpha=0.5)\n",
    "axes[0,2].set_title(\"Bar\")\n",
    "\n",
    "axes[0,3].fill_between(x, x**2, x**3, color=\"green\", alpha=0.5);\n",
    "axes[0,3].set_title(\"Fill\");\n",
    "\n",
    "w = 3\n",
    "Y, X = np.mgrid[-w:w:100j, -w:w:100j]\n",
    "U = -1 - X**2 + Y\n",
    "V = 1 + X - Y**2\n",
    "speed = np.sqrt(U**2 + V**2)\n",
    "\n",
    "axes[1,0].streamplot(X, Y, U, V, density=[0.5, 1])\n",
    "axes[1,0].set_title(\"Steamplot\")\n",
    "\n",
    "labels = 'Frogs', 'Hogs', 'Dogs', 'Logs'\n",
    "sizes = [15, 30, 45, 10]\n",
    "explode = (0, 0.1, 0, 0)  # only \"explode\" the 2nd slice (i.e. 'Hogs')\n",
    "axes[1,1].pie(sizes, explode=explode, labels=labels, autopct='%1.1f%%',\n",
    "        shadow=True, startangle=90)\n",
    "axes[1,1].set_title(\"Pie\")\n",
    "\n",
    "data = np.random.randn(100000)\n",
    "axes[1,2].hist(data, cumulative=True, bins=50);\n",
    "axes[1,2].hist(data, bins=50);\n",
    "axes[1,2].set_title(\"Histogram\")\n",
    "\n",
    "year = [2011, 2012, 2013, 2014, 2015, 2016, 2017, 2018]\n",
    "player1 = [8,10,17,15,23,18,24,29]\n",
    "player2 = [10,14,19,16,25,20,26,32]\n",
    "player3 = [12,17,21,19,26,22,28,35]\n",
    "\n",
    "axes[1,3].stackplot(year, player1, player2, player3, colors = ['g','r', 'b'])\n",
    "axes[1,3].set_title(\"Stackplots\");"
   ]
  },
  {
   "cell_type": "markdown",
   "metadata": {},
   "source": [
    "You can mix several visualization types on the same axes."
   ]
  },
  {
   "cell_type": "code",
   "execution_count": null,
   "metadata": {},
   "outputs": [],
   "source": [
    "x = np.linspace(-0.75, 1., 100)\n",
    "y = x + 0.25*np.random.randn(len(xx))\n",
    "fig, ax = plt.subplots(figsize=(16,8))\n",
    "ax.scatter(x, y)\n",
    "ax.plot(x,x, c='r', linewidth=4)\n",
    "ax.plot(x,0.5*x, c='g', linewidth=4)\n",
    "ax.fill_between(x, x, 0.5*x, color=\"blue\", alpha=0.1);"
   ]
  },
  {
   "cell_type": "code",
   "execution_count": null,
   "metadata": {},
   "outputs": [],
   "source": [
    "iris = sns.load_dataset(\"iris\")\n",
    "x = iris['sepal_length']\n",
    "y = iris['petal_length']\n",
    "g = sns.JointGrid(x, y, space=0)\n",
    "g = g.plot_joint(sns.scatterplot, cmap=\"Blues_d\")\n",
    "sns.kdeplot(x, color=\"b\", shade=True, bw=0.1, ax=g.ax_marg_x)\n",
    "sns.kdeplot(y, color=\"r\", shade=True, bw=0.1, vertical=True, ax=g.ax_marg_y)"
   ]
  },
  {
   "cell_type": "code",
   "execution_count": null,
   "metadata": {},
   "outputs": [],
   "source": [
    "sns.jointplot(x=\"sepal_length\", y=\"petal_length\", data=iris, marginal_kws=dict(bins=20));"
   ]
  },
  {
   "cell_type": "markdown",
   "metadata": {},
   "source": [
    "## Advanced Plotting\n",
    "\n",
    "Some visualization capabilities are limited when using a layout manager. Enhanced control over the figure is available via the method `add_axes`. This method requires us to define the location of the axes using 4 numbers in the following format `[x,y,width,height]`. Note that this approach does not automatically create a grid of subplots, but adds axes on the same drawing canvas and allows for far richer visualizations. "
   ]
  },
  {
   "cell_type": "code",
   "execution_count": null,
   "metadata": {},
   "outputs": [],
   "source": [
    "# polar plot using add_axes and polar projection\n",
    "fig = plt.figure()\n",
    "ax1 = fig.add_axes([0, 0, 1, 1])\n",
    "ax2 = fig.add_axes([0, 0.5, .4, .4], polar=True)\n",
    "ax3 = fig.add_axes([0.6, 0.1, .4, .4], polar=True)\n",
    "\n",
    "t = np.linspace(0, 2 * np.pi, 100)\n",
    "ax1.plot(t, t, color='blue', lw=3);\n",
    "ax2.plot(t, t, color='blue', lw=3);\n",
    "ax3.plot(t[::-1], t, color='blue', lw=3);"
   ]
  },
  {
   "cell_type": "code",
   "execution_count": null,
   "metadata": {},
   "outputs": [],
   "source": [
    "fig = plt.figure()\n",
    "ax1 = fig.add_axes([0, 0, 1, 1])\n",
    "\n",
    "x = np.random.exponential(size=500)\n",
    "\n",
    "ax1.scatter(x, x + 0.25*np.random.randn(len(x)))\n",
    "ax1.plot(x,x, c='r', linewidth=4)\n",
    "ax1.set_xlim(0,4)\n",
    "ax1.set_ylim(0,4)\n",
    "\n",
    "ax2 = fig.add_axes([0,-0.15,1,0.1])\n",
    "ax2.hist(x, bins=15);\n",
    "ax2.set_frame_on(False)\n",
    "ax2.set_xlabel(\"Histogram\")\n",
    "\n",
    "ax3 = fig.add_axes([0,0.5,0.5,0.5])\n",
    "labels = ['<2', '>=2']\n",
    "ax3.pie([(x<2).sum(), (x>=2).sum()], labels=labels, autopct='%i%%', startangle=90);"
   ]
  },
  {
   "cell_type": "markdown",
   "metadata": {},
   "source": [
    "If we don't care about the exact position of the axes, we can use `subplots`. "
   ]
  },
  {
   "cell_type": "markdown",
   "metadata": {},
   "source": [
    "## Advanced grids\n",
    "\n",
    "There are more advanced layout managers that offer enhanced functionality. For example `subplot2grid` and `GridSpec`. You can learn more about them from the [documentation](https://matplotlib.org/tutorials/intermediate/gridspec.html)."
   ]
  },
  {
   "cell_type": "code",
   "execution_count": null,
   "metadata": {},
   "outputs": [],
   "source": [
    "fig = plt.figure()\n",
    "ax1 = plt.subplot2grid((3,3), (0,0), colspan=3)\n",
    "ax2 = plt.subplot2grid((3,3), (1,0), colspan=2)\n",
    "ax3 = plt.subplot2grid((3,3), (1,2), rowspan=2)\n",
    "ax4 = plt.subplot2grid((3,3), (2,0))\n",
    "ax5 = plt.subplot2grid((3,3), (2,1))\n",
    "fig.tight_layout()"
   ]
  },
  {
   "cell_type": "markdown",
   "metadata": {},
   "source": [
    "# Seaborn\n",
    "\n",
    "Seaborn is a Python data visualization library based on matplotlib. It provides a high-level interface for drawing attractive and informative statistical graphics while keeping the advanced configurations hidden from the user. "
   ]
  },
  {
   "cell_type": "code",
   "execution_count": null,
   "metadata": {},
   "outputs": [],
   "source": [
    "tips = sns.load_dataset('tips')\n",
    "fmri = sns.load_dataset(\"fmri\")\n",
    "iris = sns.load_dataset(\"iris\")"
   ]
  },
  {
   "cell_type": "code",
   "execution_count": null,
   "metadata": {},
   "outputs": [],
   "source": [
    "tips"
   ]
  },
  {
   "cell_type": "markdown",
   "metadata": {},
   "source": [
    "## Boxplot\n",
    "\n",
    "A box plot (or box-and-whisker plot) shows the distribution of quantitative data in a way that facilitates comparisons between variables or across levels of a categorical variable. The box shows the quartiles of the dataset while the whiskers extend to show the rest of the distribution, except for points that are determined to be “outliers” using a method that is a function of the inter-quartile range."
   ]
  },
  {
   "cell_type": "code",
   "execution_count": null,
   "metadata": {},
   "outputs": [],
   "source": [
    "sns.boxplot(x=\"day\", y=\"tip\", data=tips);"
   ]
  },
  {
   "cell_type": "markdown",
   "metadata": {},
   "source": [
    "It is also possible to use the default Seaborn formatting."
   ]
  },
  {
   "cell_type": "code",
   "execution_count": null,
   "metadata": {},
   "outputs": [],
   "source": [
    "sns.set()"
   ]
  },
  {
   "cell_type": "code",
   "execution_count": null,
   "metadata": {},
   "outputs": [],
   "source": [
    "fmri"
   ]
  },
  {
   "cell_type": "code",
   "execution_count": null,
   "metadata": {},
   "outputs": [],
   "source": [
    "sns.relplot(x=\"timepoint\", y=\"signal\", col=\"region\",\n",
    "            hue=\"event\", style=\"event\",\n",
    "            kind=\"line\", data=fmri);"
   ]
  },
  {
   "cell_type": "code",
   "execution_count": null,
   "metadata": {},
   "outputs": [],
   "source": [
    "sns.lmplot(x=\"total_bill\", y=\"tip\", col=\"time\", hue=\"smoker\", data=tips);"
   ]
  },
  {
   "cell_type": "code",
   "execution_count": null,
   "metadata": {},
   "outputs": [],
   "source": [
    "sns.catplot(x=\"day\", y=\"total_bill\", hue=\"smoker\", kind=\"swarm\", data=tips);"
   ]
  },
  {
   "cell_type": "code",
   "execution_count": null,
   "metadata": {},
   "outputs": [],
   "source": [
    "sns.catplot(x=\"day\", y=\"total_bill\", hue=\"smoker\", kind=\"violin\", split=True, data=tips);"
   ]
  },
  {
   "cell_type": "code",
   "execution_count": null,
   "metadata": {},
   "outputs": [],
   "source": [
    "sns.jointplot(x=\"sepal_length\", y=\"petal_length\", data=iris);"
   ]
  },
  {
   "cell_type": "code",
   "execution_count": null,
   "metadata": {},
   "outputs": [],
   "source": [
    "sns.pairplot(data=iris, hue=\"species\");"
   ]
  },
  {
   "cell_type": "markdown",
   "metadata": {},
   "source": [
    "## Pairwise correlations\n",
    "\n",
    "Calculating pairwise correlations is a common practice and thus has a built-in function in Pandas. `df.corr()` calculates the correlations between every pair of features in the dataset and the Seaborn method `heatmap` can make sense of the data."
   ]
  },
  {
   "cell_type": "code",
   "execution_count": null,
   "metadata": {},
   "outputs": [],
   "source": [
    "df = pd.read_csv(\"https://github.com/selva86/datasets/raw/master/mtcars.csv\")"
   ]
  },
  {
   "cell_type": "code",
   "execution_count": null,
   "metadata": {},
   "outputs": [],
   "source": [
    "df.head()"
   ]
  },
  {
   "cell_type": "code",
   "execution_count": null,
   "metadata": {},
   "outputs": [],
   "source": [
    "df.shape"
   ]
  },
  {
   "cell_type": "code",
   "execution_count": null,
   "metadata": {},
   "outputs": [],
   "source": [
    "df.corr()"
   ]
  },
  {
   "cell_type": "code",
   "execution_count": null,
   "metadata": {},
   "outputs": [],
   "source": [
    "sns.heatmap(df.corr(), cmap='RdYlBu', annot=True);"
   ]
  },
  {
   "cell_type": "markdown",
   "metadata": {},
   "source": [
    "## 3D Data"
   ]
  },
  {
   "cell_type": "code",
   "execution_count": null,
   "metadata": {},
   "outputs": [],
   "source": [
    "# defining some interesting data\n",
    "alpha = 0.7\n",
    "phi_ext = 2 * np.pi * 0.\n",
    "def flux_qubit_potential(phi_m, phi_p):\n",
    "    return 2 + alpha - 2 * np.cos(phi_p) * np.cos(phi_m) - alpha * np.cos(phi_ext - 2*phi_p)\n",
    "\n",
    "phi_m = np.linspace(0, 2*np.pi, 100)\n",
    "phi_p = np.linspace(0, 2*np.pi, 100)\n",
    "X,Y = np.meshgrid(phi_p, phi_m)\n",
    "Z = flux_qubit_potential(X, Y).T"
   ]
  },
  {
   "cell_type": "code",
   "execution_count": null,
   "metadata": {},
   "outputs": [],
   "source": [
    "fig, ax = plt.subplots()\n",
    "\n",
    "p = ax.pcolor(X/(2*np.pi), Y/(2*np.pi), Z, cmap=matplotlib.cm.RdBu, vmin=abs(Z).min(), vmax=abs(Z).max())\n",
    "cb = fig.colorbar(p, ax=ax)"
   ]
  },
  {
   "cell_type": "code",
   "execution_count": null,
   "metadata": {},
   "outputs": [],
   "source": [
    "from mpl_toolkits.mplot3d.axes3d import Axes3D\n",
    "\n",
    "fig = plt.figure(figsize=(12,6))\n",
    "\n",
    "ax = fig.add_subplot(1,2,1, projection='3d')\n",
    "ax.plot_surface(X, Y, Z, rstride=4, cstride=4, alpha=0.25)\n",
    "ax.view_init(30, 45)\n",
    "\n",
    "ax = fig.add_subplot(1,2,2, projection='3d')\n",
    "ax.plot_surface(X, Y, Z, rstride=4, cstride=4, alpha=0.25)\n",
    "ax.view_init(70, 30)"
   ]
  },
  {
   "cell_type": "code",
   "execution_count": null,
   "metadata": {},
   "outputs": [],
   "source": [
    "fig = plt.figure()\n",
    "ax = plt.axes(projection='3d')\n",
    "\n",
    "# Data for a three-dimensional line\n",
    "zline = np.linspace(0, 15, 100) \n",
    "xline = np.sin(zline)\n",
    "yline = np.cos(zline)\n",
    "ax.plot3D(xline, yline, zline, 'gray')\n",
    "\n",
    "# Data for three-dimensional scattered points\n",
    "zdata = 15 * np.random.random(100)\n",
    "xdata = np.sin(zdata) + 0.1 * np.random.randn(100)\n",
    "ydata = np.cos(zdata) + 0.1 * np.random.randn(100)\n",
    "ax.scatter3D(xline[::3], yline[::3], zline[::3], cmap='Greens', s=40);"
   ]
  },
  {
   "cell_type": "markdown",
   "metadata": {},
   "source": [
    "## Contour plots with projections"
   ]
  },
  {
   "cell_type": "code",
   "execution_count": null,
   "metadata": {},
   "outputs": [],
   "source": [
    "fig = plt.figure(figsize=(8,6))\n",
    "\n",
    "ax = fig.add_subplot(1,1,1, projection='3d')\n",
    "\n",
    "ax.plot_surface(X, Y, Z, rstride=4, cstride=4, alpha=0.25)\n",
    "cset = ax.contour(X, Y, Z, zdir='z', offset=-np.pi, cmap=matplotlib.cm.coolwarm)\n",
    "cset = ax.contour(X, Y, Z, zdir='x', offset=-np.pi, cmap=matplotlib.cm.coolwarm)\n",
    "cset = ax.contour(X, Y, Z, zdir='y', offset=3*np.pi, cmap=matplotlib.cm.coolwarm)\n",
    "\n",
    "ax.set_xlim3d(-np.pi, 2*np.pi);\n",
    "ax.set_ylim3d(0, 3*np.pi);\n",
    "ax.set_zlim3d(-np.pi, 2*np.pi);"
   ]
  },
  {
   "cell_type": "markdown",
   "metadata": {},
   "source": [
    "## Animations"
   ]
  },
  {
   "cell_type": "code",
   "execution_count": null,
   "metadata": {},
   "outputs": [],
   "source": [
    "# credit to J.R. Johansson\n",
    "from matplotlib import animation\n",
    "from scipy.integrate import odeint\n",
    "from numpy import cos, sin\n",
    "from IPython.display import HTML\n",
    "import numpy as np\n",
    "import matplotlib.pyplot as plt\n",
    "g = 9.82; L = 0.5; m = 0.1\n",
    "\n",
    "def dx(x, t):\n",
    "    x1, x2, x3, x4 = x[0], x[1], x[2], x[3]\n",
    "    \n",
    "    dx1 = 6.0/(m*L**2) * (2 * x3 - 3 * cos(x1-x2) * x4)/(16 - 9 * cos(x1-x2)**2)\n",
    "    dx2 = 6.0/(m*L**2) * (8 * x4 - 3 * cos(x1-x2) * x3)/(16 - 9 * cos(x1-x2)**2)\n",
    "    dx3 = -0.5 * m * L**2 * ( dx1 * dx2 * sin(x1-x2) + 3 * (g/L) * sin(x1))\n",
    "    dx4 = -0.5 * m * L**2 * (-dx1 * dx2 * sin(x1-x2) + (g/L) * sin(x2))\n",
    "    return [dx1, dx2, dx3, dx4]\n",
    "\n",
    "x0 = [np.pi/2, np.pi/2, 0, 0]  # initial state\n",
    "t = np.linspace(0, 10, 250) # time coordinates\n",
    "x = odeint(dx, x0, t)    # solve the ODE problem"
   ]
  },
  {
   "cell_type": "code",
   "execution_count": null,
   "metadata": {},
   "outputs": [],
   "source": [
    "# fig, ax = plt.subplots(figsize=(5,5))\n",
    "fig = plt.figure();\n",
    "ax = plt.axes();\n",
    "\n",
    "ax.set_ylim([-1.5, 0.5])\n",
    "ax.set_xlim([1, -1])\n",
    "\n",
    "pendulum1 = ax.plot([1], [1], color=\"red\", lw=2)[0]\n",
    "pendulum2 = ax.plot([1], [1], color=\"blue\", lw=2)[0]\n",
    "\n",
    "def update(n): \n",
    "#     n = frame counter\n",
    "    # calculate the positions of the pendulums\n",
    "    x1 = + L * sin(x[n, 0])\n",
    "    y1 = - L * cos(x[n, 0])\n",
    "    x2 = x1 + L * sin(x[n, 1])\n",
    "    y2 = y1 - L * cos(x[n, 1])\n",
    "    \n",
    "    # update the line data\n",
    "    pendulum1.set_data([0 ,x1], [0 ,y1])\n",
    "    pendulum2.set_data([x1,x2], [y1,y2])\n",
    "    return pendulum1, pendulum2,\n",
    "    \n",
    "anim = animation.FuncAnimation(fig, update, interval=50, frames=len(t), blit=True)\n",
    "plt.close(fig)"
   ]
  },
  {
   "cell_type": "code",
   "execution_count": null,
   "metadata": {},
   "outputs": [],
   "source": [
    "from IPython.display import HTML\n",
    "HTML(anim.to_jshtml())"
   ]
  },
  {
   "cell_type": "markdown",
   "metadata": {},
   "source": [
    "## Advanced Visualizations\n",
    "\n",
    "Many packages extend the visualization possibilities immensely. Just use Google and you will probably find something that fits your needs."
   ]
  },
  {
   "cell_type": "code",
   "execution_count": null,
   "metadata": {},
   "outputs": [],
   "source": [
    "import folium\n",
    "import folium.plugins as plugins\n",
    "import numpy as np\n",
    "\n",
    "np.random.seed(3141592)\n",
    "initial_data = (\n",
    "    np.random.normal(size=(100, 2)) * np.array([[1, 1]]) +\n",
    "    np.array([[48, 5]])\n",
    ")\n",
    "move_data = np.random.normal(size=(100, 2)) * 0.01\n",
    "data = [(initial_data + move_data * i).tolist() for i in range(100)]\n",
    "\n",
    "weight = 1  # default value\n",
    "for time_entry in data:\n",
    "    for row in time_entry:\n",
    "        row.append(weight)\n",
    "        \n",
    "m = folium.Map([48., 5.], zoom_start=6)\n",
    "hm = plugins.HeatMapWithTime(data)\n",
    "hm.add_to(m)\n",
    "m"
   ]
  },
  {
   "cell_type": "markdown",
   "metadata": {},
   "source": [
    "## Slope Chart"
   ]
  },
  {
   "cell_type": "code",
   "execution_count": null,
   "metadata": {},
   "outputs": [],
   "source": [
    "import matplotlib.lines as mlines\n",
    "# Import Data\n",
    "df = pd.read_csv(\"https://raw.githubusercontent.com/selva86/datasets/master/gdppercap.csv\")\n",
    "\n",
    "left_label = [str(c) + ', '+ str(round(y)) for c, y in zip(df.continent, df['1952'])]\n",
    "right_label = [str(c) + ', '+ str(round(y)) for c, y in zip(df.continent, df['1957'])]\n",
    "klass = ['red' if (y1-y2) < 0 else 'green' for y1, y2 in zip(df['1952'], df['1957'])]\n",
    "\n",
    "# draw line\n",
    "# https://stackoverflow.com/questions/36470343/how-to-draw-a-line-with-matplotlib/36479941\n",
    "def newline(p1, p2, color='black'):\n",
    "    ax = plt.gca()\n",
    "    l = mlines.Line2D([p1[0],p2[0]], [p1[1],p2[1]], color='red' if p1[1]-p2[1] > 0 else 'green', marker='o', markersize=6)\n",
    "    ax.add_line(l)\n",
    "    return l\n",
    "\n",
    "fig, ax = plt.subplots(1,1,figsize=(14,14), dpi= 80)\n",
    "\n",
    "# Vertical Lines\n",
    "ax.vlines(x=1, ymin=500, ymax=13000, color='black', alpha=0.7, linewidth=1, linestyles='dotted')\n",
    "ax.vlines(x=3, ymin=500, ymax=13000, color='black', alpha=0.7, linewidth=1, linestyles='dotted')\n",
    "\n",
    "# Points\n",
    "ax.scatter(y=df['1952'], x=np.repeat(1, df.shape[0]), s=10, color='black', alpha=0.7)\n",
    "ax.scatter(y=df['1957'], x=np.repeat(3, df.shape[0]), s=10, color='black', alpha=0.7)\n",
    "\n",
    "# Line Segmentsand Annotation\n",
    "for p1, p2, c in zip(df['1952'], df['1957'], df['continent']):\n",
    "    newline([1,p1], [3,p2])\n",
    "    ax.text(1-0.05, p1, c + ', ' + str(round(p1)), horizontalalignment='right', verticalalignment='center', fontdict={'size':14})\n",
    "    ax.text(3+0.05, p2, c + ', ' + str(round(p2)), horizontalalignment='left', verticalalignment='center', fontdict={'size':14})\n",
    "\n",
    "# 'Before' and 'After' Annotations\n",
    "ax.text(1-0.05, 13000, 'BEFORE', horizontalalignment='right', verticalalignment='center', fontdict={'size':18, 'weight':700})\n",
    "ax.text(3+0.05, 13000, 'AFTER', horizontalalignment='left', verticalalignment='center', fontdict={'size':18, 'weight':700})\n",
    "\n",
    "# Decoration\n",
    "ax.set_title(\"Slopechart: Comparing GDP Per Capita between 1952 vs 1957\", fontdict={'size':22})\n",
    "ax.set(xlim=(0,4), ylim=(0,14000), ylabel='Mean GDP Per Capita')\n",
    "ax.set_xticks([1,3])\n",
    "ax.set_xticklabels([\"1952\", \"1957\"])\n",
    "plt.yticks(np.arange(500, 13000, 2000), fontsize=12)\n",
    "\n",
    "# Lighten borders\n",
    "plt.gca().spines[\"top\"].set_alpha(.0)\n",
    "plt.gca().spines[\"bottom\"].set_alpha(.0)\n",
    "plt.gca().spines[\"right\"].set_alpha(.0)\n",
    "plt.gca().spines[\"left\"].set_alpha(.0)\n",
    "plt.show()\n"
   ]
  },
  {
   "cell_type": "code",
   "execution_count": null,
   "metadata": {},
   "outputs": [],
   "source": [
    "df = pd.read_csv('distribution_data.csv')"
   ]
  },
  {
   "cell_type": "code",
   "execution_count": null,
   "metadata": {},
   "outputs": [],
   "source": [
    "df.head(1)"
   ]
  },
  {
   "cell_type": "code",
   "execution_count": null,
   "metadata": {},
   "outputs": [],
   "source": [
    "data1 = df[df['ID'] == 'DNA_AA']\n",
    "data2 = df[df['ID'] == 'AA_AA']\n",
    "data3 = df[df['ID'] == 'DNA_DNA']"
   ]
  },
  {
   "cell_type": "code",
   "execution_count": null,
   "metadata": {},
   "outputs": [],
   "source": [
    "sns.distplot(data1['Zpx'], kde=False, rug=False);\n",
    "sns.distplot(data2['Zpx'], kde=False, rug=False);\n",
    "sns.distplot(data3['Zpx'], kde=False, rug=False);\n",
    "plt.legend(labels=['legendEntry1', 'legendEntry2', 'legendEntry3'])"
   ]
  },
  {
   "cell_type": "code",
   "execution_count": null,
   "metadata": {},
   "outputs": [],
   "source": [
    "plt.hist(data1['Zpx']);\n",
    "plt.xlabel(\"Zpx\")\n",
    "plt.ylabel(\"Count\")"
   ]
  },
  {
   "cell_type": "code",
   "execution_count": null,
   "metadata": {},
   "outputs": [],
   "source": [
    "fig, axes = plt.subplots(2,3, figsize=(16,8))\n",
    "axes[0,0].hist(data1['Zpx'][:200], bins = 3);\n",
    "axes[0,1].hist(data1['Zpx'][:200], bins = 8);\n",
    "axes[0,2].hist(data1['Zpx'][:200], bins = 15);\n",
    "axes[1,0].hist(data1['Zpx'][:200], bins = 25);\n",
    "axes[1,1].hist(data1['Zpx'][:200], bins = 40);\n",
    "axes[1,2].hist(data1['Zpx'][:200], bins = 100);"
   ]
  },
  {
   "cell_type": "code",
   "execution_count": null,
   "metadata": {},
   "outputs": [],
   "source": [
    "plt.rcParams[\"patch.force_edgecolor\"] = False\n",
    "plt.rcParams['figure.figsize'] = (12.0, 6.0)\n",
    "plt.hist([data1['Zpx'],data2['Zpx'],data3['Zpx']], bins = 50);\n",
    "plt.tight_layout()"
   ]
  },
  {
   "cell_type": "code",
   "execution_count": null,
   "metadata": {},
   "outputs": [],
   "source": [
    "fig, axes = plt.subplots(2,2, figsize=(20,8))\n",
    "a = np.random.randn(10000)\n",
    "b = np.random.uniform(size=10000)\n",
    "c = np.random.exponential(size=10000)\n",
    "d = np.random.poisson(4, size=10000)\n",
    "sns.boxplot(a, ax=axes[0,0])\n",
    "sns.boxplot(b, ax=axes[0,1])\n",
    "sns.boxplot(c, ax=axes[1,0])\n",
    "sns.boxplot(d, ax=axes[1,1])"
   ]
  },
  {
   "cell_type": "code",
   "execution_count": null,
   "metadata": {},
   "outputs": [],
   "source": [
    "fig, axes = plt.subplots(2,2, figsize=(20,8))\n",
    "\n",
    "sns.distplot(a, ax=axes[0,0], kde=False, axlabel='Normal')\n",
    "sns.distplot(b, ax=axes[0,1], kde=False, axlabel='Uniform')\n",
    "sns.distplot(c, ax=axes[1,0], kde=False, axlabel='Exponential')\n",
    "sns.distplot(d, ax=axes[1,1], kde=False, axlabel='Poisson')"
   ]
  },
  {
   "cell_type": "code",
   "execution_count": null,
   "metadata": {},
   "outputs": [],
   "source": [
    "fig, axes = plt.subplots(1, figsize=(20,8))\n",
    "sns.set()\n",
    "ax = sns.boxplot(x=\"Zpx\", y=\"ID\", data=df)"
   ]
  },
  {
   "cell_type": "code",
   "execution_count": null,
   "metadata": {},
   "outputs": [],
   "source": [
    "sns.stripplot(x=\"ID\", y=\"Zpx\", data=df, jitter=True, alpha=0.6)"
   ]
  },
  {
   "cell_type": "code",
   "execution_count": null,
   "metadata": {},
   "outputs": [],
   "source": [
    "params = dict(x='Zpx',\n",
    "              y='ID')\n",
    "\n",
    "p = sns.stripplot(data=df.sample(frac=0.05),\n",
    "                  size=4,\n",
    "                  jitter=0.35,\n",
    "                  palette=['#91bfdb','#fc8d59', '#59fc8d'],\n",
    "                  alpha=0.8,\n",
    "                  edgecolor='black',\n",
    "                  linewidth=1,\n",
    "                  order=[\"DNA_AA\", \"AA_AA\", \"DNA_DNA\"],\n",
    "                  **params)\n",
    "p_box = sns.boxplot(data=df, linewidth=2,**params)"
   ]
  },
  {
   "cell_type": "code",
   "execution_count": null,
   "metadata": {},
   "outputs": [],
   "source": [
    "fig, ax = plt.subplots(1, figsize=(16,8))\n",
    "sns.distplot(data1['Zpx'], hist=False)\n",
    "sns.distplot(data2['Zpx'], hist=False)\n",
    "sns.distplot(data3['Zpx'], hist=False)"
   ]
  },
  {
   "cell_type": "code",
   "execution_count": null,
   "metadata": {},
   "outputs": [],
   "source": [
    "a = tips[tips['day'] == 'Sun']\n",
    "b = tips[tips['day'] == 'Thur']\n",
    "c = tips[tips['day'] == 'Fri']\n",
    "d = tips[tips['day'] == 'Sat']\n",
    "\n",
    "fig, ax = plt.subplots(1)\n",
    "sns.distplot(a['tip'], ax=ax, hist=False)\n",
    "sns.distplot(b['tip'], ax=ax, hist=False)\n",
    "sns.distplot(c['tip'], ax=ax, hist=False)\n",
    "sns.distplot(d['tip'], ax=ax, hist=False)"
   ]
  },
  {
   "cell_type": "code",
   "execution_count": null,
   "metadata": {},
   "outputs": [],
   "source": [
    "fig, ax = plt.subplots(1)\n",
    "sns.distplot([1,2,3,4,5,6,7,8,9,10]*1000, ax=ax, hist=True, kde=False, norm_hist=True, bins=10)\n",
    "sns.distplot([1,2,3,4,5,6,7,8,9,10]*1000, ax=ax, hist=False)"
   ]
  },
  {
   "cell_type": "code",
   "execution_count": null,
   "metadata": {},
   "outputs": [],
   "source": [
    "ax = sns.barplot(x=\"day\", y=\"total_bill\", data=tips)"
   ]
  },
  {
   "cell_type": "code",
   "execution_count": null,
   "metadata": {},
   "outputs": [],
   "source": [
    "fig = plt.figure(figsize=(20,8))\n",
    "ax1 = fig.add_axes([0, 0.8, .4, .25])\n",
    "ax2 = fig.add_axes([0, 0.4, .4, .4])\n",
    "ax3 = fig.add_axes([0, 0, .4, .4])\n",
    "\n",
    "sns.distplot(df[df['ID']=='AA_AA']['Zpx'], hist=False, ax=ax1)\n",
    "sns.violinplot(x='Zpx', y='ID', data=df[df['ID']=='AA_AA'], inner='box', cut=1, ax=ax2)\n",
    "sns.boxplot(x='Zpx', y='ID', data=df[df['ID']=='AA_AA'], ax=ax3)\n",
    "\n",
    "ax1.set_ylim(-0.01,0.6)\n",
    "\n",
    "ax1.set_xlim(-4,7)\n",
    "ax2.set_xlim(-4,7)\n",
    "ax3.set_xlim(-4,7)\n",
    "\n",
    "ax1.set_xlabel(\"\")\n",
    "ax3.set_xlabel(\"\")\n",
    "\n",
    "ax1.tick_params(\n",
    "    axis='both',          # changes apply to the x-axis\n",
    "    which='both',      # both major and minor ticks are affected\n",
    "    bottom=False,      # ticks along the bottom edge are off\n",
    "    top=False,         # ticks along the top edge are off\n",
    "    left=False,\n",
    "    right=False,\n",
    "    labelleft=False,\n",
    "    labelbottom=False) # labels along the bottom edge are off\n",
    "\n",
    "ax2.tick_params(\n",
    "    axis='both',          # changes apply to the x-axis\n",
    "    which='both',      # both major and minor ticks are affected\n",
    "    bottom=False,      # ticks along the bottom edge are off\n",
    "    top=False,         # ticks along the top edge are off\n",
    "    left=False,\n",
    "    labelleft=False,\n",
    "    labelbottom=False) # labels along the bottom edge are off\n",
    "\n",
    "ax3.tick_params(\n",
    "    axis='y',          # changes apply to the x-axis\n",
    "    which='both',      # both major and minor ticks are affected\n",
    "    bottom=False,      # ticks along the bottom edge are off\n",
    "    top=False,         # ticks along the top edge are off\n",
    "    left=False,\n",
    "    labelleft=False,\n",
    "    labelbottom=False) # labels along the bottom edge are off\n",
    "\n",
    "\n",
    "ax1.grid(axis='y')\n",
    "\n"
   ]
  },
  {
   "cell_type": "code",
   "execution_count": null,
   "metadata": {},
   "outputs": [],
   "source": [
    "fig, ax = plt.subplots(1,2)\n",
    "sns.violinplot(x='ID', y='Zpx', data=df[df['ID']=='AA_AA'], inner='box', cut=1, ax=ax[1])\n",
    "sns.boxplot(x='ID', y='Zpx', data=df[df['ID']=='AA_AA'], ax=ax[0])\n",
    "plt.tight_layout()"
   ]
  },
  {
   "cell_type": "code",
   "execution_count": null,
   "metadata": {},
   "outputs": [],
   "source": [
    "from matplotlib import pyplot\n",
    "from mpl_toolkits.mplot3d import Axes3D\n",
    "import random\n",
    "%matplotlib notebook\n",
    "\n",
    "fig, ax1 = plt.subplots(1)\n",
    "ax = Axes3D(fig)\n",
    "\n",
    "setosa = iris[iris['species'] == 'setosa']\n",
    "versic = iris[iris['species'] == 'versicolor']\n",
    "virgin = iris[iris['species'] == 'virginica']\n",
    "\n",
    "ax.scatter(setosa['petal_length'], \n",
    "           setosa['sepal_length'], \n",
    "           c='grey',\n",
    "          depthshade=True)\n",
    "\n",
    "ax.scatter(versic['petal_length'], \n",
    "           versic['sepal_length'], \n",
    "           c='grey',\n",
    "          depthshade=True)\n",
    "\n",
    "ax.scatter(virgin['petal_length'], \n",
    "           virgin['sepal_length'], \n",
    "           c='grey',\n",
    "          depthshade=True)\n",
    "\n",
    "\n",
    "ax.scatter(setosa['petal_length'], \n",
    "           setosa['sepal_length'], \n",
    "           setosa['sepal_width'], \n",
    "           c='blue', depthshade=True)\n",
    "\n",
    "ax.scatter(versic['petal_length'], \n",
    "           versic['sepal_length'], \n",
    "           versic['sepal_width'], \n",
    "           c='red', depthshade=True)\n",
    "\n",
    "ax.scatter(virgin['petal_length'], \n",
    "           virgin['sepal_length'], \n",
    "           virgin['sepal_width'], \n",
    "           c='green', depthshade=True)\n",
    "\n",
    "ax.set_xlabel(\"Petal Length\")\n",
    "ax.set_ylabel(\"Sepal Length\")\n",
    "ax.set_zlabel(\"Sepal Width\")"
   ]
  },
  {
   "cell_type": "code",
   "execution_count": null,
   "metadata": {},
   "outputs": [],
   "source": []
  }
 ],
 "metadata": {
  "kernelspec": {
   "display_name": "Python 3 (ipykernel)",
   "language": "python",
   "name": "python3"
  },
  "language_info": {
   "codemirror_mode": {
    "name": "ipython",
    "version": 3
   },
   "file_extension": ".py",
   "mimetype": "text/x-python",
   "name": "python",
   "nbconvert_exporter": "python",
   "pygments_lexer": "ipython3",
   "version": "3.10.0"
  }
 },
 "nbformat": 4,
 "nbformat_minor": 4
}
