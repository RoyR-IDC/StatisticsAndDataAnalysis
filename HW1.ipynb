{
 "cells": [
  {
   "cell_type": "markdown",
   "metadata": {},
   "source": [
    "### IDs:\n",
    "Insert yours IDs to the cell below"
   ]
  },
  {
   "cell_type": "markdown",
   "metadata": {},
   "source": [
    "ID #1: 203972922\n",
    "\n",
    "ID #2: 201312907 \n"
   ]
  },
  {
   "cell_type": "markdown",
   "metadata": {},
   "source": [
    "## Read the following instructions carefully:\n",
    "\n",
    "1. This jupyter notebook contains all the step by step instructions needed for this exercise.\n",
    "1. You are free to add cells.\n",
    "1. Write your functions and your answers in this jupyter notebook only.\n",
    "1. Answers to theoretical questions should be written in **markdown cells (with $\\LaTeX$ support)**.\n",
    "1. Submit this jupyter notebook only using your ID as a filename. Not to use ZIP or RAR. For example, your Moodle submission file name should look like this (two id numbers): `123456789_987654321.ipynb`."
   ]
  },
  {
   "cell_type": "markdown",
   "metadata": {},
   "source": [
    "### Question 1 - Defective products"
   ]
  },
  {
   "cell_type": "markdown",
   "metadata": {},
   "source": [
    "In a manufacturing pipeline products are 3% defective. We are interested in examining a defective product to see what goes wrong on the belt. We need to ask the facility manager to send us a set of independent samples for examination."
   ]
  },
  {
   "cell_type": "markdown",
   "metadata": {},
   "source": [
    "#### 1.A\n",
    "\n",
    "How many independent samples should we ask for in order to have a 85% probability of having at least one defective product in the batch sent? You should write a function."
   ]
  },
  {
   "cell_type": "markdown",
   "metadata": {},
   "source": [
    "## Imports"
   ]
  },
  {
   "cell_type": "code",
   "execution_count": null,
   "metadata": {},
   "outputs": [],
   "source": [
    "import pandas as pd\n",
    "import numpy as np\n",
    "import matplotlib.pyplot as plt\n",
    "import math\n",
    "import scipy\n",
    "from scipy.stats import binom\n"
   ]
  },
  {
   "cell_type": "markdown",
   "metadata": {},
   "source": [
    "##  Answer:\n",
    "* because the sampels are independent we can say that:\n",
    "    * $$ T = \\sum_{k=0}^n{X_{k}}   $$ \n",
    "    * $$ P(T) = p^n $$\n",
    "* \n",
    "<br> $$ P_{almost-1-defect}= P(n>=1) = 1-P(n<1) = 1- P_{not-defect}^N$$<br>\n",
    "<br> $$  P_{not-defect}^N = 1-P_{almost-1-defect} $$ <br>\n",
    "<br> $$ log_{not-defect}(1-P_{almost-1-defect}) = N $$ <br>\n",
    "\n"
   ]
  },
  {
   "cell_type": "code",
   "execution_count": null,
   "metadata": {},
   "outputs": [],
   "source": [
    "# we want to define new randum variable as the sum of N variable and use the fact that they are independent\n",
    "def calculate_the_amount_of_independent_samples_2_get_almost_one_defect(goal_probability, defect_prob):\n",
    "    prob_2_not_achieve_defect = 1-goal_probability\n",
    "    non_defect_prob = 1-defect_prob\n",
    "    amount_of_independent_samples = int(math.ceil((math.log(prob_2_not_achieve_defect, non_defect_prob))))\n",
    "    print('The amount of independent samples is '+ str(amount_of_independent_samples))"
   ]
  },
  {
   "cell_type": "code",
   "execution_count": null,
   "metadata": {},
   "outputs": [],
   "source": [
    "# initial info \n",
    "defect_prob = 0.03\n",
    "goal_probability = 0.85\n",
    "min_amount_of_defect = 1\n",
    "\n",
    "calculate_the_amount_of_independent_samples_2_get_almost_one_defect(goal_probability, defect_prob)"
   ]
  },
  {
   "cell_type": "markdown",
   "metadata": {},
   "source": [
    "## The sums of independent variable set as:\n",
    "\n"
   ]
  },
  {
   "cell_type": "markdown",
   "metadata": {},
   "source": [
    "#### 1.B\n",
    "Answer this part again with the following changes: products are 4% defective and we want a 95% probability of at least one defective product in the batch."
   ]
  },
  {
   "cell_type": "code",
   "execution_count": null,
   "metadata": {},
   "outputs": [],
   "source": [
    "# initial info \n",
    "defect_prob = 0.04\n",
    "goal_probability = 0.95\n",
    "min_amount_of_defect = 1\n",
    "calculate_the_amount_of_independent_samples_2_get_almost_one_defect(goal_probability, defect_prob)\n"
   ]
  },
  {
   "cell_type": "markdown",
   "metadata": {},
   "source": [
    "#### 1.C \n",
    "\n",
    "Consider the following cases and calculate how many independent samples are required: \n",
    "\n",
    "1. Products are 10% defective and we want a 90% probability of at least 5 defective products in the batch.\n",
    "1. Products are 30% defective and we want a 90% probability of at least 15 defective products in the batch.\n",
    "\n",
    "Explain the difference between the two results. You should use mathematical reasoning based on the properties of distributions you saw in class and visualizations in your answer."
   ]
  },
  {
   "cell_type": "markdown",
   "metadata": {},
   "source": [
    "## First  Case:\n",
    "* Products are 10% defective and we want a 90% probability of at least 5 defective products in the batch"
   ]
  },
  {
   "cell_type": "markdown",
   "metadata": {},
   "source": [
    "<br> $$ P_{almost-5-defect}= P(n>=k) = 1-P(n<k) = 1- \\sum_{k=1}^{k-1}B(n,k,p) $$<br>\n"
   ]
  },
  {
   "cell_type": "code",
   "execution_count": null,
   "metadata": {},
   "outputs": [],
   "source": [
    "def evaluate_the_amount_of_independent_samples_2_get_almost_k_defects(desire_amount_of_defect, defect_prob, goal_probability):\n",
    "    # reset amount independet variables\n",
    "    num_of_samples = 1\n",
    "    list_of_probability = []\n",
    "    list_of_amount_of_independent_sampels = []\n",
    "    while True:\n",
    "        \n",
    "        p = 1 - sum([binom.pmf(number_of_defects, num_of_samples, defect_prob) for number_of_defects in range(desire_amount_of_defect)])\n",
    "        \n",
    "        # vallidate if achieve the desire prob'\n",
    "        list_of_probability.append(p)\n",
    "        list_of_amount_of_independent_sampels.append(num_of_samples)\n",
    "        if p >= goal_probability:\n",
    "            break\n",
    "        else:\n",
    "            # increase the amout of sampels\n",
    "            num_of_samples+=1\n",
    "            continue\n",
    "    print('The amount of independent samples is '+str(num_of_samples))\n",
    "    return list_of_probability, list_of_amount_of_independent_sampels\n"
   ]
  },
  {
   "cell_type": "code",
   "execution_count": null,
   "metadata": {},
   "outputs": [],
   "source": [
    "# initial info \n",
    "\n",
    "defect_prob = 0.1\n",
    "goal_probability = 0.9\n",
    "desire_amount_of_defect = 5    \n",
    "dumm,dumm123 = evaluate_the_amount_of_independent_samples_2_get_almost_k_defects(desire_amount_of_defect, defect_prob,goal_probability)"
   ]
  },
  {
   "cell_type": "markdown",
   "metadata": {},
   "source": [
    "## Secound  Case:\n",
    "* Products are 30% defective and we want a 90% probability of at least 15 defective products in the batch"
   ]
  },
  {
   "cell_type": "code",
   "execution_count": null,
   "metadata": {},
   "outputs": [],
   "source": [
    "# initial info \n",
    "defect_prob = 0.3\n",
    "goal_probability = 0.9\n",
    "desire_amount_of_defect = 15\n",
    "dumm,dumm123 = evaluate_the_amount_of_independent_samples_2_get_almost_k_defects(desire_amount_of_defect, defect_prob,goal_probability)"
   ]
  },
  {
   "cell_type": "markdown",
   "metadata": {},
   "source": [
    "## Explaination \n",
    "* the difference between the two results are:\n",
    "    * math\n",
    "    * math"
   ]
  },
  {
   "cell_type": "code",
   "execution_count": null,
   "metadata": {},
   "outputs": [],
   "source": [
    "defect_prob = 0.1\n",
    "goal_probability = 0.9\n",
    "desire_amount_of_defect = 5  \n",
    "x1,y1 = evaluate_the_amount_of_independent_samples_2_get_almost_k_defects(desire_amount_of_defect, defect_prob, 1)\n",
    "defect_prob = 0.3\n",
    "goal_probability = 0.9\n",
    "desire_amount_of_defect = 15\n",
    "x2,y2 = evaluate_the_amount_of_independent_samples_2_get_almost_k_defects(desire_amount_of_defect, defect_prob, 1)\n",
    "plt.close()\n",
    "\n",
    "plt.plot(y1, x1, '--', 'g', label='Case1')\n",
    "plt.plot(y2, x2, ':', 'b', label='Case2')\n",
    "plt.grid()\n",
    "plt.title('The amount of sampels as function of the probability')\n",
    "plt.ylabel('Probability')\n",
    "plt.xlabel('# Samples')\n",
    "plt.legend()\n",
    "plt.xlim(0,100)\n",
    "\n"
   ]
  },
  {
   "cell_type": "markdown",
   "metadata": {},
   "source": [
    "### Question 2 - Rent distributions in Randomistan"
   ]
  },
  {
   "cell_type": "markdown",
   "metadata": {},
   "source": [
    "The state of Randomistan conducted a survey to study the distribution of rent paid in two neighboring towns, Stochastic Heights and Random Grove, to be denoted SH and RG.<br> \n",
    "\n",
    "Here are some findings of the survey:\n",
    "* The population of SH and RG is 16,000 and 22,000 respectively. <br>\n",
    "* The mean rent in SH and RG is 6300RCU and 4200RCU respectively.\n",
    "* The median rent is 4600RCU in both towns.\n",
    "* The IQR of the rent is smaller in SH than in RG.\n",
    "\n",
    "All data generated in this question needs to be consistent with these findings."
   ]
  },
  {
   "cell_type": "markdown",
   "metadata": {},
   "source": [
    "#### 2.A\n",
    "Draw histograms that describe 2 different scenarii of possible distributions of rent in the two towns.\u000b",
    "Your histograms should:<br>\n",
    "* Use bins of 100RCU each.\n",
    "* Have at least 10 non zero bins."
   ]
  },
  {
   "cell_type": "code",
   "execution_count": null,
   "metadata": {},
   "outputs": [],
   "source": [
    "population_sh = 16e3\n",
    "population_rg  = 22e3\n",
    "mean_sh = 16e3\n",
    "mean_rg  = 22e3\n",
    "median_rent = 46e2\n",
    "\n",
    "bins_size = 100 # needs to verify that there are at least 10 non zeros points \n",
    "\n",
    "\n"
   ]
  },
  {
   "cell_type": "markdown",
   "metadata": {},
   "source": [
    "#### 2.B\n",
    "Draw a histogram of a third scenario with the same properties. <br>\n",
    "In addition, in this scenario the rent in SH should have a higher variance than the rent in RG."
   ]
  },
  {
   "cell_type": "code",
   "execution_count": null,
   "metadata": {},
   "outputs": [],
   "source": []
  },
  {
   "cell_type": "markdown",
   "metadata": {},
   "source": [
    "The survey also examined the per household income (PHI) in these two places.<br>\n",
    "\n",
    "It found that:<br>\n",
    "* The mean of PHI in SH is 12500 and in RG is 8500.\n",
    "* The median is 12000 in SH and 8000 in RG.\n",
    "* The covariance of the rent and the PHI was observed to be as in the formula below with $\\alpha=97\\%$ and $\\alpha=89\\%$ in SH and in RG respectively.<br><br>\n",
    "$$Cov(rent, PHI) = \\alpha * \\sqrt{Var(rent)} * \\sqrt{Var(PHI)}$$\n",
    "\n",
    "#### 2.C\n",
    "Produce rent and PHI data for the two cities, that is consistent with these findings. The covariances in your data can deviate by up to 1% from the numbers given $\\alpha$."
   ]
  },
  {
   "cell_type": "code",
   "execution_count": null,
   "metadata": {},
   "outputs": [],
   "source": [
    "mean_ph = 125e2\n",
    "mean_sh  = 85e2\n",
    "median_ph = 12e3\n",
    "median_sh  = 8e3\n",
    "alpha_rate = [0.89,0.97]\n",
    "covariances_deviate_percent = 0.01\n",
    "\n",
    "\n"
   ]
  },
  {
   "cell_type": "markdown",
   "metadata": {},
   "source": [
    "#### 2.D\n",
    "Produce two heatmaps that describe these two bivariate joint distributions. Make sure you carefully consider the selected binning resolution."
   ]
  },
  {
   "cell_type": "code",
   "execution_count": null,
   "metadata": {},
   "outputs": [],
   "source": []
  },
  {
   "cell_type": "markdown",
   "metadata": {},
   "source": [
    "### Question 3 - Multinomial Distributions\n",
    "\n",
    "1. Let $X \\sim Multinomial(n,\\vec{p})$ be a multinomial random variable where $n=20$ and $\\vec{p} = (0.2,  0.1,  0.1,  0.1,  0.2,  0.3)$. Note that X is a vector of counts.\n",
    "\n",
    "\n",
    "2. Let $Y = X_2 + X_3 + X_4$ be a random variable.\n",
    "\n",
    "\n",
    "3. Create $k=100$ experiments where $X$ is sampled using Python. Calculate the empirical centralized third moment of $Y$ based on your $k$ experiments.\n",
    "\n",
    "\n",
    "4. Compare your result to the calculation in class for the centralized third moment of the **binomial** distribution and explain your observation."
   ]
  },
  {
   "cell_type": "code",
   "execution_count": 3,
   "metadata": {},
   "outputs": [
    {
     "name": "stdout",
     "output_type": "stream",
     "text": [
      "Collecting scipy\n",
      "  Downloading scipy-1.7.2-cp310-cp310-macosx_10_9_x86_64.whl (33.2 MB)\n",
      "     |████████████████████████████████| 33.2 MB 1.9 MB/s            \n",
      "\u001b[?25hRequirement already satisfied: numpy<1.23.0,>=1.16.5 in /Library/Frameworks/Python.framework/Versions/3.10/lib/python3.10/site-packages (from scipy) (1.21.3)\n",
      "Installing collected packages: scipy\n",
      "Successfully installed scipy-1.7.2\n"
     ]
    }
   ],
   "source": [
    "# !pip install scipy\n",
    "# !pip3 install scipy\n",
    "import sys\n",
    "!{sys.executable} -m pip install scipy"
   ]
  },
  {
   "cell_type": "code",
   "execution_count": 9,
   "metadata": {},
   "outputs": [
    {
     "name": "stdout",
     "output_type": "stream",
     "text": [
      "size of X vector is 6\n",
      "experiments_vector is:\n",
      " [[8 1 1 0 3 7]\n",
      " [7 6 0 0 4 3]\n",
      " [3 5 0 5 3 4]\n",
      " [6 1 2 3 1 7]\n",
      " [7 0 3 2 1 7]\n",
      " [2 5 1 0 4 8]\n",
      " [6 3 3 1 3 4]\n",
      " [8 1 2 0 5 4]\n",
      " [6 2 0 2 7 3]\n",
      " [2 6 1 1 6 4]]\n",
      "\n",
      "df.head() is:\n",
      "   X1  X2  X3  X4  X5  X6\n",
      "0   8   1   1   0   3   7\n",
      "1   7   6   0   0   4   3\n",
      "2   3   5   0   5   3   4\n",
      "3   6   1   2   3   1   7\n",
      "4   7   0   3   2   1   7\n",
      "5   2   5   1   0   4   8\n",
      "6   6   3   3   1   3   4\n",
      "7   8   1   2   0   5   4\n",
      "8   6   2   0   2   7   3\n",
      "9   2   6   1   1   6   4\n",
      "\n",
      "df.head() with Y is:\n",
      "   X2  X3  X4   Y\n",
      "0   1   1   0   2\n",
      "1   6   0   0   6\n",
      "2   5   0   5  10\n",
      "3   1   2   3   6\n",
      "4   0   3   2   5\n",
      "5   5   1   0   6\n",
      "6   3   3   1   7\n",
      "7   1   2   0   3\n",
      "8   2   0   2   4\n",
      "9   6   1   1   8\n",
      "\n",
      "Y is:\n",
      "[2, 6, 10, 6, 5, 6, 7, 3, 4, 8]\n",
      "\n",
      "result 1.8359999999999979\n"
     ]
    }
   ],
   "source": [
    "k = 100\n",
    "n = 20\n",
    "p = [0.2,0.1,0.1,0.1,0.2,0.3]\n",
    "print(f'size of X vector is {len(p)}')\n",
    "\n",
    "experiments = 10  #should be 100\n",
    "\n",
    "#TODO: LESADER LATER\n",
    "import numpy as np\n",
    "experiments_vector = np.random.multinomial(n=n, pvals=p, size=experiments)\n",
    "print(f'experiments_vector is:\\n {experiments_vector}')\n",
    "\n",
    "#SHAKUL\n",
    "import pandas as pd\n",
    "df = pd.DataFrame(experiments_vector, columns=['X1','X2','X3','X4','X5','X6'])\n",
    "print(f'\\ndf.head() is:\\n{df.head(10)}')\n",
    "\n",
    "df['Y'] = df['X2'] + df['X3'] + df['X4']\n",
    "df.drop(columns=['X1','X5','X6'], inplace=True)\n",
    "print(f'\\ndf.head() with Y is:\\n{df.head(10)}')\n",
    "\n",
    "Y = df['Y'].tolist()\n",
    "print(f'\\nY is:\\n{Y}')\n",
    "\n",
    "from scipy.stats import moment\n",
    "result = moment(Y, moment=3)\n",
    "print(f'\\nresult {result}')\n",
    "\n",
    "# from scipy.stats import multinomial\n",
    "# rv = multinomial(n=n, p=p)\n",
    "\n"
   ]
  },
  {
   "cell_type": "markdown",
   "metadata": {},
   "source": [
    "### Question 4 - Covariance and independence"
   ]
  },
  {
   "cell_type": "markdown",
   "metadata": {},
   "source": [
    "What is the variance of the sum X +Y + Z of three random variables in terms of the variances of X, Y and Z and the covariances between each pair of random variables? What happens if X,Y,Z are pairwise independent? If X,Y,Z are pairwise independent, are they necessarily collectively independent? Prove your answer."
   ]
  },
  {
   "cell_type": "code",
   "execution_count": null,
   "metadata": {},
   "outputs": [],
   "source": [
    "see end of lecture 3"
   ]
  },
  {
   "cell_type": "markdown",
   "metadata": {},
   "source": [
    "### Question 5 - Convolutions"
   ]
  },
  {
   "cell_type": "markdown",
   "metadata": {},
   "source": [
    "#### 5.A\n",
    "Write a program, `Q = NFoldConv(P , n)`, that takes as input:\n",
    "* A distribution, P, of a random variable that takes finitely many integer values\n",
    "* An integer n\n",
    "\n",
    "and produces the distribution, Q, of the sum of n independent repeats of random variables, each of which has the distribution P."
   ]
  },
  {
   "cell_type": "code",
   "execution_count": null,
   "metadata": {},
   "outputs": [],
   "source": []
  },
  {
   "cell_type": "markdown",
   "metadata": {},
   "source": [
    "#### 5.B\n",
    "Compute the distribution of the sum of the results of rolling a fair octahedron 17 times.\n",
    "\n",
    "<img src=\"https://upload.wikimedia.org/wikipedia/commons/2/27/Octahedron.jpg\" width=\"200\">\n"
   ]
  },
  {
   "cell_type": "code",
   "execution_count": null,
   "metadata": {},
   "outputs": [],
   "source": []
  }
 ],
 "metadata": {
  "kernelspec": {
   "display_name": "Python 3 (ipykernel)",
   "language": "python",
   "name": "python3"
  },
  "language_info": {
   "codemirror_mode": {
    "name": "ipython",
    "version": 3
   },
   "file_extension": ".py",
   "mimetype": "text/x-python",
   "name": "python",
   "nbconvert_exporter": "python",
   "pygments_lexer": "ipython3",
   "version": "3.10.0"
  }
 },
 "nbformat": 4,
 "nbformat_minor": 4
}
