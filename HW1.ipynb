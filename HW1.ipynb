{
 "cells": [
  {
   "cell_type": "markdown",
   "metadata": {},
   "source": [
    "### IDs:\n",
    "Insert yours IDs to the cell below"
   ]
  },
  {
   "cell_type": "markdown",
   "metadata": {
    "tags": []
   },
   "source": [
    "ID #1: 203972922\n",
    "\n",
    "ID #2: 201312907 \n"
   ]
  },
  {
   "cell_type": "markdown",
   "metadata": {},
   "source": [
    "## Read the following instructions carefully:\n",
    "\n",
    "1. This jupyter notebook contains all the step by step instructions needed for this exercise.\n",
    "1. You are free to add cells.\n",
    "1. Write your functions and your answers in this jupyter notebook only.\n",
    "1. Answers to theoretical questions should be written in **markdown cells (with $\\LaTeX$ support)**.\n",
    "1. Submit this jupyter notebook only using your ID as a filename. Not to use ZIP or RAR. For example, your Moodle submission file name should look like this (two id numbers): `123456789_987654321.ipynb`."
   ]
  },
  {
   "cell_type": "markdown",
   "metadata": {},
   "source": [
    "## Imports"
   ]
  },
  {
   "cell_type": "code",
   "execution_count": 103,
   "metadata": {},
   "outputs": [
    {
     "name": "stdout",
     "output_type": "stream",
     "text": [
      "Requirement already satisfied: tabulate in c:\\users\\or livne\\anaconda\\lib\\site-packages (0.8.9)\n",
      "Requirement already satisfied: seaborn in c:\\users\\or livne\\anaconda\\lib\\site-packages (0.11.1)\n",
      "Requirement already satisfied: scipy>=1.0 in c:\\users\\or livne\\anaconda\\lib\\site-packages (from seaborn) (1.6.2)\n",
      "Requirement already satisfied: matplotlib>=2.2 in c:\\users\\or livne\\anaconda\\lib\\site-packages (from seaborn) (3.3.4)\n",
      "Requirement already satisfied: pandas>=0.23 in c:\\users\\or livne\\anaconda\\lib\\site-packages (from seaborn) (1.2.4)\n",
      "Requirement already satisfied: numpy>=1.15 in c:\\users\\or livne\\anaconda\\lib\\site-packages (from seaborn) (1.20.1)\n",
      "Requirement already satisfied: python-dateutil>=2.1 in c:\\users\\or livne\\anaconda\\lib\\site-packages (from matplotlib>=2.2->seaborn) (2.8.1)\n",
      "Requirement already satisfied: kiwisolver>=1.0.1 in c:\\users\\or livne\\anaconda\\lib\\site-packages (from matplotlib>=2.2->seaborn) (1.3.1)\n",
      "Requirement already satisfied: cycler>=0.10 in c:\\users\\or livne\\anaconda\\lib\\site-packages (from matplotlib>=2.2->seaborn) (0.10.0)\n",
      "Requirement already satisfied: pillow>=6.2.0 in c:\\users\\or livne\\anaconda\\lib\\site-packages (from matplotlib>=2.2->seaborn) (8.2.0)\n",
      "Requirement already satisfied: pyparsing!=2.0.4,!=2.1.2,!=2.1.6,>=2.0.3 in c:\\users\\or livne\\anaconda\\lib\\site-packages (from matplotlib>=2.2->seaborn) (2.4.7)\n",
      "Requirement already satisfied: six in c:\\users\\or livne\\anaconda\\lib\\site-packages (from cycler>=0.10->matplotlib>=2.2->seaborn) (1.15.0)\n",
      "Requirement already satisfied: pytz>=2017.3 in c:\\users\\or livne\\anaconda\\lib\\site-packages (from pandas>=0.23->seaborn) (2021.1)\n"
     ]
    }
   ],
   "source": [
    "! pip install tabulate\n",
    "! pip install seaborn\n",
    "#!{sys.executable} -m pip install scipy\n",
    "\n",
    "import pandas as pd\n",
    "import numpy as np\n",
    "np.random.seed(0)  # for consistency in different experiments !\n",
    "import matplotlib.pyplot as plt\n",
    "import math\n",
    "import scipy\n",
    "from scipy.stats import binom\n",
    "import sys\n",
    "import pandas as pd\n",
    "from scipy.stats import moment\n",
    "from scipy.stats import iqr as scipy_iqr\n",
    "import seaborn as sns\n",
    "from scipy.stats import nbinom"
   ]
  },
  {
   "cell_type": "markdown",
   "metadata": {},
   "source": [
    "### Question 1 - Defective products"
   ]
  },
  {
   "cell_type": "markdown",
   "metadata": {},
   "source": [
    "In a manufacturing pipeline products are 3% defective. We are interested in examining a defective product to see what goes wrong on the belt. We need to ask the facility manager to send us a set of independent samples for examination."
   ]
  },
  {
   "cell_type": "markdown",
   "metadata": {},
   "source": [
    "#### 1.A\n",
    "\n",
    "How many independent samples should we ask for in order to have a 85% probability of having at least one defective product in the batch sent? You should write a function."
   ]
  },
  {
   "cell_type": "markdown",
   "metadata": {},
   "source": [
    "###  Answer:"
   ]
  },
  {
   "cell_type": "markdown",
   "metadata": {},
   "source": [
    "* we want to calculate the number of samples N.\n",
    "* we will derive N by analyzing the $ P_{at-least-1-defect} $\n",
    "\n",
    "<br> $$ P_{at-least-1-defect} = 1- P_{all-not-defect} = 1- P_({not-defect})^N $$<br>\n",
    "\n",
    "<br> $$  P_{not-defect}^N = 1-P_{at-least-1-defect} $$<br>\n",
    "\n",
    "<br> $$ log_{not-defect}(1-P_{at-least-1-defect}) = N $$<br>"
   ]
  },
  {
   "cell_type": "code",
   "execution_count": 104,
   "metadata": {},
   "outputs": [],
   "source": [
    "# we want to define new randum variable as the sum of N variable and use the fact that they are independent\n",
    "def calculate_the_amount_of_independent_samples_2_get_almost_one_defect(goal_probability, defect_prob):\n",
    "    prob_2_not_achieve_defect = 1-goal_probability\n",
    "    non_defect_prob = 1-defect_prob\n",
    "    amount_of_independent_samples = int(math.ceil((math.log(prob_2_not_achieve_defect, non_defect_prob))))\n",
    "    print('The amount of independent samples is '+ str(amount_of_independent_samples))"
   ]
  },
  {
   "cell_type": "code",
   "execution_count": 105,
   "metadata": {},
   "outputs": [
    {
     "name": "stdout",
     "output_type": "stream",
     "text": [
      "The amount of independent samples is 63\n"
     ]
    }
   ],
   "source": [
    "# initial info \n",
    "defect_prob = 0.03\n",
    "goal_probability = 0.85\n",
    "min_amount_of_defect = 1\n",
    "\n",
    "calculate_the_amount_of_independent_samples_2_get_almost_one_defect(goal_probability, defect_prob)"
   ]
  },
  {
   "cell_type": "markdown",
   "metadata": {},
   "source": [
    "## The sums of independent variable set as:\n",
    "\n"
   ]
  },
  {
   "cell_type": "markdown",
   "metadata": {},
   "source": [
    "#### 1.B\n",
    "Answer this part again with the following changes: products are 4% defective and we want a 95% probability of at least one defective product in the batch."
   ]
  },
  {
   "cell_type": "code",
   "execution_count": 106,
   "metadata": {},
   "outputs": [
    {
     "name": "stdout",
     "output_type": "stream",
     "text": [
      "The amount of independent samples is 74\n"
     ]
    }
   ],
   "source": [
    "# initial info \n",
    "defect_prob = 0.04\n",
    "goal_probability = 0.95\n",
    "min_amount_of_defect = 1\n",
    "calculate_the_amount_of_independent_samples_2_get_almost_one_defect(goal_probability, defect_prob)\n"
   ]
  },
  {
   "cell_type": "markdown",
   "metadata": {},
   "source": [
    "#### 1.C \n",
    "\n",
    "Consider the following cases and calculate how many independent samples are required: \n",
    "\n",
    "1. Products are 10% defective and we want a 90% probability of at least 5 defective products in the batch.\n",
    "1. Products are 30% defective and we want a 90% probability of at least 15 defective products in the batch.\n",
    "\n",
    "Explain the difference between the two results. You should use mathematical reasoning based on the properties of distributions you saw in class and visualizations in your answer."
   ]
  },
  {
   "cell_type": "code",
   "execution_count": 107,
   "metadata": {},
   "outputs": [],
   "source": [
    "def evaluate_the_amount_of_independent_samples_2_get_almost_k_defects(desire_amount_of_defect, defect_prob, goal_probability):\n",
    "    # reset amount independet variables\n",
    "    num_of_samples = 1\n",
    "    list_of_probability = []\n",
    "    list_of_amount_of_independent_sampels = []\n",
    "    while True:\n",
    "        \n",
    "        p = 1 - sum([binom.pmf(number_of_defects, num_of_samples, defect_prob) for number_of_defects in range(desire_amount_of_defect)])\n",
    "        \n",
    "        # vallidate if achieve the desire prob'\n",
    "        list_of_probability.append(p)\n",
    "        list_of_amount_of_independent_sampels.append(num_of_samples)\n",
    "        if p >= goal_probability:\n",
    "            break\n",
    "        else:\n",
    "            # increase the amout of sampels\n",
    "            num_of_samples+=1\n",
    "            continue\n",
    "    print('The amount of independent samples is ' + str(num_of_samples))\n",
    "    print('Mean of list_of_probability is ' + str(np.mean(list_of_probability)))\n",
    "    print('Variance of list_of_probability is ' + str(np.var(list_of_probability)))\n",
    "    print('Mean of list_of_amount_of_independent_sampels is ' + str(np.mean(list_of_amount_of_independent_sampels)))\n",
    "    print('Variance of list_of_amount_of_independent_sampels is ' + str(np.var(list_of_amount_of_independent_sampels)))\n",
    "    return list_of_probability, list_of_amount_of_independent_sampels\n"
   ]
  },
  {
   "cell_type": "markdown",
   "metadata": {},
   "source": [
    "### First  Case:\n",
    "* Products are 10% defective and we want a 90% probability of at least 5 defective products in the batch"
   ]
  },
  {
   "cell_type": "code",
   "execution_count": 108,
   "metadata": {},
   "outputs": [
    {
     "name": "stdout",
     "output_type": "stream",
     "text": [
      "The amount of independent samples is 78\n",
      "Mean of list_of_probability is 0.39047347957255407\n",
      "Variance of list_of_probability is 0.1061167973596451\n",
      "Mean of list_of_amount_of_independent_sampels is 39.5\n",
      "Variance of list_of_amount_of_independent_sampels is 506.9166666666667\n"
     ]
    }
   ],
   "source": [
    "defect_prob = 0.1\n",
    "goal_probability = 0.9\n",
    "desire_amount_of_defect = 5    \n",
    "y1,x1 = evaluate_the_amount_of_independent_samples_2_get_almost_k_defects(desire_amount_of_defect, defect_prob,goal_probability)"
   ]
  },
  {
   "cell_type": "markdown",
   "metadata": {},
   "source": [
    "### Second  Case:\n",
    "* Products are 30% defective and we want a 90% probability of at least 15 defective products in the batch"
   ]
  },
  {
   "cell_type": "code",
   "execution_count": 109,
   "metadata": {},
   "outputs": [
    {
     "name": "stdout",
     "output_type": "stream",
     "text": [
      "The amount of independent samples is 64\n",
      "Mean of list_of_probability is 0.24370052041879908\n",
      "Variance of list_of_probability is 0.09881575611289588\n",
      "Mean of list_of_amount_of_independent_sampels is 32.5\n",
      "Variance of list_of_amount_of_independent_sampels is 341.25\n"
     ]
    }
   ],
   "source": [
    "defect_prob = 0.3\n",
    "goal_probability = 0.9\n",
    "desire_amount_of_defect = 15\n",
    "y2,x2 = evaluate_the_amount_of_independent_samples_2_get_almost_k_defects(desire_amount_of_defect, defect_prob,goal_probability)"
   ]
  },
  {
   "cell_type": "code",
   "execution_count": 110,
   "metadata": {},
   "outputs": [
    {
     "data": {
      "text/plain": [
       "Text(0.5, 1.0, 'The amount of sampels as function of the probability')"
      ]
     },
     "execution_count": 110,
     "metadata": {},
     "output_type": "execute_result"
    },
    {
     "data": {
      "image/png": "[encoded data removed]",
      "text/plain": [
       "<Figure size 432x288 with 1 Axes>"
      ]
     },
     "metadata": {
      "needs_background": "light"
     },
     "output_type": "display_data"
    }
   ],
   "source": [
    "data_df = pd.DataFrame()\n",
    "data_df['Probability'] =y1\n",
    "data_df['# Samples'] =x1\n",
    "data_df['Case'] ='Case 1'\n",
    "data_df2 = pd.DataFrame()\n",
    "data_df2['Probability'] =y2\n",
    "data_df2['# Samples'] = x2\n",
    "data_df2['Case'] ='Case 2'\n",
    "data_df3 = pd.DataFrame()\n",
    "data_df3['Probability'] =100*[0.9]\n",
    "data_df3['# Samples'] = np.arange(0,100)\n",
    "data_df3['Case'] = '90% Probability'\n",
    "data_df = pd.concat([data_df, data_df2, data_df3])\n",
    "\n",
    "sns.lineplot(data=data_df, x=\"# Samples\", y=\"Probability\", hue=\"Case\")\n",
    "plt.grid()\n",
    "plt.title('The amount of sampels as function of the probability')"
   ]
  },
  {
   "cell_type": "markdown",
   "metadata": {},
   "source": [
    "### Comparing the 2 cases "
   ]
  },
  {
   "cell_type": "markdown",
   "metadata": {},
   "source": [
    "another approach for plotting the comparison:"
   ]
  },
  {
   "cell_type": "code",
   "execution_count": 111,
   "metadata": {},
   "outputs": [
    {
     "name": "stdout",
     "output_type": "stream",
     "text": [
      "Case1 var 450.0\n",
      "Case2 var 116.66666666666667\n"
     ]
    },
    {
     "data": {
      "image/png": "[encoded data removed]",
      "text/plain": [
       "<Figure size 432x288 with 1 Axes>"
      ]
     },
     "metadata": {
      "needs_background": "light"
     },
     "output_type": "display_data"
    }
   ],
   "source": [
    "\n",
    "Case1 = nbinom(5, 0.1, loc=5)\n",
    "Case2 = nbinom(15, 0.3, loc=15)\n",
    "\n",
    "print(f'Case1 var {Case1.var()}')\n",
    "print(f'Case2 var {Case2.var()}')\n",
    "\n",
    "number_of_samples = range(1,101)\n",
    "\n",
    "Case1_cdf_values = [Case1.cdf(num) for num in number_of_samples]\n",
    "Case2_cdf_values = [Case2.cdf(num) for num in number_of_samples]\n",
    "\n",
    "plt.figure()\n",
    "plt.plot(number_of_samples, Case1_cdf_values, label='Case1')\n",
    "plt.plot(number_of_samples, Case2_cdf_values, label='Case2')\n",
    "plt.plot(np.arange(0,100),100*[0.9] , 'r', label='90% Probability')\n",
    "plt.title('Cumulative Probability as function of amount of sampels')\n",
    "plt.ylabel('Cumulative Probability')\n",
    "plt.xlabel('# Samples')\n",
    "plt.legend()\n",
    "plt.grid()\n",
    "plt.show()"
   ]
  },
  {
   "cell_type": "markdown",
   "metadata": {},
   "source": [
    "## Explanation \n",
    "* the difference between the two results are:\n",
    "    * we can see that \"case2\" reaches probability 0.9 faster than \"case1\", i.e, in \"case1\" we need less samples to get to 90% probability. \n",
    "    * this is counter intuitive becuase the defect rate and the number of defects are both multiplied by 3.\n",
    "    * the reason this happens is becuase of the variance: \"case2\" has a smaller variance, and so we can see that the incline starts later than \"case1\" but it is steeper than \"case1\""
   ]
  },
  {
   "cell_type": "markdown",
   "metadata": {},
   "source": [
    "### Question 2 - Rent distributions in Randomistan"
   ]
  },
  {
   "cell_type": "markdown",
   "metadata": {},
   "source": [
    "The state of Randomistan conducted a survey to study the distribution of rent paid in two neighboring towns, Stochastic Heights and Random Grove, to be denoted SH and RG.<br> \n",
    "\n",
    "Here are some findings of the survey:\n",
    "* The population of SH and RG is 16,000 and 22,000 respectively. <br>\n",
    "* The mean rent in SH and RG is 6300RCU and 4200RCU respectively.\n",
    "* The median rent is 4600RCU in both towns.\n",
    "* The IQR of the rent is smaller in SH than in RG.\n",
    "\n",
    "All data generated in this question needs to be consistent with these findings."
   ]
  },
  {
   "cell_type": "markdown",
   "metadata": {},
   "source": [
    "#### 2.A\n",
    "Draw histograms that describe 2 different scenarii of possible distributions of rent in the two towns.\u000b",
    "Your histograms should:<br>\n",
    "* Use bins of 100RCU each.\n",
    "* Have at least 10 non zero bins."
   ]
  },
  {
   "cell_type": "markdown",
   "metadata": {},
   "source": [
    "### Scenario1: case of SH"
   ]
  },
  {
   "cell_type": "code",
   "execution_count": 112,
   "metadata": {},
   "outputs": [
    {
     "name": "stdout",
     "output_type": "stream",
     "text": [
      "number of samples in rent_prices_SH is 16000\n",
      "mean of rent_prices_SH is 6280\n",
      "median of rent_prices_SH is 4300\n",
      "Interquartile Range (IQR) of rent_prices_SH is 5350\n"
     ]
    },
    {
     "data": {
      "image/png": "[encoded data removed]",
      "text/plain": [
       "<Figure size 432x288 with 1 Axes>"
      ]
     },
     "metadata": {
      "needs_background": "light"
     },
     "output_type": "display_data"
    }
   ],
   "source": [
    "population_SH = 16000\n",
    "mean_SH = 6300\n",
    "median_rent = 4600\n",
    "bins_size = 100 # needs to verify that there are at least 10 non zeros points\n",
    "rent_prices_SH = [3000,3200,3500,3600,3700,3800,3900,4000,4100,4300,\n",
    "                  4300,6000,7000,8000,9000,9500,9700,9800,9800,15400] * int(population_SH / 20)\n",
    "\n",
    "print(f'number of samples in rent_prices_SH is {int(len(rent_prices_SH))}')\n",
    "print(f'mean of rent_prices_SH is {int(np.mean(rent_prices_SH))}')\n",
    "print(f'median of rent_prices_SH is {int(np.median(rent_prices_SH))}')\n",
    "print(f'Interquartile Range (IQR) of rent_prices_SH is {int(scipy_iqr(rent_prices_SH))}')\n",
    "\n",
    "rent_prices_SH_df = pd.DataFrame(rent_prices_SH, columns = ['rent_prices_SH'])\n",
    "sns.histplot(data=rent_prices_SH_df , x='rent_prices_SH', bins=bins_size)\n",
    "plt.title('rent SH Histogram');\n",
    "plt.grid()"
   ]
  },
  {
   "cell_type": "markdown",
   "metadata": {},
   "source": [
    "### Scenario1: case of RG"
   ]
  },
  {
   "cell_type": "code",
   "execution_count": 113,
   "metadata": {},
   "outputs": [
    {
     "name": "stdout",
     "output_type": "stream",
     "text": [
      "number of samples in rent_prices_RG is 22000\n",
      "mean of rent_prices_RG is 4200\n",
      "median of rent_prices_RG is 4600\n",
      "Interquartile Range (IQR) of rent_prices_RG is 6050\n"
     ]
    },
    {
     "data": {
      "image/png": "[encoded data removed]",
      "text/plain": [
       "<Figure size 432x288 with 1 Axes>"
      ]
     },
     "metadata": {
      "needs_background": "light"
     },
     "output_type": "display_data"
    }
   ],
   "source": [
    "population_RG = 22000\n",
    "mean_RG = 4200\n",
    "median_rent = 4600\n",
    "bins_size = 100 # needs to verify that there are at least 10 non zeros points\n",
    "rent_prices_RG = [100 , 200, 300, 400,500,1000,4000,4200,4400,4600,\n",
    "                  4600,4800,5500,6000,6900,7000,7200,7300,7400,7600] * int(population_RG / 20)\n",
    "\n",
    "print(f'number of samples in rent_prices_RG is {int(len(rent_prices_RG))}')\n",
    "print(f'mean of rent_prices_RG is {int(np.mean(rent_prices_RG))}')\n",
    "print(f'median of rent_prices_RG is {int(np.median(rent_prices_RG))}')\n",
    "print(f'Interquartile Range (IQR) of rent_prices_RG is {int(scipy_iqr(rent_prices_RG))}')\n",
    "\n",
    "rent_prices_RG_df= pd.DataFrame(rent_prices_SH, columns = ['rent_prices_RG'])\n",
    "sns.histplot(data=rent_prices_RG_df, x='rent_prices_RG', bins=bins_size)\n",
    "plt.title('rent RG Histogram');\n",
    "plt.grid()\n",
    "\n"
   ]
  },
  {
   "cell_type": "markdown",
   "metadata": {},
   "source": [
    "### Scenario2: case of SH"
   ]
  },
  {
   "cell_type": "code",
   "execution_count": 114,
   "metadata": {},
   "outputs": [
    {
     "name": "stdout",
     "output_type": "stream",
     "text": [
      "number of samples in rent_prices_SH is 16000\n",
      "mean of rent_prices_SH is 6300\n",
      "median of rent_prices_SH is 4300\n",
      "Interquartile Range (IQR) of rent_prices_SH is 5350\n"
     ]
    },
    {
     "data": {
      "image/png": "[encoded data removed]",
      "text/plain": [
       "<Figure size 432x288 with 1 Axes>"
      ]
     },
     "metadata": {
      "needs_background": "light"
     },
     "output_type": "display_data"
    }
   ],
   "source": [
    "population_SH = 16000\n",
    "mean_SH = 6300\n",
    "median_rent = 4600\n",
    "bins_size = 100 # needs to verify that there are at least 10 non zeros points\n",
    "rent_prices_SH = [3300,3400,3500,3600,3700,3800,3900,4000,4100,4300,\n",
    "                  4300,6000,7000,8000,9000,9500,9700,9800,10000,15100] * int(population_SH / 20)\n",
    "\n",
    "print(f'number of samples in rent_prices_SH is {int(len(rent_prices_SH))}')\n",
    "print(f'mean of rent_prices_SH is {int(np.mean(rent_prices_SH))}')\n",
    "print(f'median of rent_prices_SH is {int(np.median(rent_prices_SH))}')\n",
    "print(f'Interquartile Range (IQR) of rent_prices_SH is {int(scipy_iqr(rent_prices_SH))}')\n",
    "\n",
    "rent_prices_SH_df = pd.DataFrame(rent_prices_SH, columns = ['rent_prices_SH'])\n",
    "sns.histplot(data=rent_prices_SH_df , x='rent_prices_SH', bins=bins_size)\n",
    "plt.title('rent SH Histogram');\n",
    "plt.grid()"
   ]
  },
  {
   "cell_type": "markdown",
   "metadata": {},
   "source": [
    "### Scenario2: case of RG"
   ]
  },
  {
   "cell_type": "code",
   "execution_count": 115,
   "metadata": {},
   "outputs": [
    {
     "name": "stdout",
     "output_type": "stream",
     "text": [
      "number of samples in rent_prices_RG is 22000\n",
      "mean of rent_prices_RG is 4200\n",
      "median of rent_prices_RG is 4600\n",
      "Interquartile Range (IQR) of rent_prices_RG is 6350\n"
     ]
    },
    {
     "data": {
      "image/png": "[encoded data removed]",
      "text/plain": [
       "<Figure size 432x288 with 1 Axes>"
      ]
     },
     "metadata": {
      "needs_background": "light"
     },
     "output_type": "display_data"
    }
   ],
   "source": [
    "population_RG = 22000\n",
    "mean_RG = 4200\n",
    "median_rent = 4600\n",
    "bins_size = 100 # needs to verify that there are at least 10 non zeros points\n",
    "rent_prices_RG = [100 , 200, 300, 400,500,600,4000,4200,4400,4600,\n",
    "                  4600,4800,5500,6000,6900,7000,7200,7300,7400,8000] * int(population_RG / 20)\n",
    "\n",
    "print(f'number of samples in rent_prices_RG is {int(len(rent_prices_RG))}')\n",
    "print(f'mean of rent_prices_RG is {int(np.mean(rent_prices_RG))}')\n",
    "print(f'median of rent_prices_RG is {int(np.median(rent_prices_RG))}')\n",
    "print(f'Interquartile Range (IQR) of rent_prices_RG is {int(scipy_iqr(rent_prices_RG))}')\n",
    "\n",
    "rent_prices_RG_df= pd.DataFrame(rent_prices_SH, columns = ['rent_prices_RG'])\n",
    "sns.histplot(data=rent_prices_RG_df, x='rent_prices_RG', bins=bins_size)\n",
    "plt.title('rent RG Histogram');\n",
    "plt.grid()\n"
   ]
  },
  {
   "cell_type": "markdown",
   "metadata": {},
   "source": [
    "#### 2.B\n",
    "Draw a histogram of a third scenario with the same properties. <br>\n",
    "In addition, in this scenario the rent in SH should have a higher variance than the rent in RG."
   ]
  },
  {
   "cell_type": "markdown",
   "metadata": {},
   "source": [
    "### Scenario3: BOTH cases"
   ]
  },
  {
   "cell_type": "code",
   "execution_count": 116,
   "metadata": {},
   "outputs": [
    {
     "name": "stdout",
     "output_type": "stream",
     "text": [
      "Note that the variance of rent SH variance is 10562100\n",
      "Note that the variance of rent RG variance is 7662725\n",
      "Therfore the SH variance is bigger than RG variance\n"
     ]
    },
    {
     "data": {
      "image/png": "[encoded data removed]",
      "text/plain": [
       "<Figure size 432x288 with 1 Axes>"
      ]
     },
     "metadata": {
      "needs_background": "light"
     },
     "output_type": "display_data"
    }
   ],
   "source": [
    "rent_prices_SH = [2900,3200,3500,3600,3700,3800,3900,4000,4100,4300,\n",
    "                  4300,6000,7000,8000,9000,9500,9700,9800,9800,15300] * int(population_SH / 20)\n",
    "rent_prices_RG = [50 , 200, 300, 400,500,600,4000,4200,4400,4600,\n",
    "                  4600,4800,5500,6000,6900,7000,7200,7300,7400,7950] * int(population_RG / 20)\n",
    "#\n",
    "plt.hist([rent_prices_SH,rent_prices_RG], color=['r','b'],label = ['std_rent_prices_SH','rent_prices_RG'] ,alpha=0.5, bins = bins_size)\n",
    "plt.grid()\n",
    "plt.title('The red hist variance is bigger')\n",
    "plt.xlabel('Rent Price')\n",
    "plt.ylabel('#Count')\n",
    "plt.legend()\n",
    "\n",
    "std_rent_prices_RG = np.std(rent_prices_RG)\n",
    "std_rent_prices_SH = np.std(rent_prices_SH)\n",
    "var_rent_prices_SH = std_rent_prices_SH**2\n",
    "var_rent_prices_RG= std_rent_prices_RG**2\n",
    "\n",
    "string = 'Note that the variance of rent SH variance is ' + str(int(var_rent_prices_SH)) + '\\n'\n",
    "string += 'Note that the variance of rent RG variance is ' + str(int(var_rent_prices_RG))+ '\\n'\n",
    "string += 'Therfore the SH variance is bigger than RG variance'\n",
    "\n",
    "print(string)\n"
   ]
  },
  {
   "cell_type": "markdown",
   "metadata": {},
   "source": [
    "The survey also examined the per household income (PHI) in these two places.<br>\n",
    "\n",
    "It found that:<br>\n",
    "* The mean of PHI in SH is 12500 and in RG is 8500.\n",
    "* The median is 12000 in SH and 8000 in RG.\n",
    "* The covariance of the rent and the PHI was observed to be as in the formula below with $\\alpha=97\\%$ and $\\alpha=89\\%$ in SH and in RG respectively.<br><br>\n",
    "$$Cov(rent, PHI) = \\alpha * \\sqrt{Var(rent)} * \\sqrt{Var(PHI)}$$\n",
    "\n",
    "#### 2.C\n",
    "Produce rent and PHI data for the two cities, that is consistent with these findings. The covariances in your data can deviate by up to 1% from the numbers given $\\alpha$."
   ]
  },
  {
   "cell_type": "code",
   "execution_count": 117,
   "metadata": {},
   "outputs": [
    {
     "name": "stdout",
     "output_type": "stream",
     "text": [
      "number of samples in PHI_values_RG is 22000\n",
      "mean of PHI_values_RG is 8500\n",
      "median of PHI_values_RG is 8000\n"
     ]
    }
   ],
   "source": [
    "PHI_values_RG = [3500, 3600, 3700, 3800, 3900, 4000, 7400, 7600, 7800, 8000, \n",
    "                 8000, 8200, 8900, 9400, 10300, 10400, 11000, 12000, 15000, 23500] * int(population_RG / 20)\n",
    "\n",
    "print(f'number of samples in PHI_values_RG is {int(len(PHI_values_RG))}')\n",
    "print(f'mean of PHI_values_RG is {int(np.mean(PHI_values_RG))}')\n",
    "print(f'median of PHI_values_RG is {int(np.median(PHI_values_RG))}')"
   ]
  },
  {
   "cell_type": "code",
   "execution_count": 118,
   "metadata": {},
   "outputs": [
    {
     "name": "stdout",
     "output_type": "stream",
     "text": [
      "number of samples in PHI_values_SH is 16000\n",
      "mean of PHI_values_SH is 12500\n",
      "median of PHI_values_SH is 12000\n"
     ]
    }
   ],
   "source": [
    "PHI_values_SH =  [1000,2000,5100,11300,11400,11500,11600,11700,11800,12000,\n",
    "                  12000,13700,14700,15700,16700,17200,17400,17500,17700,18000] * int(population_SH / 20)\n",
    "\n",
    "print(f'number of samples in PHI_values_SH is {int(len(PHI_values_SH))}')\n",
    "print(f'mean of PHI_values_SH is {int(np.mean(PHI_values_SH))}')\n",
    "print(f'median of PHI_values_SH is {int(np.median(PHI_values_SH))}')"
   ]
  },
  {
   "cell_type": "code",
   "execution_count": 119,
   "metadata": {},
   "outputs": [
    {
     "name": "stdout",
     "output_type": "stream",
     "text": [
      "Comparing for SH: wanted alpha 0.97 calculated alpha 0.9715756564081304\n",
      "Comparing for RG: wanted alpha 0.89 calculated alpha 0.8869291115684815\n"
     ]
    }
   ],
   "source": [
    "rent_prices_SH = [200,300,400,6000,11400,11500,11600,11700,11800,12000,\n",
    "                  12000,13700,14700,15700,16700,17200,17400,17500,17600,17700] * int(population_SH / 20)\n",
    "\n",
    "rent_prices_RG = [10 , 100, 300, 400,500,600,4000,4200,4400,4600,\n",
    "                  4600,4800,5500,5600,6900,7200,7200,7300,8000,9100] * int(population_RG / 20)\n",
    "\n",
    "wanted_alpha_SH = 0.97\n",
    "wanted_alpha_RG = 0.89\n",
    "\n",
    "std_PHI_prices_SH = np.std(PHI_values_SH)\n",
    "std_rent_prices_SH = np.std(rent_prices_SH)\n",
    "cov_SH_matrix = np.cov(PHI_values_SH, rent_prices_SH)\n",
    "cov_SH = cov_SH_matrix[0][1]\n",
    "calculated_alpha_SH = (cov_SH)/(std_PHI_prices_SH*std_rent_prices_SH)\n",
    "print(f'Comparing for SH: wanted alpha {wanted_alpha_SH} calculated alpha {calculated_alpha_SH}')\n",
    "\n",
    "std_PHI_values_RG = np.std(PHI_values_RG)\n",
    "std_rent_prices_RG = np.std(rent_prices_RG)\n",
    "cov_RG_matrix = np.cov(PHI_values_RG, rent_prices_RG)\n",
    "cov_RG = cov_RG_matrix[0][1]\n",
    "calculated_alpha_RG = (cov_RG)/(std_PHI_values_RG*std_rent_prices_RG)\n",
    "print(f'Comparing for RG: wanted alpha {wanted_alpha_RG} calculated alpha {calculated_alpha_RG}')\n",
    "\n"
   ]
  },
  {
   "cell_type": "markdown",
   "metadata": {},
   "source": [
    "#### 2.D\n",
    "Produce two heatmaps that describe these two bivariate joint distributions. Make sure you carefully consider the selected binning resolution."
   ]
  },
  {
   "cell_type": "code",
   "execution_count": 120,
   "metadata": {},
   "outputs": [
    {
     "data": {
      "image/png": "[encoded data removed]",
      "text/plain": [
       "<Figure size 432x288 with 2 Axes>"
      ]
     },
     "metadata": {
      "needs_background": "light"
     },
     "output_type": "display_data"
    }
   ],
   "source": [
    "plt.hist2d(x=PHI_values_RG,y=rent_prices_RG,cmap='inferno',bins=5)\n",
    "plt.xlabel('RG Rent')\n",
    "plt.ylabel('RG PHI')\n",
    "plt.title('Heat map of RG Rent V.s RG PHI')\n",
    "plt.colorbar()\n",
    "plt.show()"
   ]
  },
  {
   "cell_type": "code",
   "execution_count": 121,
   "metadata": {},
   "outputs": [
    {
     "data": {
      "image/png": "[encoded data removed]",
      "text/plain": [
       "<Figure size 432x288 with 2 Axes>"
      ]
     },
     "metadata": {
      "needs_background": "light"
     },
     "output_type": "display_data"
    }
   ],
   "source": [
    "plt.hist2d(x=PHI_values_SH,y=rent_prices_SH,cmap='inferno',bins=5)\n",
    "plt.xlabel('SH Rent')\n",
    "plt.ylabel('SH PHI')\n",
    "plt.title('Heat map of SH Rent V.s SH PHI')\n",
    "plt.colorbar()\n",
    "plt.show()"
   ]
  },
  {
   "cell_type": "markdown",
   "metadata": {},
   "source": [
    "### Question 3 - Multinomial Distributions\n",
    "\n",
    "1. Let $X \\sim Multinomial(n,\\vec{p})$ be a multinomial random variable where $n=20$ and $\\vec{p} = (0.2,  0.1,  0.1,  0.1,  0.2,  0.3)$. Note that X is a vector of counts.\n",
    "\n",
    "\n",
    "2. Let $Y = X_2 + X_3 + X_4$ be a random variable.\n",
    "\n",
    "\n",
    "3. Create $k=100$ experiments where $X$ is sampled using Python. Calculate the empirical centralized third moment of $Y$ based on your $k$ experiments.\n",
    "\n",
    "\n",
    "4. Compare your result to the calculation in class for the centralized third moment of the **binomial** distribution and explain your observation."
   ]
  },
  {
   "cell_type": "markdown",
   "metadata": {},
   "source": [
    "## Initial info"
   ]
  },
  {
   "cell_type": "code",
   "execution_count": 122,
   "metadata": {},
   "outputs": [],
   "source": [
    "k = 100\n",
    "n = 20\n",
    "p = [0.2,0.1,0.1,0.1,0.2,0.3]"
   ]
  },
  {
   "cell_type": "markdown",
   "metadata": {},
   "source": [
    "## generate expirements "
   ]
  },
  {
   "cell_type": "code",
   "execution_count": 123,
   "metadata": {},
   "outputs": [],
   "source": [
    "# generate k experiments with 6 rv, which the sum of expirement is n  \n",
    "experiments_vector = np.random.multinomial(n=n, pvals=p, size=k)"
   ]
  },
  {
   "cell_type": "markdown",
   "metadata": {},
   "source": [
    "# display the expirement results"
   ]
  },
  {
   "cell_type": "code",
   "execution_count": 163,
   "metadata": {},
   "outputs": [
    {
     "name": "stdout",
     "output_type": "stream",
     "text": [
      "The following table display our expirements result\n",
      "each row is single expirement which the sampels needs to be sun to 20\n",
      "The following table display our expirements result\n",
      "each row is single expirement\n",
      "|    |   X1 |   X2 |   X3 |   X4 |   X5 |   X6 |\n",
      "|---:|-----:|-----:|-----:|-----:|-----:|-----:|\n",
      "|  0 |    4 |    3 |    2 |    2 |    3 |    6 |\n",
      "|  1 |    5 |    2 |    3 |    4 |    2 |    4 |\n",
      "|  2 |    5 |    2 |    2 |    4 |    1 |    6 |\n",
      "|  3 |    2 |    0 |    4 |    3 |    6 |    5 |\n",
      "|  4 |    8 |    2 |    1 |    2 |    1 |    6 |\n",
      "|  5 |    5 |    1 |    4 |    2 |    3 |    5 |\n",
      "|  6 |    3 |    3 |    2 |    2 |    1 |    9 |\n",
      "|  7 |    4 |    2 |    2 |    4 |    4 |    4 |\n",
      "|  8 |    3 |    2 |    3 |    0 |    6 |    6 |\n",
      "|  9 |    5 |    1 |    1 |    1 |    4 |    8 |\n",
      "| 10 |    4 |    2 |    5 |    0 |    2 |    7 |\n",
      "| 11 |    2 |    3 |    1 |    2 |    4 |    8 |\n",
      "| 12 |    2 |    1 |    3 |    1 |    4 |    9 |\n",
      "| 13 |    3 |    3 |    0 |    4 |    2 |    8 |\n",
      "| 14 |    8 |    1 |    4 |    1 |    3 |    3 |\n",
      "| 15 |    1 |    1 |    1 |    2 |    4 |   11 |\n",
      "| 16 |    3 |    2 |    0 |    3 |    5 |    7 |\n",
      "| 17 |    3 |    2 |    0 |    3 |    7 |    5 |\n",
      "| 18 |    3 |    3 |    1 |    3 |    3 |    7 |\n",
      "| 19 |    2 |    2 |    0 |    4 |    1 |   11 |\n",
      "| 20 |    5 |    1 |    3 |    4 |    2 |    5 |\n",
      "| 21 |    4 |    2 |    2 |    1 |    7 |    4 |\n",
      "| 22 |    4 |    3 |    2 |    1 |    5 |    5 |\n",
      "| 23 |    3 |    4 |    2 |    3 |    4 |    4 |\n",
      "| 24 |    5 |    2 |    4 |    2 |    3 |    4 |\n",
      "| 25 |    4 |    0 |    1 |    3 |    4 |    8 |\n",
      "| 26 |    4 |    2 |    1 |    1 |    5 |    7 |\n",
      "| 27 |    4 |    2 |    2 |    2 |    4 |    6 |\n",
      "| 28 |    6 |    1 |    2 |    3 |    4 |    4 |\n",
      "| 29 |    5 |    0 |    4 |    2 |    8 |    1 |\n",
      "| 30 |    2 |    4 |    1 |    2 |    3 |    8 |\n",
      "| 31 |    6 |    3 |    2 |    1 |    1 |    7 |\n",
      "| 32 |    5 |    2 |    3 |    3 |    5 |    2 |\n",
      "| 33 |    6 |    0 |    1 |    3 |    3 |    7 |\n",
      "| 34 |    4 |    0 |    1 |    0 |    8 |    7 |\n",
      "| 35 |    3 |    1 |    4 |    3 |    1 |    8 |\n",
      "| 36 |    2 |    3 |    2 |    1 |    7 |    5 |\n",
      "| 37 |    4 |    2 |    2 |    3 |    3 |    6 |\n",
      "| 38 |    3 |    1 |    1 |    5 |    5 |    5 |\n",
      "| 39 |    4 |    1 |    1 |    0 |    5 |    9 |\n",
      "| 40 |    3 |    3 |    1 |    1 |    2 |   10 |\n",
      "| 41 |    1 |    3 |    2 |    2 |    7 |    5 |\n",
      "| 42 |    9 |    0 |    2 |    1 |    1 |    7 |\n",
      "| 43 |    5 |    1 |    1 |    2 |    6 |    5 |\n",
      "| 44 |    4 |    4 |    1 |    3 |    2 |    6 |\n",
      "| 45 |    7 |    2 |    1 |    4 |    3 |    3 |\n",
      "| 46 |    3 |    1 |    2 |    0 |    4 |   10 |\n",
      "| 47 |    4 |    1 |    2 |    1 |    5 |    7 |\n",
      "| 48 |    6 |    0 |    2 |    1 |    5 |    6 |\n",
      "| 49 |    3 |    2 |    1 |    1 |    5 |    8 |\n",
      "| 50 |    3 |    4 |    3 |    2 |    5 |    3 |\n",
      "| 51 |    2 |    2 |    2 |    5 |    3 |    6 |\n",
      "| 52 |    3 |    0 |    0 |    5 |    6 |    6 |\n",
      "| 53 |    5 |    1 |    2 |    0 |    5 |    7 |\n",
      "| 54 |    8 |    3 |    1 |    3 |    1 |    4 |\n",
      "| 55 |    7 |    4 |    2 |    1 |    4 |    2 |\n",
      "| 56 |    3 |    4 |    2 |    0 |    4 |    7 |\n",
      "| 57 |    2 |    6 |    2 |    2 |    4 |    4 |\n",
      "| 58 |    3 |    1 |    4 |    1 |    4 |    7 |\n",
      "| 59 |    3 |    0 |    4 |    5 |    6 |    2 |\n",
      "| 60 |    6 |    3 |    1 |    0 |    4 |    6 |\n",
      "| 61 |    3 |    1 |    0 |    3 |    1 |   12 |\n",
      "| 62 |    5 |    1 |    0 |    1 |    6 |    7 |\n",
      "| 63 |    3 |    2 |    2 |    4 |    4 |    5 |\n",
      "| 64 |    3 |    1 |    0 |    2 |    4 |   10 |\n",
      "| 65 |    4 |    3 |    2 |    1 |    3 |    7 |\n",
      "| 66 |    2 |    3 |    0 |    3 |    6 |    6 |\n",
      "| 67 |    5 |    1 |    1 |    2 |    3 |    8 |\n",
      "| 68 |    3 |    1 |    2 |    0 |    7 |    7 |\n",
      "| 69 |    2 |    2 |    1 |    3 |    8 |    4 |\n",
      "| 70 |    5 |    0 |    2 |    2 |    5 |    6 |\n",
      "| 71 |    5 |    1 |    1 |    2 |    7 |    4 |\n",
      "| 72 |    2 |    4 |    2 |    2 |    6 |    4 |\n",
      "| 73 |    4 |    3 |    1 |    4 |    4 |    4 |\n",
      "| 74 |    5 |    1 |    3 |    2 |    3 |    6 |\n",
      "| 75 |    2 |    3 |    5 |    1 |    4 |    5 |\n",
      "| 76 |    6 |    1 |    4 |    2 |    4 |    3 |\n",
      "| 77 |    6 |    3 |    0 |    2 |    3 |    6 |\n",
      "| 78 |    1 |    2 |    1 |    4 |    2 |   10 |\n",
      "| 79 |    7 |    1 |    1 |    0 |    3 |    8 |\n",
      "| 80 |    3 |    4 |    0 |    4 |    5 |    4 |\n",
      "| 81 |    4 |    1 |    1 |    3 |    2 |    9 |\n",
      "| 82 |    1 |    2 |    0 |    2 |    5 |   10 |\n",
      "| 83 |    3 |    1 |    0 |    1 |    7 |    8 |\n",
      "| 84 |    8 |    5 |    1 |    0 |    3 |    3 |\n",
      "| 85 |    4 |    5 |    0 |    3 |    2 |    6 |\n",
      "| 86 |    3 |    3 |    1 |    3 |    4 |    6 |\n",
      "| 87 |    4 |    2 |    1 |    3 |    4 |    6 |\n",
      "| 88 |    3 |    3 |    4 |    0 |    3 |    7 |\n",
      "| 89 |    3 |    3 |    5 |    4 |    3 |    2 |\n",
      "| 90 |    3 |    6 |    1 |    0 |    7 |    3 |\n",
      "| 91 |    3 |    3 |    0 |    3 |    6 |    5 |\n",
      "| 92 |    3 |    2 |    2 |    3 |    3 |    7 |\n",
      "| 93 |    2 |    2 |    1 |    4 |    3 |    8 |\n",
      "| 94 |    4 |    4 |    2 |    3 |    5 |    2 |\n",
      "| 95 |    5 |    2 |    4 |    5 |    1 |    3 |\n",
      "| 96 |    2 |    1 |    1 |    2 |    4 |   10 |\n",
      "| 97 |    4 |    1 |    4 |    4 |    3 |    4 |\n",
      "| 98 |    3 |    2 |    4 |    1 |    4 |    6 |\n",
      "| 99 |    3 |    2 |    2 |    1 |    5 |    7 |\n"
     ]
    }
   ],
   "source": [
    "df = pd.DataFrame(experiments_vector, columns=['X1','X2','X3','X4','X5','X6'])\n",
    "print('The following table display our expirements result\\neach row is single expirement which the sampels needs to be sun to 20')\n",
    "print('The following table display our expirements result\\neach row is single expirement')\n",
    "print(df.to_markdown())\n"
   ]
  },
  {
   "cell_type": "markdown",
   "metadata": {},
   "source": [
    "## Set Y"
   ]
  },
  {
   "cell_type": "code",
   "execution_count": 125,
   "metadata": {},
   "outputs": [],
   "source": [
    "# suming the desire sampels\n",
    "df['Y'] = df['X2'] + df['X3'] + df['X4']\n",
    "Y = df['Y'].tolist()"
   ]
  },
  {
   "cell_type": "markdown",
   "metadata": {},
   "source": [
    "##  Calculate the empirical centralized third moment of $Y$ based on your $k$ experiments"
   ]
  },
  {
   "cell_type": "code",
   "execution_count": 164,
   "metadata": {},
   "outputs": [
    {
     "name": "stdout",
     "output_type": "stream",
     "text": [
      "the empirical centralized third moment of Y is -0.065\n"
     ]
    }
   ],
   "source": [
    "result = moment(Y, moment=3)\n",
    "print('the empirical centralized third moment of Y is ' + str(np.round(result,3)))"
   ]
  },
  {
   "cell_type": "markdown",
   "metadata": {},
   "source": [
    "## Compare your result to the calculation in class for the centralized third moment of the **binomial** distribution and explain your observation."
   ]
  },
  {
   "cell_type": "markdown",
   "metadata": {},
   "source": [
    "* we know from the lecture that:\n",
    "$$\\gamma_3 = np*(1-p)(1-2p)=20*0.1(1-0.3)(1-2*0.3)=1.44$$\n",
    "# * and in our case:\n",
    "        * p = 0.3 (because 0.1 + 0.1 + 0.1)\n",
    "        * n = 20"
   ]
  },
  {
   "cell_type": "code",
   "execution_count": 127,
   "metadata": {},
   "outputs": [
    {
     "name": "stdout",
     "output_type": "stream",
     "text": [
      "1.6799999999999997\n"
     ]
    }
   ],
   "source": [
    "new_p = 0.1+0.1+0.1\n",
    "gamma_3 = n*new_p*(1-new_p)*(1-2*new_p)\n",
    "print(gamma_3)"
   ]
  },
  {
   "cell_type": "markdown",
   "metadata": {},
   "source": [
    "note that this result is constant while the empirical result changes due to the random state."
   ]
  },
  {
   "cell_type": "markdown",
   "metadata": {},
   "source": [
    "### Question 4 - Covariance and independence"
   ]
  },
  {
   "cell_type": "markdown",
   "metadata": {},
   "source": [
    "What is the variance of the sum X +Y + Z of three random variables in terms of the variances of X, Y and Z and the covariances between each pair of random variables? What happens if X,Y,Z are pairwise independent? If X,Y,Z are pairwise independent, are they necessarily collectively independent? Prove your answer."
   ]
  },
  {
   "cell_type": "markdown",
   "metadata": {},
   "source": [
    "### * Q -  variance of the sum X +Y + Z:\n",
    "  \n",
    "$$ Var(X+Y+Z) = Var(X + (Y+Z)) = Var(X)+ 2Cov(X,Y+Z) + Var(Y+Z) $$\n",
    "$$ Var(X+Y+Z) = Var(X)+ 2[Cov(X,Y)+Cov(X,Z)] + Var(Y)+2Cov(Y,Z) +Var(Z)$$\n",
    "\n",
    "\n",
    "### * If X,Y,Z are pairwise independent, are they necessarily collectively independent? yes, proof:\n",
    "\n",
    "    * Cov(X,Y) = 0\n",
    "    * Cov(X,Z) = 0\n",
    "    * Cov(Y,Z) = 0\n",
    "    \n",
    "$$Var(X+Y+Z) = Var(X)+ 0 + Var(Y)+0 +Var(Z)$$\n",
    "\n",
    "$$Var(X+Y+Z) = Var(X)+Var(Y)+Var(Z)$$\n",
    "\n",
    "# this of course practically means that they are independent.\n"
   ]
  },
  {
   "cell_type": "markdown",
   "metadata": {},
   "source": [
    "### Question 5 - Convolutions"
   ]
  },
  {
   "cell_type": "markdown",
   "metadata": {},
   "source": [
    "#### 5.A\n",
    "Write a program, `Q = NFoldConv(P , n)`, that takes as input:\n",
    "* A distribution, P, of a random variable that takes finitely many integer values\n",
    "* An integer n\n",
    "\n",
    "and produces the distribution, Q, of the sum of n independent repeats of random variables, each of which has the distribution P."
   ]
  },
  {
   "cell_type": "code",
   "execution_count": 128,
   "metadata": {},
   "outputs": [],
   "source": [
    "def NFoldConv(P , n):\n",
    "    max_value_of_sum = max(list(P.keys())) * n\n",
    "    min_value_of_sum = min(list(P.keys())) * n\n",
    "    \n",
    "    assert(sum(P.values()) == 1)  # assert that P is a valid distribution\n",
    "\n",
    "    original = list(P.values())\n",
    "    current_row = list(P.values())\n",
    "\n",
    "    for _ in range(n-1):   # n-1 convolution actions\n",
    "        current_row = np.convolve(current_row, original, mode='full')\n",
    "    \n",
    "    output = dict()\n",
    "    keys = list(np.arange(min_value_of_sum, max_value_of_sum+1))\n",
    "    for key, value in zip(keys, current_row):\n",
    "        output[key] = value\n",
    "    return output"
   ]
  },
  {
   "cell_type": "markdown",
   "metadata": {},
   "source": [
    "A note about the solution above: this works because convolution is commutative and asociative !"
   ]
  },
  {
   "cell_type": "markdown",
   "metadata": {},
   "source": [
    "#### 5.B\n",
    "Compute the distribution of the sum of the results of rolling a fair octahedron 17 times.\n",
    "\n",
    "<img src=\"https://upload.wikimedia.org/wikipedia/commons/2/27/Octahedron.jpg\" width=\"200\">\n"
   ]
  },
  {
   "cell_type": "code",
   "execution_count": 162,
   "metadata": {},
   "outputs": [
    {
     "name": "stdout",
     "output_type": "stream",
     "text": [
      "|     |   Sum probability |\n",
      "|----:|------------------:|\n",
      "|  17 |       4.44089e-16 |\n",
      "|  18 |       7.54952e-15 |\n",
      "|  19 |       6.79456e-14 |\n",
      "|  20 |       4.30322e-13 |\n",
      "|  21 |       2.15161e-12 |\n",
      "|  22 |       9.03677e-12 |\n",
      "|  23 |       3.31348e-11 |\n",
      "|  24 |       1.08872e-10 |\n",
      "|  25 |       3.26607e-10 |\n",
      "|  26 |       9.07135e-10 |\n",
      "|  27 |       2.35773e-09 |\n",
      "|  28 |       5.78267e-09 |\n",
      "|  29 |       1.34734e-08 |\n",
      "|  30 |       2.9984e-08  |\n",
      "|  31 |       6.40173e-08 |\n",
      "|  32 |       1.31616e-07 |\n",
      "|  33 |       2.61381e-07 |\n",
      "|  34 |       5.02742e-07 |\n",
      "|  35 |       9.38664e-07 |\n",
      "|  36 |       1.7046e-06  |\n",
      "|  37 |       3.01597e-06 |\n",
      "|  38 |       5.20688e-06 |\n",
      "|  39 |       8.78317e-06 |\n",
      "|  40 |       1.4493e-05  |\n",
      "|  41 |       2.34185e-05 |\n",
      "|  42 |       3.70902e-05 |\n",
      "|  43 |       5.76271e-05 |\n",
      "|  44 |       8.79012e-05 |\n",
      "|  45 |       0.000131724 |\n",
      "|  46 |       0.000194047 |\n",
      "|  47 |       0.000281171 |\n",
      "|  48 |       0.000400945 |\n",
      "|  49 |       0.000562932 |\n",
      "|  50 |       0.000778528 |\n",
      "|  51 |       0.001061    |\n",
      "|  52 |       0.0014254   |\n",
      "|  53 |       0.00188837  |\n",
      "|  54 |       0.00246777  |\n",
      "|  55 |       0.0031821   |\n",
      "|  56 |       0.00404976  |\n",
      "|  57 |       0.00508812  |\n",
      "|  58 |       0.00631242  |\n",
      "|  59 |       0.00773458  |\n",
      "|  60 |       0.00936186  |\n",
      "|  61 |       0.0111956   |\n",
      "|  62 |       0.0132302   |\n",
      "|  63 |       0.0154518   |\n",
      "|  64 |       0.017838    |\n",
      "|  65 |       0.0203574   |\n",
      "|  66 |       0.0229696   |\n",
      "|  67 |       0.0256263   |\n",
      "|  68 |       0.028272    |\n",
      "|  69 |       0.0308461   |\n",
      "|  70 |       0.0332851   |\n",
      "|  71 |       0.0355245   |\n",
      "|  72 |       0.0375025   |\n",
      "|  73 |       0.039162    |\n",
      "|  74 |       0.0404533   |\n",
      "|  75 |       0.0413373   |\n",
      "|  76 |       0.0417863   |\n",
      "|  77 |       0.0417863   |\n",
      "|  78 |       0.0413373   |\n",
      "|  79 |       0.0404533   |\n",
      "|  80 |       0.039162    |\n",
      "|  81 |       0.0375025   |\n",
      "|  82 |       0.0355245   |\n",
      "|  83 |       0.0332851   |\n",
      "|  84 |       0.0308461   |\n",
      "|  85 |       0.028272    |\n",
      "|  86 |       0.0256263   |\n",
      "|  87 |       0.0229696   |\n",
      "|  88 |       0.0203574   |\n",
      "|  89 |       0.017838    |\n",
      "|  90 |       0.0154518   |\n",
      "|  91 |       0.0132302   |\n",
      "|  92 |       0.0111956   |\n",
      "|  93 |       0.00936186  |\n",
      "|  94 |       0.00773458  |\n",
      "|  95 |       0.00631242  |\n",
      "|  96 |       0.00508812  |\n",
      "|  97 |       0.00404976  |\n",
      "|  98 |       0.0031821   |\n",
      "|  99 |       0.00246777  |\n",
      "| 100 |       0.00188837  |\n",
      "| 101 |       0.0014254   |\n",
      "| 102 |       0.001061    |\n",
      "| 103 |       0.000778528 |\n",
      "| 104 |       0.000562932 |\n",
      "| 105 |       0.000400945 |\n",
      "| 106 |       0.000281171 |\n",
      "| 107 |       0.000194047 |\n",
      "| 108 |       0.000131724 |\n",
      "| 109 |       8.79012e-05 |\n",
      "| 110 |       5.76271e-05 |\n",
      "| 111 |       3.70902e-05 |\n",
      "| 112 |       2.34185e-05 |\n",
      "| 113 |       1.4493e-05  |\n",
      "| 114 |       8.78317e-06 |\n",
      "| 115 |       5.20688e-06 |\n",
      "| 116 |       3.01597e-06 |\n",
      "| 117 |       1.7046e-06  |\n",
      "| 118 |       9.38664e-07 |\n",
      "| 119 |       5.02742e-07 |\n",
      "| 120 |       2.61381e-07 |\n",
      "| 121 |       1.31616e-07 |\n",
      "| 122 |       6.40173e-08 |\n",
      "| 123 |       2.9984e-08  |\n",
      "| 124 |       1.34734e-08 |\n",
      "| 125 |       5.78267e-09 |\n",
      "| 126 |       2.35773e-09 |\n",
      "| 127 |       9.07135e-10 |\n",
      "| 128 |       3.26607e-10 |\n",
      "| 129 |       1.08872e-10 |\n",
      "| 130 |       3.31348e-11 |\n",
      "| 131 |       9.03677e-12 |\n",
      "| 132 |       2.15161e-12 |\n",
      "| 133 |       4.30322e-13 |\n",
      "| 134 |       6.79456e-14 |\n",
      "| 135 |       7.54952e-15 |\n",
      "| 136 |       4.44089e-16 |\n"
     ]
    }
   ],
   "source": [
    "P = {1:1/8, 2:1/8, 3:1/8, 4:1/8, 5:1/8, 6:1/8, 7:1/8, 8:1/8}\n",
    "n = 17  \n",
    "result = NFoldConv(P, n)\n",
    "#esult_df = pd.DataFrame(result.item)\n",
    "result_df = pd.DataFrame.from_dict(result,orient='index')\n",
    "result_df = result_df.rename(columns={0: \"Sum probability\"})\n",
    "print(result_df.to_markdown())"
   ]
  }
 ],
 "metadata": {
  "kernelspec": {
   "display_name": "Python 3",
   "language": "python",
   "name": "python3"
  },
  "language_info": {
   "codemirror_mode": {
    "name": "ipython",
    "version": 3
   },
   "file_extension": ".py",
   "mimetype": "text/x-python",
   "name": "python",
   "nbconvert_exporter": "python",
   "pygments_lexer": "ipython3",
   "version": "3.8.8"
  }
 },
 "nbformat": 4,
 "nbformat_minor": 4
}
