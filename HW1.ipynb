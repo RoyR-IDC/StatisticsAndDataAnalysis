{
 "cells": [
  {
   "cell_type": "markdown",
   "metadata": {},
   "source": [
    "### IDs:\n",
    "Insert yours IDs to the cell below"
   ]
  },
  {
   "cell_type": "markdown",
   "metadata": {},
   "source": [
    "ID #1: 203972922\n",
    "\n",
    "ID #2: 201312907 \n"
   ]
  },
  {
   "cell_type": "markdown",
   "metadata": {},
   "source": [
    "## Read the following instructions carefully:\n",
    "\n",
    "1. This jupyter notebook contains all the step by step instructions needed for this exercise.\n",
    "1. You are free to add cells.\n",
    "1. Write your functions and your answers in this jupyter notebook only.\n",
    "1. Answers to theoretical questions should be written in **markdown cells (with $\\LaTeX$ support)**.\n",
    "1. Submit this jupyter notebook only using your ID as a filename. Not to use ZIP or RAR. For example, your Moodle submission file name should look like this (two id numbers): `123456789_987654321.ipynb`."
   ]
  },
  {
   "cell_type": "markdown",
   "metadata": {},
   "source": [
    "### Question 1 - Defective products"
   ]
  },
  {
   "cell_type": "markdown",
   "metadata": {},
   "source": [
    "In a manufacturing pipeline products are 3% defective. We are interested in examining a defective product to see what goes wrong on the belt. We need to ask the facility manager to send us a set of independent samples for examination."
   ]
  },
  {
   "cell_type": "markdown",
   "metadata": {},
   "source": [
    "#### 1.A\n",
    "\n",
    "How many independent samples should we ask for in order to have a 85% probability of having at least one defective product in the batch sent? You should write a function."
   ]
  },
  {
   "cell_type": "markdown",
   "metadata": {},
   "source": [
    "## Imports"
   ]
  },
  {
   "cell_type": "code",
   "execution_count": 139,
   "metadata": {},
   "outputs": [
    {
     "name": "stdout",
     "output_type": "stream",
     "text": [
      "Requirement already satisfied: tabulate in c:\\users\\or livne\\anaconda\\lib\\site-packages (0.8.9)\n"
     ]
    }
   ],
   "source": [
    "import pandas as pd\n",
    "import numpy as np\n",
    "import matplotlib.pyplot as plt\n",
    "import math\n",
    "import scipy\n",
    "from scipy.stats import binom\n",
    "import sys\n",
    "import pandas as pd\n",
    "from scipy.stats import moment\n",
    "#!{sys.executable} -m pip install scipy\n",
    "! pip install tabulate"
   ]
  },
  {
   "cell_type": "markdown",
   "metadata": {},
   "source": [
    "##  Answer:\n",
    "* Lets set T(n):\n",
    "    * $$ T(n) = [ X_{1}, X_{2}......X_{N} ]   $$ \n",
    "* The probability of T(n<=1) is where $X_{n}$ are iid  :    \n",
    "    * $$ P(T(n)<=1) =P(X_{1}<=1,X_{2}<=1, ..... X_{N}<=1) = P(X_{1}<=1)*P(X_{2}<=1)....P_{N}<=1) $$\n",
    "    * $$ P(T(n)<=1) =P(X_{i}<=1)^{N} $$\n",
    "* we want to caluculate the probability of $ P_{at-least-1-defect} $\n",
    "<br> $$ P_{at-least-1-defect}= P(n>=1) = 1-P(n<1) = 1- P_{not-defect}^N$$<br>\n",
    "<br> $$  P_{not-defect}^N = 1-P_{at-least-1-defect} $$ <br>\n",
    "\n",
    "* we can say that N is equal to:\n",
    "<br> $$ log_{not-defect}(1-P_{at-least-1-defect}) = N $$ <br>\n",
    "\n"
   ]
  },
  {
   "cell_type": "code",
   "execution_count": null,
   "metadata": {},
   "outputs": [],
   "source": [
    "# we want to define new randum variable as the sum of N variable and use the fact that they are independent\n",
    "def calculate_the_amount_of_independent_samples_2_get_almost_one_defect(goal_probability, defect_prob):\n",
    "    prob_2_not_achieve_defect = 1-goal_probability\n",
    "    non_defect_prob = 1-defect_prob\n",
    "    amount_of_independent_samples = int(math.ceil((math.log(prob_2_not_achieve_defect, non_defect_prob))))\n",
    "    print('The amount of independent samples is '+ str(amount_of_independent_samples))"
   ]
  },
  {
   "cell_type": "code",
   "execution_count": 61,
   "metadata": {},
   "outputs": [
    {
     "name": "stdout",
     "output_type": "stream",
     "text": [
      "The amount of independent samples is 63\n"
     ]
    }
   ],
   "source": [
    "# initial info \n",
    "defect_prob = 0.03\n",
    "goal_probability = 0.85\n",
    "min_amount_of_defect = 1\n",
    "\n",
    "calculate_the_amount_of_independent_samples_2_get_almost_one_defect(goal_probability, defect_prob)"
   ]
  },
  {
   "cell_type": "markdown",
   "metadata": {},
   "source": [
    "## The sums of independent variable set as:\n",
    "\n"
   ]
  },
  {
   "cell_type": "markdown",
   "metadata": {},
   "source": [
    "#### 1.B\n",
    "Answer this part again with the following changes: products are 4% defective and we want a 95% probability of at least one defective product in the batch."
   ]
  },
  {
   "cell_type": "code",
   "execution_count": 31,
   "metadata": {},
   "outputs": [
    {
     "name": "stdout",
     "output_type": "stream",
     "text": [
      "The amount of independent samples is 74\n"
     ]
    }
   ],
   "source": [
    "# initial info \n",
    "defect_prob = 0.04\n",
    "goal_probability = 0.95\n",
    "min_amount_of_defect = 1\n",
    "calculate_the_amount_of_independent_samples_2_get_almost_one_defect(goal_probability, defect_prob)\n"
   ]
  },
  {
   "cell_type": "markdown",
   "metadata": {},
   "source": [
    "#### 1.C \n",
    "\n",
    "Consider the following cases and calculate how many independent samples are required: \n",
    "\n",
    "1. Products are 10% defective and we want a 90% probability of at least 5 defective products in the batch.\n",
    "1. Products are 30% defective and we want a 90% probability of at least 15 defective products in the batch.\n",
    "\n",
    "Explain the difference between the two results. You should use mathematical reasoning based on the properties of distributions you saw in class and visualizations in your answer."
   ]
  },
  {
   "cell_type": "markdown",
   "metadata": {},
   "source": [
    "## First  Case:\n",
    "* Products are 10% defective and we want a 90% probability of at least 5 defective products in the batch"
   ]
  },
  {
   "cell_type": "markdown",
   "metadata": {},
   "source": [
    "<br> $$ P_{at-least-5-defect}= P(X>=k) = 1-P(X<k) = 1- \\sum_{k=1}^{k-1}B(n,k,p) $$<br>\n"
   ]
  },
  {
   "cell_type": "code",
   "execution_count": 143,
   "metadata": {},
   "outputs": [],
   "source": [
    "def evaluate_the_amount_of_independent_samples_2_get_almost_k_defects(desire_amount_of_defect, defect_prob, goal_probability):\n",
    "    # reset amount independet variables\n",
    "    num_of_samples = 1\n",
    "    list_of_probability = []\n",
    "    list_of_amount_of_independent_sampels = []\n",
    "    while True:\n",
    "        \n",
    "        p = 1 - sum([binom.pmf(number_of_defects, num_of_samples, defect_prob) for number_of_defects in range(desire_amount_of_defect)])\n",
    "        \n",
    "        # vallidate if achieve the desire prob'\n",
    "        list_of_probability.append(p)\n",
    "        list_of_amount_of_independent_sampels.append(num_of_samples)\n",
    "        if p >= goal_probability:\n",
    "            break\n",
    "        else:\n",
    "            # increase the amout of sampels\n",
    "            num_of_samples+=1\n",
    "            continue\n",
    "    print('The amount of independent samples is '+str(num_of_samples))\n",
    "    return list_of_probability, list_of_amount_of_independent_sampels\n"
   ]
  },
  {
   "cell_type": "code",
   "execution_count": 108,
   "metadata": {},
   "outputs": [
    {
     "name": "stdout",
     "output_type": "stream",
     "text": [
      "The amount of independent samples is 78\n"
     ]
    }
   ],
   "source": [
    "# initial info \n",
    "\n",
    "defect_prob = 0.1\n",
    "goal_probability = 0.9\n",
    "desire_amount_of_defect = 5    \n",
    "dumm,dumm123 = evaluate_the_amount_of_independent_samples_2_get_almost_k_defects(desire_amount_of_defect, defect_prob,goal_probability)"
   ]
  },
  {
   "cell_type": "markdown",
   "metadata": {},
   "source": [
    "## Secound  Case:\n",
    "* Products are 30% defective and we want a 90% probability of at least 15 defective products in the batch"
   ]
  },
  {
   "cell_type": "code",
   "execution_count": 107,
   "metadata": {},
   "outputs": [
    {
     "name": "stdout",
     "output_type": "stream",
     "text": [
      "The amount of independent samples is 64\n"
     ]
    }
   ],
   "source": [
    "# initial info \n",
    "defect_prob = 0.3\n",
    "goal_probability = 0.9\n",
    "desire_amount_of_defect = 15\n",
    "dumm,dumm123 = evaluate_the_amount_of_independent_samples_2_get_almost_k_defects(desire_amount_of_defect, defect_prob,goal_probability)"
   ]
  },
  {
   "cell_type": "markdown",
   "metadata": {},
   "source": [
    "## Explaination \n",
    "* the difference between the two results are:\n",
    "    * because we know that the probabily of case1 is lower than the probability of case2\n",
    "      we it is logic that we will need more independent sample to achieve the same probabilty, \n",
    "      againts case2 where the probility is higher, although needed more defect\n",
    "    * we know that:\n",
    "        * $ E[X_{1}] = np$ 0.1*n\n",
    "        "
   ]
  },
  {
   "cell_type": "code",
   "execution_count": 148,
   "metadata": {},
   "outputs": [
    {
     "name": "stdout",
     "output_type": "stream",
     "text": [
      "The amount of independent samples is 477\n",
      "The amount of independent samples is 211\n"
     ]
    },
    {
     "data": {
      "text/plain": [
       "<matplotlib.legend.Legend at 0x1b54a671ee0>"
      ]
     },
     "execution_count": 148,
     "metadata": {},
     "output_type": "execute_result"
    },
    {
     "data": {
      "image/png": "[encoded data removed]",
      "text/plain": [
       "<Figure size 432x288 with 1 Axes>"
      ]
     },
     "metadata": {
      "needs_background": "light"
     },
     "output_type": "display_data"
    }
   ],
   "source": [
    "defect_prob = 0.1\n",
    "goal_probability = 0.9\n",
    "desire_amount_of_defect = 5  \n",
    "x1,y1 = evaluate_the_amount_of_independent_samples_2_get_almost_k_defects(desire_amount_of_defect, defect_prob, 1)\n",
    "defect_prob = 0.3\n",
    "goal_probability = 0.9\n",
    "desire_amount_of_defect = 15\n",
    "x2,y2 = evaluate_the_amount_of_independent_samples_2_get_almost_k_defects(desire_amount_of_defect, defect_prob, 1)\n",
    "plt.close()\n",
    "\n",
    "plt.plot(y1, x1, '--', 'g', label='Case1')\n",
    "plt.plot(y2, x2, ':', 'b', label='Case2')\n",
    "plt.plot(np.arange(0,100),100*[0.9] , 'r')\n",
    "\n",
    "plt.grid()\n",
    "plt.title('The amount of sampels as function of the probability')\n",
    "plt.ylabel('Probability')\n",
    "plt.xlabel('# Samples')\n",
    "plt.xlim(0,100)\n",
    "plt.ylim(0,1)\n",
    "plt.legend()\n",
    "\n"
   ]
  },
  {
   "cell_type": "markdown",
   "metadata": {},
   "source": [
    "## Explaination \n",
    "* the difference between the two results are:\n",
    "    * it can be seen from the graph that for small amount of independent sampels case 1 achieve higher probability,\n",
    "      and for high small amount of independent case 2 achieve higher probability\n",
    "    * because we know that the probabily of case1 is lower than the probability of case2\n",
    "      we it is logic that we will need more independent sample to achieve the same probabilty, \n",
    "      againts case2 where the probility is higher, although needed more defect\n",
    "    * the plot above describe the CDF of the two cases, we can see that case 2 reach to probability \n",
    "      0.9 first which match to the actual reuslt that needed more sampels in order to reach 0.9 probability"
   ]
  },
  {
   "cell_type": "markdown",
   "metadata": {},
   "source": [
    "### Question 2 - Rent distributions in Randomistan"
   ]
  },
  {
   "cell_type": "markdown",
   "metadata": {},
   "source": [
    "The state of Randomistan conducted a survey to study the distribution of rent paid in two neighboring towns, Stochastic Heights and Random Grove, to be denoted SH and RG.<br> \n",
    "\n",
    "Here are some findings of the survey:\n",
    "* The population of SH and RG is 16,000 and 22,000 respectively. <br>\n",
    "* The mean rent in SH and RG is 6300RCU and 4200RCU respectively.\n",
    "* The median rent is 4600RCU in both towns.\n",
    "* The IQR of the rent is smaller in SH than in RG.\n",
    "\n",
    "All data generated in this question needs to be consistent with these findings."
   ]
  },
  {
   "cell_type": "markdown",
   "metadata": {},
   "source": [
    "#### 2.A\n",
    "Draw histograms that describe 2 different scenarii of possible distributions of rent in the two towns.\u000b",
    "Your histograms should:<br>\n",
    "* Use bins of 100RCU each.\n",
    "* Have at least 10 non zero bins."
   ]
  },
  {
   "cell_type": "code",
   "execution_count": 138,
   "metadata": {},
   "outputs": [],
   "source": [
    "population_sh = 16e3\n",
    "population_rg  = 22e3\n",
    "mean_sh = 16e3\n",
    "mean_rg  = 22e3\n",
    "median_rent = 46e2\n",
    "\n",
    "bins_size = 100 # needs to verify that there are at least 10 non zeros points \n"
   ]
  },
  {
   "cell_type": "markdown",
   "metadata": {},
   "source": [
    "#### 2.B\n",
    "Draw a histogram of a third scenario with the same properties. <br>\n",
    "In addition, in this scenario the rent in SH should have a higher variance than the rent in RG."
   ]
  },
  {
   "cell_type": "code",
   "execution_count": null,
   "metadata": {},
   "outputs": [],
   "source": []
  },
  {
   "cell_type": "markdown",
   "metadata": {},
   "source": [
    "The survey also examined the per household income (PHI) in these two places.<br>\n",
    "\n",
    "It found that:<br>\n",
    "* The mean of PHI in SH is 12500 and in RG is 8500.\n",
    "* The median is 12000 in SH and 8000 in RG.\n",
    "* The covariance of the rent and the PHI was observed to be as in the formula below with $\\alpha=97\\%$ and $\\alpha=89\\%$ in SH and in RG respectively.<br><br>\n",
    "$$Cov(rent, PHI) = \\alpha * \\sqrt{Var(rent)} * \\sqrt{Var(PHI)}$$\n",
    "\n",
    "#### 2.C\n",
    "Produce rent and PHI data for the two cities, that is consistent with these findings. The covariances in your data can deviate by up to 1% from the numbers given $\\alpha$."
   ]
  },
  {
   "cell_type": "code",
   "execution_count": 1,
   "metadata": {},
   "outputs": [],
   "source": [
    "mean_ph = 125e2\n",
    "mean_sh  = 85e2\n",
    "median_ph = 12e3\n",
    "median_sh  = 8e3\n",
    "alpha_rate = [0.89,0.97]\n",
    "covariances_deviate_percent = 0.01\n",
    "\n",
    "\n"
   ]
  },
  {
   "cell_type": "markdown",
   "metadata": {},
   "source": [
    "#### 2.D\n",
    "Produce two heatmaps that describe these two bivariate joint distributions. Make sure you carefully consider the selected binning resolution."
   ]
  },
  {
   "cell_type": "code",
   "execution_count": null,
   "metadata": {},
   "outputs": [],
   "source": []
  },
  {
   "cell_type": "markdown",
   "metadata": {},
   "source": [
    "### Question 3 - Multinomial Distributions\n",
    "\n",
    "1. Let $X \\sim Multinomial(n,\\vec{p})$ be a multinomial random variable where $n=20$ and $\\vec{p} = (0.2,  0.1,  0.1,  0.1,  0.2,  0.3)$. Note that X is a vector of counts.\n",
    "\n",
    "\n",
    "2. Let $Y = X_2 + X_3 + X_4$ be a random variable.\n",
    "\n",
    "\n",
    "3. Create $k=100$ experiments where $X$ is sampled using Python. Calculate the empirical centralized third moment of $Y$ based on your $k$ experiments.\n",
    "\n",
    "\n",
    "4. Compare your result to the calculation in class for the centralized third moment of the **binomial** distribution and explain your observation."
   ]
  },
  {
   "cell_type": "markdown",
   "metadata": {},
   "source": [
    "## Initial info"
   ]
  },
  {
   "cell_type": "code",
   "execution_count": 44,
   "metadata": {},
   "outputs": [],
   "source": [
    "k = 100\n",
    "n = 20\n",
    "p = [0.2,0.1,0.1,0.1,0.2,0.3]\n"
   ]
  },
  {
   "cell_type": "markdown",
   "metadata": {},
   "source": [
    "## generate expirements "
   ]
  },
  {
   "cell_type": "code",
   "execution_count": 45,
   "metadata": {},
   "outputs": [],
   "source": [
    "# generate k experiments with 6 rv, which the sum of expirement is n  \n",
    "experiments_vector = np.random.multinomial(n=n, pvals=p, size=k)"
   ]
  },
  {
   "cell_type": "markdown",
   "metadata": {},
   "source": [
    "# display the expirement results"
   ]
  },
  {
   "cell_type": "code",
   "execution_count": 150,
   "metadata": {},
   "outputs": [
    {
     "name": "stdout",
     "output_type": "stream",
     "text": [
      "The following table display our expirements result\n",
      "each row is single expirement which the sampels needs to be sun to 20\n",
      "The following table display our expirements result\n",
      "each row is single expirement\n"
     ]
    }
   ],
   "source": [
    "df = pd.DataFrame(experiments_vector, columns=['X1','X2','X3','X4','X5','X6'])\n",
    "print('The following table display our expirements result\\neach row is single expirement which the sampels needs to be sun to 20')\n",
    "print('The following table display our expirements result\\neach row is single expirement')\n",
    "#print(df.to_markdown())\n"
   ]
  },
  {
   "cell_type": "markdown",
   "metadata": {},
   "source": [
    "## Set Y"
   ]
  },
  {
   "cell_type": "code",
   "execution_count": 47,
   "metadata": {},
   "outputs": [],
   "source": [
    "# suming the desire sampels\n",
    "df['Y'] = df['X2'] + df['X3'] + df['X4']\n",
    "Y = df['Y'].tolist()\n"
   ]
  },
  {
   "cell_type": "markdown",
   "metadata": {},
   "source": [
    "##  Calculate the empirical centralized third moment of $Y$ based on your $k$ experiments"
   ]
  },
  {
   "cell_type": "code",
   "execution_count": 79,
   "metadata": {},
   "outputs": [
    {
     "name": "stdout",
     "output_type": "stream",
     "text": [
      "the empirical centralized third moment of Y is -2.56\n"
     ]
    }
   ],
   "source": [
    "result = moment(Y, moment=3)\n",
    "print('the empirical centralized third moment of Y is ' + str(np.round(result,3)))"
   ]
  },
  {
   "cell_type": "markdown",
   "metadata": {},
   "source": [
    "## Compare your result to the calculation in class for the centralized third moment of the **binomial** distribution and explain your observation."
   ]
  },
  {
   "cell_type": "markdown",
   "metadata": {},
   "source": [
    "## * we know from the lecture that:\n",
    "        * p = 0.1\n",
    "        * n = 20\n",
    "        \n",
    "$\\gamma = np*(1-p)(1-2p)=20*0.1(1-0.1)(1-2*0.1)=1.44$ \n"
   ]
  },
  {
   "cell_type": "code",
   "execution_count": 37,
   "metadata": {},
   "outputs": [
    {
     "data": {
      "text/plain": [
       "1.4400000000000002"
      ]
     },
     "execution_count": 37,
     "metadata": {},
     "output_type": "execute_result"
    }
   ],
   "source": []
  },
  {
   "cell_type": "code",
   "execution_count": null,
   "metadata": {},
   "outputs": [],
   "source": [
    "\n",
    "# from the 2nd lecture in the end about moments. this is 3rd central moment of binomial\n",
    "# problem - there is no p .... (no single p) maybe check over all of them ?\n",
    "#TODO\n",
    "#𝛾3 = 𝑛𝑝(1−𝑝)(1−2𝑝)\n",
    "#X2_3rd_moment = 𝑛𝑝(1−𝑝)(1−2𝑝)\n",
    "#X3_3rd_moment = 𝑛𝑝(1−𝑝)(1−2𝑝)\n",
    "#X4_3rd_moment = 𝑛𝑝(1−𝑝)(1−2𝑝)"
   ]
  },
  {
   "cell_type": "code",
   "execution_count": null,
   "metadata": {},
   "outputs": [],
   "source": []
  },
  {
   "cell_type": "markdown",
   "metadata": {},
   "source": [
    "### Question 4 - Covariance and independence"
   ]
  },
  {
   "cell_type": "markdown",
   "metadata": {},
   "source": [
    "What is the variance of the sum X +Y + Z of three random variables in terms of the variances of X, Y and Z and the covariances between each pair of random variables? What happens if X,Y,Z are pairwise independent? If X,Y,Z are pairwise independent, are they necessarily collectively independent? Prove your answer."
   ]
  },
  {
   "cell_type": "markdown",
   "metadata": {},
   "source": [
    "## * Q -  variance of the sum X +Y + Z:\n",
    "  \n",
    "$$ Var(X+Y+Z) = Var(X + (Y+Z)) = Var(X)+ 2Cov(X,Y+Z) + Var(Y+Z) $$\n",
    "$$ Var(X+Y+Z) = Var(X)+ 2[Cov(X,Y)+Cov(X,Z)] + Var(Y)+2Cov(Y,Z) +Var(Z)$$\n",
    "\n",
    "\n",
    "## * If X,Y,Z are pairwise independent, are they necessarily collectively independent?\n",
    "\n",
    "    * Cov(X,Y) = 0\n",
    "    * Cov(X,Z) = 0\n",
    "    * Cov(Y,Z) = 0\n",
    "    \n",
    "## $$ Var(X+Y+Z) = Var(X)+ 0 + Var(Y)+0 +Var(Z)  $$\n",
    "\n",
    "## $$ Var(X+Y+Z) = Var(X)+Var(Y)+Var(Z) $$\n"
   ]
  },
  {
   "cell_type": "markdown",
   "metadata": {},
   "source": [
    "## *  ans : \n",
    "* If X,Y,Z are pairwise independent, are they necessarily collectively independent?"
   ]
  },
  {
   "cell_type": "markdown",
   "metadata": {},
   "source": [
    "### Question 5 - Convolutions"
   ]
  },
  {
   "cell_type": "markdown",
   "metadata": {},
   "source": [
    "#### 5.A\n",
    "Write a program, `Q = NFoldConv(P , n)`, that takes as input:\n",
    "* A distribution, P, of a random variable that takes finitely many integer values\n",
    "* An integer n\n",
    "\n",
    "and produces the distribution, Q, of the sum of n independent repeats of random variables, each of which has the distribution P."
   ]
  },
  {
   "cell_type": "markdown",
   "metadata": {},
   "source": [
    "n = 20\n",
    "\n",
    "sampels = np.random.randint(1,9,size=(1,17))\n",
    "print(sampels)"
   ]
  },
  {
   "cell_type": "markdown",
   "metadata": {},
   "source": [
    "n = 20\n",
    "\n",
    "sampels = np.random.randint(1,9,size=(1,17))\n",
    "current_row = sampels[0,:]\n",
    "for i_row_idx in range(1, sampels.shape[0]):\n",
    "    i_row = first_row = sampels[i_row_idx,:]\n",
    "    current_row = np.convolve(current_row, i_row, mode='same')\n",
    "\n",
    "plt.hist(current_row*(1/8))\n",
    "plt.title('some some')\n",
    "plt.grid()\n"
   ]
  },
  {
   "cell_type": "markdown",
   "metadata": {},
   "source": [
    "current_row = np.convolve(sampels[0,:], sampels[1,:], mode='same')\n",
    "current_row"
   ]
  },
  {
   "cell_type": "markdown",
   "metadata": {},
   "source": [
    "plt.plot(current_row)\n",
    "print(current_row)\n",
    "len(current_row)"
   ]
  },
  {
   "cell_type": "code",
   "execution_count": 1,
   "metadata": {},
   "outputs": [],
   "source": [
    "import numpy as np\n",
    "P = {1:1/8, 2:1/8, 3:1/8, 4:1/8, 5:1/8, 6:1/8, 7:1/8, 8:1/8}\n",
    "n = 8\n",
    "\n",
    "#TODO\n",
    "def NFoldConv(P , n):\n",
    "    max_value_of_sum = max(list(P.keys())) * n\n",
    "    min_value_of_sum = min(list(P.keys())) * n\n",
    "\n",
    "    original = list(P.values())\n",
    "    current_row = list(P.values())\n",
    "    print(len(current_row))\n",
    "    print(current_row)\n",
    "    #print(f'min(current) {min(current)}')\n",
    "    print(f'sum(current_row) {sum(current_row)}')\n",
    "    print()\n",
    "    print()\n",
    "    for _ in range(n-1):  #not sure about n or n-1\n",
    "        current_row = np.convolve(current_row, original, mode='full')\n",
    "        print(len(current_row))\n",
    "        print(current_row)\n",
    "        #print(f'min(current) {min(current)}')\n",
    "        print(f'sum(current_row) {sum(current_row)}')\n",
    "        print()\n",
    "    \n",
    "        \n",
    "    output = dict()\n",
    "    keys = list(np.arange(min_value_of_sum, max_value_of_sum+1))\n",
    "    for key, value in zip(keys, current_row):\n",
    "        output[key] = value\n",
    "    return output\n",
    "\n"
   ]
  },
  {
   "cell_type": "markdown",
   "metadata": {},
   "source": [
    "#### 5.B\n",
    "Compute the distribution of the sum of the results of rolling a fair octahedron 17 times.\n",
    "\n",
    "<img src=\"https://upload.wikimedia.org/wikipedia/commons/2/27/Octahedron.jpg\" width=\"200\">\n"
   ]
  },
  {
   "cell_type": "code",
   "execution_count": 3,
   "metadata": {},
   "outputs": [
    {
     "name": "stdout",
     "output_type": "stream",
     "text": [
      "8\n",
      "[0.125, 0.125, 0.125, 0.125, 0.125, 0.125, 0.125, 0.125]\n",
      "sum(current_row) 1.0\n",
      "\n",
      "\n",
      "15\n",
      "[0.015625 0.03125  0.046875 0.0625   0.078125 0.09375  0.109375 0.125\n",
      " 0.109375 0.09375  0.078125 0.0625   0.046875 0.03125  0.015625]\n",
      "sum(current_row) 1.0\n",
      "\n",
      "{2: 0.015625, 3: 0.03125, 4: 0.046875, 5: 0.0625, 6: 0.078125, 7: 0.09375, 8: 0.109375, 9: 0.125, 10: 0.109375, 11: 0.09375, 12: 0.078125, 13: 0.0625, 14: 0.046875, 15: 0.03125, 16: 0.015625}\n"
     ]
    }
   ],
   "source": [
    "P = {1:1/8, 2:1/8, 3:1/8, 4:1/8, 5:1/8, 6:1/8, 7:1/8, 8:1/8}\n",
    "n = 2  # should be 17\n",
    "result = NFoldConv(P, n)\n",
    "print(result)"
   ]
  },
  {
   "cell_type": "code",
   "execution_count": null,
   "metadata": {},
   "outputs": [],
   "source": []
  }
 ],
 "metadata": {
  "kernelspec": {
   "display_name": "Python 3 (ipykernel)",
   "language": "python",
   "name": "python3"
  },
  "language_info": {
   "codemirror_mode": {
    "name": "ipython",
    "version": 3
   },
   "file_extension": ".py",
   "mimetype": "text/x-python",
   "name": "python",
   "nbconvert_exporter": "python",
   "pygments_lexer": "ipython3",
   "version": "3.10.0"
  }
 },
 "nbformat": 4,
 "nbformat_minor": 4
}
