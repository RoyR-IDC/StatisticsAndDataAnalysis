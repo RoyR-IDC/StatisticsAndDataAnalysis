{
 "cells": [
  {
   "cell_type": "markdown",
   "metadata": {},
   "source": [
    "### IDs:\n",
    "Insert yours IDs to the cell below"
   ]
  },
  {
   "cell_type": "markdown",
   "metadata": {
    "jupyter": {
     "source_hidden": true
    },
    "tags": []
   },
   "source": [
    "ID #1:\n",
    "\n",
    "ID #2:\n"
   ]
  },
  {
   "cell_type": "markdown",
   "metadata": {},
   "source": [
    "## Read the following instructions carefully:\n",
    "\n",
    "1. This jupyter notebook contains all the step by step instructions needed for this exercise.\n",
    "1. You are free to add cells.\n",
    "1. Write your functions and your answers in this jupyter notebook only.\n",
    "1. Answers to theoretical questions should be written in **markdown cells (with $\\LaTeX$ support)**.\n",
    "1. Submit this jupyter notebook only using your ID as a filename. Not to use ZIP or RAR. For example, your Moodle submission file name should look like this (two id numbers): `123456789_987654321.ipynb`."
   ]
  },
  {
   "cell_type": "markdown",
   "metadata": {},
   "source": [
    "### Question 1 - Correlations (15 points)"
   ]
  },
  {
   "cell_type": "markdown",
   "metadata": {},
   "source": [
    "Provide example datapoints matching the following descriptions. Each example should be constructed over n=50 datapoints. Provide a table description of the example data as well as a jointplot (see example below). \n",
    "If you think that the situation described is impossible then clearly explain why (you don’t need to give a rigorous proof).<br>\n",
    "Pearson(x,y) = Pearson correlation<br>\n",
    "τ(x,y) = Kendall rank correlation<br>\n",
    "ρ(x,y) = Spearman rank correlation <br>\n",
    "<img src=\"jointplot.png\">"
   ]
  },
  {
   "cell_type": "markdown",
   "metadata": {},
   "source": [
    "#### 1.A\n",
    "Data in which  $Pearson(x,y) < -0.9$ but where $n-1$ points can be selected so that for the vectors restricted to those we have $Pearson(x_{n-1},y_{n-1}) > -0.2$"
   ]
  },
  {
   "cell_type": "code",
   "execution_count": null,
   "metadata": {},
   "outputs": [],
   "source": []
  },
  {
   "cell_type": "markdown",
   "metadata": {},
   "source": [
    "#### 1.B\n",
    "Data with τ(x,y) > ρ(x,y) + 0.45"
   ]
  },
  {
   "cell_type": "code",
   "execution_count": 2,
   "metadata": {},
   "outputs": [],
   "source": [
    "import scipy.stats as stats\n",
    "import matplotlib.pyplot as plt\n",
    "import numpy as np"
   ]
  },
  {
   "cell_type": "code",
   "execution_count": 14,
   "metadata": {},
   "outputs": [
    {
     "name": "stdout",
     "output_type": "stream",
     "text": [
      "tau -0.2 rho -0.5428571428571429 r -0.7897769817426549\n"
     ]
    },
    {
     "data": {
      "image/png": "[encoded data removed]",
      "text/plain": [
       "<Figure size 432x288 with 1 Axes>"
      ]
     },
     "metadata": {
      "needs_background": "light"
     },
     "output_type": "display_data"
    }
   ],
   "source": [
    "x = [1,2,3,4,5,6]\n",
    "y = [11,12,13,1,2,3]\n",
    "\n",
    "r, r_p_value = stats.pearsonr(x, y)\n",
    "rho, rho_p_value = stats.spearmanr(x, y)\n",
    "tau, tau_p_value = stats.kendalltau(x, y)\n",
    "print(f'tau {tau} rho {rho} r {r}')\n",
    "\n",
    "plt.scatter(x, y)\n",
    "plt.show()"
   ]
  },
  {
   "cell_type": "code",
   "execution_count": 33,
   "metadata": {},
   "outputs": [
    {
     "name": "stdout",
     "output_type": "stream",
     "text": [
      "tau -1.0 rho -1.0 r -0.9999999999999998\n"
     ]
    },
    {
     "data": {
      "image/png": "[encoded data removed]",
      "text/plain": [
       "<Figure size 432x288 with 1 Axes>"
      ]
     },
     "metadata": {
      "needs_background": "light"
     },
     "output_type": "display_data"
    }
   ],
   "source": [
    "n = 1000\n",
    "x = np.arange(n)\n",
    "y = np.arange(n)[::-1]\n",
    "\n",
    "# middle = n // 2\n",
    "# y[:middle] = np.arange(start=n, stop=n+middle)\n",
    "\n",
    "r, r_p_value = stats.pearsonr(x, y)\n",
    "rho, rho_p_value = stats.spearmanr(x, y)\n",
    "tau, tau_p_value = stats.kendalltau(x, y)\n",
    "print(f'tau {tau} rho {rho} r {r}')\n",
    "\n",
    "plt.scatter(x, y)\n",
    "plt.show()"
   ]
  },
  {
   "cell_type": "code",
   "execution_count": 34,
   "metadata": {},
   "outputs": [
    {
     "name": "stdout",
     "output_type": "stream",
     "text": [
      "tau -0.0010010010010010012 rho -0.5000015000015 r -0.5000015000015\n"
     ]
    },
    {
     "data": {
      "image/png": "[encoded data removed]",
      "text/plain": [
       "<Figure size 432x288 with 1 Axes>"
      ]
     },
     "metadata": {
      "needs_background": "light"
     },
     "output_type": "display_data"
    }
   ],
   "source": [
    "n = 1000\n",
    "x = np.arange(n)\n",
    "y = np.arange(n)\n",
    "\n",
    "middle = n // 2\n",
    "y[:middle] = np.arange(start=n, stop=n+middle)\n",
    "\n",
    "r, r_p_value = stats.pearsonr(x, y)\n",
    "rho, rho_p_value = stats.spearmanr(x, y)\n",
    "tau, tau_p_value = stats.kendalltau(x, y)\n",
    "print(f'tau {tau} rho {rho} r {r}')\n",
    "\n",
    "plt.scatter(x, y)\n",
    "plt.show()"
   ]
  },
  {
   "cell_type": "code",
   "execution_count": 37,
   "metadata": {},
   "outputs": [
    {
     "name": "stdout",
     "output_type": "stream",
     "text": [
      "tau -0.09656565656565659 rho -0.14381038103810379 r -0.15493775663537826\n"
     ]
    },
    {
     "data": {
      "image/png": "[encoded data removed]",
      "text/plain": [
       "<Figure size 432x288 with 1 Axes>"
      ]
     },
     "metadata": {
      "needs_background": "light"
     },
     "output_type": "display_data"
    }
   ],
   "source": [
    "n = 100\n",
    "x = np.random.uniform(low=1,high=10,size=n)\n",
    "y = np.random.uniform(low=1,high=10,size=n)\n",
    "\n",
    "r, r_p_value = stats.pearsonr(x, y)\n",
    "rho, rho_p_value = stats.spearmanr(x, y)\n",
    "tau, tau_p_value = stats.kendalltau(x, y)\n",
    "print(f'tau {tau} rho {rho} r {r}')\n",
    "\n",
    "plt.scatter(x, y)\n",
    "plt.show()"
   ]
  },
  {
   "cell_type": "markdown",
   "metadata": {},
   "source": [
    "#### 1.C\n",
    "Data with τ(x,y) < ρ(x,y) – 0.45"
   ]
  },
  {
   "cell_type": "code",
   "execution_count": null,
   "metadata": {},
   "outputs": [],
   "source": []
  },
  {
   "cell_type": "markdown",
   "metadata": {},
   "source": [
    "#### 1.D\n",
    "Data with Pearson(x,y) < ρ(x,y) – 0.6"
   ]
  },
  {
   "cell_type": "code",
   "execution_count": null,
   "metadata": {},
   "outputs": [],
   "source": []
  },
  {
   "cell_type": "markdown",
   "metadata": {},
   "source": [
    "#### 1.E\n",
    "Data with Pearson(x,y) > ρ(x,y) + 1.2"
   ]
  },
  {
   "cell_type": "code",
   "execution_count": null,
   "metadata": {},
   "outputs": [],
   "source": []
  },
  {
   "cell_type": "markdown",
   "metadata": {},
   "source": [
    "#### 1.F\n",
    "Data with τ(x,y) < ρ(x,y) – 1.2 "
   ]
  },
  {
   "cell_type": "code",
   "execution_count": null,
   "metadata": {},
   "outputs": [],
   "source": []
  },
  {
   "cell_type": "markdown",
   "metadata": {},
   "source": [
    "### Question 2 - Analysis of the UCI Heart Disease dataset  (40 points)"
   ]
  },
  {
   "cell_type": "markdown",
   "metadata": {},
   "source": [
    "Perform data analysis on the UCI Heart Disease Dataset\n",
    "References:\n",
    "1. Detrano, R., Janosi, A., Steinbrunn, W., Pfisterer, M., Schmid, J., Sandhu, S., Guppy, K., Lee, S., & Froelicher, V. (1989). International application of a new probability algorithm for the diagnosis of coronary artery disease. American Journal of Cardiology, 64,304--310.\n",
    "2. David W. Aha & Dennis Kibler. \"Instance-based prediction of heart-disease presence with the Cleveland database.\"\n",
    "3. Gennari, J.H., Langley, P, & Fisher, D. (1989). Models of incremental concept formation. Artificial Intelligence, 40, 11--61.\n",
    "\n",
    "Use the following links to find the details of the data: \n",
    "1. https://archive.ics.uci.edu/ml/datasets/heart+disease\n",
    "2. https://www.kaggle.com/ronitf/heart-disease-uci\n",
    "\n",
    "In the follwong cells write a report for your analysis. In your report provide a clear description of the analysis methods and of the results. This should include a graphical representation of the results and the conclusions. Provide p-values or other indicators of the statistical significance where appropriate. <br>\n",
    "Design your report to be concise but still cover interesting findings.\n",
    "\n",
    "There are missing values in the data. Find them and impute them by using the median (for numerical features) or the mode (for categorical features) value of the relevant feature (column).\n",
    "Address the following questions:\n",
    "* Using confidence intervals determine for which numerical features you can state with confidence of 95% that the healthy population (target = 0) mean is larger/smaller than the disease population (target = 1) mean. \n",
    "* Draw histograms for each numerical feature. Inspect the observed distributions and then use MLE to plot, on the same figures, fits of the distributions.\n",
    "* For each pair of numerical feature, calculate correlations and indicate whether you find them significant. For select pairs, with significant correlations, draw joint plot with marginal histograms (see Seaborn joint plot) and find bivariate normal fits. Then use the example code below to draw plots of the bivariate pdfs (you may edit the code as you see fit).\n",
    "* Are there pairs that are significantly correlated in males but not in females? The opposite? How about healthy vs disease? Can you graphically represent this?\n",
    "* For each numerical feature, except age, plot the distribution for this feature against bins of age. In each bin provide a split violin plot, with different colors for healthy and disease.\n",
    "\n",
    "Suggest, state and address at least one original question.\n"
   ]
  },
  {
   "cell_type": "code",
   "execution_count": 1,
   "metadata": {},
   "outputs": [
    {
     "data": {
      "image/png": "[encoded data removed]",
      "text/plain": [
       "<Figure size 432x288 with 1 Axes>"
      ]
     },
     "metadata": {
      "needs_background": "light"
     },
     "output_type": "display_data"
    }
   ],
   "source": [
    "# Example code for bivariate pdfs\n",
    "from scipy.stats import multivariate_normal as mn\n",
    "import numpy as np\n",
    "import matplotlib.pyplot as plt\n",
    "%matplotlib inline\n",
    "\n",
    "def plot_2d_Gaussian_pdf(means, cov):\n",
    "    n = 100\n",
    "    x1 = np.linspace(means[0] - 3 * np.sqrt(cov[0][0]), means[0] + 3 * np.sqrt(cov[0][0]), n)\n",
    "    x2 = np.linspace(means[1] - 3 * np.sqrt(cov[1][1]), means[1] + 3 * np.sqrt(cov[1][1]), n)\n",
    "    x1_v, x2_v = np.meshgrid(x1, x2)\n",
    "    Xgrid = np.vstack([x1_v.ravel(), x2_v.ravel()]).T\n",
    "    Y = mn.pdf(Xgrid, means, cov)\n",
    "    fig, ax = plt.subplots()\n",
    "    ax.pcolorfast(x1, x2, Y.reshape(x1_v.shape), alpha=0.5, cmap='Blues')\n",
    "    ax.contour(x1_v, x2_v, Y.reshape(x1_v.shape),\n",
    "               levels=[0.05, 0.1, 0.15, 0.2], alpha=0.3, colors='b')\n",
    "    ax.axis('equal')\n",
    "    ax.grid(alpha=0.2)\n",
    "    plt.show()\n",
    "    \n",
    "means = [3, 2]\n",
    "cov = [[1, 0.5], [0.5, 0.8]]\n",
    "plot_2d_Gaussian_pdf(means, cov)"
   ]
  },
  {
   "cell_type": "code",
   "execution_count": 67,
   "metadata": {},
   "outputs": [],
   "source": [
    "df = pd.read_csv('heart.csv', index_col=False, sep='\\t')"
   ]
  },
  {
   "cell_type": "code",
   "execution_count": 68,
   "metadata": {},
   "outputs": [
    {
     "data": {
      "text/html": [
       "<div>\n",
       "<style scoped>\n",
       "    .dataframe tbody tr th:only-of-type {\n",
       "        vertical-align: middle;\n",
       "    }\n",
       "\n",
       "    .dataframe tbody tr th {\n",
       "        vertical-align: top;\n",
       "    }\n",
       "\n",
       "    .dataframe thead th {\n",
       "        text-align: right;\n",
       "    }\n",
       "</style>\n",
       "<table border=\"1\" class=\"dataframe\">\n",
       "  <thead>\n",
       "    <tr style=\"text-align: right;\">\n",
       "      <th></th>\n",
       "      <th>age</th>\n",
       "      <th>sex</th>\n",
       "      <th>cp</th>\n",
       "      <th>trestbps</th>\n",
       "      <th>chol</th>\n",
       "      <th>fbs</th>\n",
       "      <th>restecg</th>\n",
       "      <th>thalach</th>\n",
       "      <th>exang</th>\n",
       "      <th>oldpeak</th>\n",
       "      <th>slope</th>\n",
       "      <th>ca</th>\n",
       "      <th>thal</th>\n",
       "      <th>target</th>\n",
       "    </tr>\n",
       "  </thead>\n",
       "  <tbody>\n",
       "    <tr>\n",
       "      <th>0</th>\n",
       "      <td>63.0</td>\n",
       "      <td>1.0</td>\n",
       "      <td>3.0</td>\n",
       "      <td>145.0</td>\n",
       "      <td>233.0</td>\n",
       "      <td>1.0</td>\n",
       "      <td>0.0</td>\n",
       "      <td>150.0</td>\n",
       "      <td>0</td>\n",
       "      <td>2.3</td>\n",
       "      <td>0</td>\n",
       "      <td>0</td>\n",
       "      <td>1</td>\n",
       "      <td>1</td>\n",
       "    </tr>\n",
       "    <tr>\n",
       "      <th>1</th>\n",
       "      <td>37.0</td>\n",
       "      <td>1.0</td>\n",
       "      <td>NaN</td>\n",
       "      <td>130.0</td>\n",
       "      <td>250.0</td>\n",
       "      <td>0.0</td>\n",
       "      <td>1.0</td>\n",
       "      <td>187.0</td>\n",
       "      <td>0</td>\n",
       "      <td>3.5</td>\n",
       "      <td>0</td>\n",
       "      <td>0</td>\n",
       "      <td>2</td>\n",
       "      <td>1</td>\n",
       "    </tr>\n",
       "    <tr>\n",
       "      <th>2</th>\n",
       "      <td>41.0</td>\n",
       "      <td>0.0</td>\n",
       "      <td>1.0</td>\n",
       "      <td>NaN</td>\n",
       "      <td>NaN</td>\n",
       "      <td>0.0</td>\n",
       "      <td>0.0</td>\n",
       "      <td>172.0</td>\n",
       "      <td>0</td>\n",
       "      <td>1.4</td>\n",
       "      <td>2</td>\n",
       "      <td>0</td>\n",
       "      <td>2</td>\n",
       "      <td>1</td>\n",
       "    </tr>\n",
       "    <tr>\n",
       "      <th>3</th>\n",
       "      <td>NaN</td>\n",
       "      <td>1.0</td>\n",
       "      <td>1.0</td>\n",
       "      <td>120.0</td>\n",
       "      <td>236.0</td>\n",
       "      <td>0.0</td>\n",
       "      <td>1.0</td>\n",
       "      <td>178.0</td>\n",
       "      <td>0</td>\n",
       "      <td>0.8</td>\n",
       "      <td>2</td>\n",
       "      <td>0</td>\n",
       "      <td>2</td>\n",
       "      <td>1</td>\n",
       "    </tr>\n",
       "    <tr>\n",
       "      <th>4</th>\n",
       "      <td>NaN</td>\n",
       "      <td>0.0</td>\n",
       "      <td>0.0</td>\n",
       "      <td>120.0</td>\n",
       "      <td>354.0</td>\n",
       "      <td>0.0</td>\n",
       "      <td>1.0</td>\n",
       "      <td>163.0</td>\n",
       "      <td>1</td>\n",
       "      <td>0.6</td>\n",
       "      <td>2</td>\n",
       "      <td>0</td>\n",
       "      <td>2</td>\n",
       "      <td>1</td>\n",
       "    </tr>\n",
       "  </tbody>\n",
       "</table>\n",
       "</div>"
      ],
      "text/plain": [
       "    age  sex   cp  trestbps   chol  fbs  restecg  thalach  exang  oldpeak  \\\n",
       "0  63.0  1.0  3.0     145.0  233.0  1.0      0.0    150.0      0      2.3   \n",
       "1  37.0  1.0  NaN     130.0  250.0  0.0      1.0    187.0      0      3.5   \n",
       "2  41.0  0.0  1.0       NaN    NaN  0.0      0.0    172.0      0      1.4   \n",
       "3   NaN  1.0  1.0     120.0  236.0  0.0      1.0    178.0      0      0.8   \n",
       "4   NaN  0.0  0.0     120.0  354.0  0.0      1.0    163.0      1      0.6   \n",
       "\n",
       "   slope  ca  thal  target  \n",
       "0      0   0     1       1  \n",
       "1      0   0     2       1  \n",
       "2      2   0     2       1  \n",
       "3      2   0     2       1  \n",
       "4      2   0     2       1  "
      ]
     },
     "execution_count": 68,
     "metadata": {},
     "output_type": "execute_result"
    }
   ],
   "source": [
    "df.head()"
   ]
  },
  {
   "cell_type": "code",
   "execution_count": 71,
   "metadata": {},
   "outputs": [
    {
     "data": {
      "text/html": [
       "<div>\n",
       "<style scoped>\n",
       "    .dataframe tbody tr th:only-of-type {\n",
       "        vertical-align: middle;\n",
       "    }\n",
       "\n",
       "    .dataframe tbody tr th {\n",
       "        vertical-align: top;\n",
       "    }\n",
       "\n",
       "    .dataframe thead th {\n",
       "        text-align: right;\n",
       "    }\n",
       "</style>\n",
       "<table border=\"1\" class=\"dataframe\">\n",
       "  <thead>\n",
       "    <tr style=\"text-align: right;\">\n",
       "      <th></th>\n",
       "      <th>age</th>\n",
       "      <th>sex</th>\n",
       "      <th>cp</th>\n",
       "      <th>trestbps</th>\n",
       "      <th>chol</th>\n",
       "      <th>fbs</th>\n",
       "      <th>restecg</th>\n",
       "      <th>thalach</th>\n",
       "      <th>exang</th>\n",
       "      <th>oldpeak</th>\n",
       "      <th>slope</th>\n",
       "      <th>ca</th>\n",
       "      <th>thal</th>\n",
       "      <th>target</th>\n",
       "    </tr>\n",
       "  </thead>\n",
       "  <tbody>\n",
       "    <tr>\n",
       "      <th>count</th>\n",
       "      <td>303.000000</td>\n",
       "      <td>303.000000</td>\n",
       "      <td>303.000000</td>\n",
       "      <td>303.000000</td>\n",
       "      <td>303.000000</td>\n",
       "      <td>303.000000</td>\n",
       "      <td>303.000000</td>\n",
       "      <td>303.000000</td>\n",
       "      <td>303.000000</td>\n",
       "      <td>303.000000</td>\n",
       "      <td>303.000000</td>\n",
       "      <td>303.000000</td>\n",
       "      <td>303.000000</td>\n",
       "      <td>303.000000</td>\n",
       "    </tr>\n",
       "    <tr>\n",
       "      <th>mean</th>\n",
       "      <td>54.405941</td>\n",
       "      <td>0.686469</td>\n",
       "      <td>0.953795</td>\n",
       "      <td>131.630363</td>\n",
       "      <td>245.848185</td>\n",
       "      <td>0.148515</td>\n",
       "      <td>0.524752</td>\n",
       "      <td>149.610561</td>\n",
       "      <td>0.326733</td>\n",
       "      <td>1.036634</td>\n",
       "      <td>1.399340</td>\n",
       "      <td>0.729373</td>\n",
       "      <td>2.313531</td>\n",
       "      <td>0.544554</td>\n",
       "    </tr>\n",
       "    <tr>\n",
       "      <th>std</th>\n",
       "      <td>8.964069</td>\n",
       "      <td>0.464696</td>\n",
       "      <td>1.031544</td>\n",
       "      <td>17.358758</td>\n",
       "      <td>51.604360</td>\n",
       "      <td>0.356198</td>\n",
       "      <td>0.519693</td>\n",
       "      <td>22.858624</td>\n",
       "      <td>0.469794</td>\n",
       "      <td>1.158160</td>\n",
       "      <td>0.616226</td>\n",
       "      <td>1.022606</td>\n",
       "      <td>0.612277</td>\n",
       "      <td>0.498835</td>\n",
       "    </tr>\n",
       "    <tr>\n",
       "      <th>min</th>\n",
       "      <td>29.000000</td>\n",
       "      <td>0.000000</td>\n",
       "      <td>0.000000</td>\n",
       "      <td>94.000000</td>\n",
       "      <td>126.000000</td>\n",
       "      <td>0.000000</td>\n",
       "      <td>0.000000</td>\n",
       "      <td>71.000000</td>\n",
       "      <td>0.000000</td>\n",
       "      <td>0.000000</td>\n",
       "      <td>0.000000</td>\n",
       "      <td>0.000000</td>\n",
       "      <td>0.000000</td>\n",
       "      <td>0.000000</td>\n",
       "    </tr>\n",
       "    <tr>\n",
       "      <th>25%</th>\n",
       "      <td>48.000000</td>\n",
       "      <td>0.000000</td>\n",
       "      <td>0.000000</td>\n",
       "      <td>120.000000</td>\n",
       "      <td>211.000000</td>\n",
       "      <td>0.000000</td>\n",
       "      <td>0.000000</td>\n",
       "      <td>133.500000</td>\n",
       "      <td>0.000000</td>\n",
       "      <td>0.000000</td>\n",
       "      <td>1.000000</td>\n",
       "      <td>0.000000</td>\n",
       "      <td>2.000000</td>\n",
       "      <td>0.000000</td>\n",
       "    </tr>\n",
       "    <tr>\n",
       "      <th>50%</th>\n",
       "      <td>55.000000</td>\n",
       "      <td>1.000000</td>\n",
       "      <td>1.000000</td>\n",
       "      <td>130.000000</td>\n",
       "      <td>240.000000</td>\n",
       "      <td>0.000000</td>\n",
       "      <td>1.000000</td>\n",
       "      <td>153.000000</td>\n",
       "      <td>0.000000</td>\n",
       "      <td>0.800000</td>\n",
       "      <td>1.000000</td>\n",
       "      <td>0.000000</td>\n",
       "      <td>2.000000</td>\n",
       "      <td>1.000000</td>\n",
       "    </tr>\n",
       "    <tr>\n",
       "      <th>75%</th>\n",
       "      <td>61.000000</td>\n",
       "      <td>1.000000</td>\n",
       "      <td>2.000000</td>\n",
       "      <td>140.000000</td>\n",
       "      <td>274.000000</td>\n",
       "      <td>0.000000</td>\n",
       "      <td>1.000000</td>\n",
       "      <td>166.000000</td>\n",
       "      <td>1.000000</td>\n",
       "      <td>1.600000</td>\n",
       "      <td>2.000000</td>\n",
       "      <td>1.000000</td>\n",
       "      <td>3.000000</td>\n",
       "      <td>1.000000</td>\n",
       "    </tr>\n",
       "    <tr>\n",
       "      <th>max</th>\n",
       "      <td>77.000000</td>\n",
       "      <td>1.000000</td>\n",
       "      <td>3.000000</td>\n",
       "      <td>200.000000</td>\n",
       "      <td>564.000000</td>\n",
       "      <td>1.000000</td>\n",
       "      <td>2.000000</td>\n",
       "      <td>202.000000</td>\n",
       "      <td>1.000000</td>\n",
       "      <td>6.200000</td>\n",
       "      <td>2.000000</td>\n",
       "      <td>4.000000</td>\n",
       "      <td>3.000000</td>\n",
       "      <td>1.000000</td>\n",
       "    </tr>\n",
       "  </tbody>\n",
       "</table>\n",
       "</div>"
      ],
      "text/plain": [
       "              age         sex          cp    trestbps        chol         fbs  \\\n",
       "count  303.000000  303.000000  303.000000  303.000000  303.000000  303.000000   \n",
       "mean    54.405941    0.686469    0.953795  131.630363  245.848185    0.148515   \n",
       "std      8.964069    0.464696    1.031544   17.358758   51.604360    0.356198   \n",
       "min     29.000000    0.000000    0.000000   94.000000  126.000000    0.000000   \n",
       "25%     48.000000    0.000000    0.000000  120.000000  211.000000    0.000000   \n",
       "50%     55.000000    1.000000    1.000000  130.000000  240.000000    0.000000   \n",
       "75%     61.000000    1.000000    2.000000  140.000000  274.000000    0.000000   \n",
       "max     77.000000    1.000000    3.000000  200.000000  564.000000    1.000000   \n",
       "\n",
       "          restecg     thalach       exang     oldpeak       slope          ca  \\\n",
       "count  303.000000  303.000000  303.000000  303.000000  303.000000  303.000000   \n",
       "mean     0.524752  149.610561    0.326733    1.036634    1.399340    0.729373   \n",
       "std      0.519693   22.858624    0.469794    1.158160    0.616226    1.022606   \n",
       "min      0.000000   71.000000    0.000000    0.000000    0.000000    0.000000   \n",
       "25%      0.000000  133.500000    0.000000    0.000000    1.000000    0.000000   \n",
       "50%      1.000000  153.000000    0.000000    0.800000    1.000000    0.000000   \n",
       "75%      1.000000  166.000000    1.000000    1.600000    2.000000    1.000000   \n",
       "max      2.000000  202.000000    1.000000    6.200000    2.000000    4.000000   \n",
       "\n",
       "             thal      target  \n",
       "count  303.000000  303.000000  \n",
       "mean     2.313531    0.544554  \n",
       "std      0.612277    0.498835  \n",
       "min      0.000000    0.000000  \n",
       "25%      2.000000    0.000000  \n",
       "50%      2.000000    1.000000  \n",
       "75%      3.000000    1.000000  \n",
       "max      3.000000    1.000000  "
      ]
     },
     "execution_count": 71,
     "metadata": {},
     "output_type": "execute_result"
    }
   ],
   "source": [
    "df.describe()"
   ]
  },
  {
   "cell_type": "code",
   "execution_count": null,
   "metadata": {},
   "outputs": [],
   "source": []
  },
  {
   "cell_type": "markdown",
   "metadata": {},
   "source": [
    "### Question 3 - Heavy Tailed Distributions and the Exponential Distribution (15 points)"
   ]
  },
  {
   "cell_type": "markdown",
   "metadata": {},
   "source": [
    "### Heavy Tailed Distributions\n",
    "\n",
    "Recall the definition of Heavy Tailed distribution from the lectures.\n",
    "\n",
    "*A distribution is said to have a heavy right tail if its tail probabilities vanish slower than any exponential*\n",
    "$$ \\forall t>0, \\lim_{x\\to\\infty} e^{tx}P(X>x)=\\infty $$"
   ]
  },
  {
   "cell_type": "markdown",
   "metadata": {},
   "source": [
    "Does the standard log-normal distribution have a heavy right tail? prove your answer."
   ]
  },
  {
   "cell_type": "markdown",
   "metadata": {},
   "source": [
    "##### Answer:\n",
    "<b>As mentioned in the lecture, The standard log-normal distribution DOES have a heavy right tail<b>.<br>\n",
    "\n",
    "<u>Proof</u>:<br>\n",
    "Let $Y = e^{X}$ be a standard log-normal distribution random variable (where X is the standard normal).<br>\n",
    "\n",
    "We will start from  $ \\lim_{x\\to\\infty} e^{tx}P(Y > x)  $\n",
    "And we will show that  $ \\lim_{x\\to\\infty} e^{tx}P(Y > x) = \\infty $\n",
    "\n",
    "    \n",
    "$$\n",
    "\\lim_{x\\to\\infty} e^{tx}P(Y > x) = \n",
    "\\lim_{x\\to\\infty} e^{tx}\\big(1-P(Y \\leq x)\\big) \\stackrel{Y=e^X}{=} \n",
    "\\lim_{x\\to\\infty} e^{tx}\\big(1-P(e^X \\leq x)\\big) \\stackrel{ln-both-sides}{=}\n",
    "$$\n",
    "    \n",
    "$$\n",
    "\\lim_{x\\to\\infty} e^{tx}\\big(1-P(X \\leq ln x)\\big) \\stackrel{CDF-definition}{=}\n",
    "\\lim_{x\\to\\infty} e^{tx}\\big(1-\\Phi(ln x)\\big) \\stackrel{a^b = \\frac{1}{a^{-b}}}{=} \n",
    "\\lim_{x\\to\\infty} \\frac{1-\\Phi(ln x)}{e^{-tx}} \\stackrel{LHopital \\frac{0}{0}}{=} \n",
    "$$\n",
    "\n",
    "$$\n",
    "\\lim_{x\\to\\infty} \\frac{-\\Phi(ln x)}{-t\\cdot e^{-tx}} \\stackrel{standard-normal-PDF}{=}\n",
    "\\lim_{x\\to\\infty} \\frac{\\frac{\\frac{1}{\\sqrt{2\\pi}}e^{-\\frac{1}{2} (ln x)^2}}{x}}{t \\cdot e^{-tx}} = \n",
    "\\lim_{x\\to\\infty} \\frac{e^{-\\frac{1}{2} (ln x)^2}}{\\sqrt{2\\pi} \\cdot x \\cdot t\\cdot e^{-tx}} \\stackrel{reorder}{=}\n",
    "\\lim_{x\\to\\infty} \\frac{e^{tx}} {\\sqrt{2\\pi} \\cdot t \\cdot x \\cdot e^{\\frac {(ln x)^2}{2}}} \\stackrel{reorder}{=}\n",
    "$$\n",
    "\n",
    "$$\n",
    "\\lim_{x\\to\\infty} \\frac{1}{\\sqrt{2\\pi} \\cdot t \\cdot x} \\cdot e^{t \\cdot x - \\frac{(ln x)^2}{2}} \\approx\n",
    "\\frac{1}{\\to 0} \\cdot e^{\\infty} \\approx \\infty \\cdot \\infty \\approx \\infty\n",
    "$$\n"
   ]
  },
  {
   "cell_type": "markdown",
   "metadata": {},
   "source": [
    "### Special Properties of the Exponential Distribution\n",
    "\n",
    "Let $X_1 \\sim exp(\\lambda_1)$ and $X_2 \\sim exp(\\lambda_2)$ be two independent exponential random variables.\n",
    "\n",
    "Calculate $P(X_1 < X_2)$."
   ]
  },
  {
   "cell_type": "markdown",
   "metadata": {},
   "source": [
    "Preparation:\n"
   ]
  },
  {
   "cell_type": "markdown",
   "metadata": {},
   "source": [
    "<div class=\"alert alert-block alert-warning\">\n",
    "\n",
    "NOTE !\n",
    "slava sent me the solution.\n",
    "i didnt quite understand, but, it exists\n",
    "on\n",
    "page 4 of:\n",
    "http://www.columbia.edu/~ks20/4106-18-Fall/Notes-exp.pdf"
   ]
  },
  {
   "cell_type": "markdown",
   "metadata": {},
   "source": [
    "### Question 4 - CLT for Markov chains (15 points)"
   ]
  },
  {
   "cell_type": "markdown",
   "metadata": {},
   "source": [
    "In this exercise you will construct trajectories of Markovian dice rolling results in the following way.<br>\n",
    "The first roll, X0, is Unif(1..6)<br>\n",
    "After i rolls are determined the i+1st, Xi+1, is drawn according to the row that corresponds to the value of Xi in the matrix T below. <br>\n",
    "In other words, T is the transition matrix of a Markov chain and the initial distribution is uniform.\n",
    "\n",
    "\\begin{equation*}\n",
    "T = \n",
    "\\begin{pmatrix}\n",
    "0.4 & 0.2 & 0.1 & 0 & 0.1 & 0.2 \\\\\n",
    "0.2 & 0.4 & 0.2 & 0.1 & 0 & 0.1 \\\\\n",
    "0.1 & 0.2 & 0.4 & 0.2 & 0.1 & 0 \\\\\n",
    "0 & 0.1 & 0.2 & 0.4 & 0.2 & 0.1 \\\\\n",
    "0.1 & 0 & 0.1 & 0.2 & 0.4 & 0.2 \\\\\n",
    "0.2 & 0.1 & 0 & 0.1 & 0.2 & 0.4\n",
    "\\end{pmatrix}\n",
    "\\end{equation*}"
   ]
  },
  {
   "cell_type": "markdown",
   "metadata": {},
   "source": [
    "#### 4.A\n",
    "Construct 1000 trajectories, each of length 30.\n",
    "1. What do you expect the average value of all 30 numbers in a trajectory to be?\n",
    "2. Compute the average value of each such trajectory. Draw a histogram of the 1000 numbers you received, using 20 bins.\n",
    "3. What does the distribution look like? What are the empirical mean and the std?"
   ]
  },
  {
   "cell_type": "code",
   "execution_count": 135,
   "metadata": {},
   "outputs": [],
   "source": [
    "import numpy as np\n",
    "np.random.seed(42)\n",
    "import matplotlib.pyplot as plt\n",
    "import seaborn as sns\n",
    "import scipy"
   ]
  },
  {
   "cell_type": "code",
   "execution_count": 55,
   "metadata": {},
   "outputs": [],
   "source": [
    "def get_single_trajectory(trajectory_size: int, T: np.ndarray, pi_0: np.ndarray) -> list:\n",
    "    dice_values = [1,2,3,4,5,6]\n",
    "    \n",
    "    first_roll = np.random.choice(dice_values, size=1, p=pi_0).item()\n",
    "    \n",
    "    trajectory = [first_roll]\n",
    "    previous_roll = first_roll\n",
    "    current_roll = None\n",
    "    \n",
    "    for iteration in range(1, trajectory_size):\n",
    "        previous_roll_index = previous_roll - 1\n",
    "        current_roll = np.random.choice(dice_values, size=1, p=T[previous_roll_index][:]).item()\n",
    "        # print(f'previous_roll {previous_roll} so current probabilities are {T[previous_roll_index][:]} and current roll is {current_roll}')\n",
    "        trajectory.append(current_roll)\n",
    "        previous_roll = current_roll\n",
    "    \n",
    "    return trajectory"
   ]
  },
  {
   "cell_type": "code",
   "execution_count": 56,
   "metadata": {},
   "outputs": [],
   "source": [
    "def get_trajectory_means(number_of_trajectories: int, trajectory_size: int, T: np.ndarray, pi_0: np.ndarray) -> list:\n",
    "    trajectory_means_list = []\n",
    "    for iteration in range(number_of_trajectories):\n",
    "        trajectory = get_single_trajectory(trajectory_size=trajectory_size, T=T, pi_0=pi_0)\n",
    "        # print(f'current trajectory {trajectory}')\n",
    "        trajectory_means_list.append(np.mean(trajectory))\n",
    "        \n",
    "    return trajectory_means_list"
   ]
  },
  {
   "cell_type": "code",
   "execution_count": 4,
   "metadata": {},
   "outputs": [],
   "source": [
    "pi_0 = np.array([1/6, 1/6, 1/6, 1/6, 1/6, 1/6])\n",
    "\n",
    "T = np.array([[0.4, 0.2, 0.1, 0, 0.1, 0.2],\n",
    "              [0.2, 0.4, 0.2, 0.1, 0, 0.1],\n",
    "              [0.1, 0.2, 0.4, 0.2, 0.1, 0],\n",
    "              [0, 0.1, 0.2, 0.4, 0.2, 0.1],\n",
    "              [0.1, 0, 0.1, 0.2, 0.4, 0.2],\n",
    "              [0.2, 0.1, 0, 0.1, 0.2, 0.4]])"
   ]
  },
  {
   "cell_type": "code",
   "execution_count": 70,
   "metadata": {},
   "outputs": [
    {
     "name": "stdout",
     "output_type": "stream",
     "text": [
      "CPU times: user 1.42 s, sys: 26 ms, total: 1.44 s\n",
      "Wall time: 1.57 s\n"
     ]
    }
   ],
   "source": [
    "%%time\n",
    "number_of_trajectories = 1000\n",
    "trajectory_size = 30\n",
    "trajectory_means1 = get_trajectory_means(number_of_trajectories=number_of_trajectories, \n",
    "                                         trajectory_size=trajectory_size, \n",
    "                                         T=T, \n",
    "                                         pi_0=pi_0)\n",
    "# print(trajectory_means)"
   ]
  },
  {
   "cell_type": "code",
   "execution_count": null,
   "metadata": {},
   "outputs": [],
   "source": [
    "print(f'empirical mean {np.mean(trajectory_means1)}')\n",
    "print(f'empirical std {np.std(trajectory_means1)}')"
   ]
  },
  {
   "cell_type": "code",
   "execution_count": 71,
   "metadata": {},
   "outputs": [
    {
     "data": {
      "image/png": "[encoded data removed]",
      "text/plain": [
       "<Figure size 432x288 with 1 Axes>"
      ]
     },
     "metadata": {
      "needs_background": "light"
     },
     "output_type": "display_data"
    }
   ],
   "source": [
    "plt.figure()\n",
    "ax = sns.histplot(trajectory_means1, bins=20)\n",
    "plt.title('histogram plot of trajectory means')\n",
    "plt.grid()"
   ]
  },
  {
   "cell_type": "markdown",
   "metadata": {},
   "source": [
    "##### 4.B\n",
    "Construct 1000 trajectories, each of length 500.\n",
    "1. What do you expect the average value of all 500 numbers in a trajectory to be?\n",
    "2. Compute the average value of each such trajectory. Draw a histogram of the 1000 numbers you received, using 20 bins.\n",
    "3. What does the distribution look like? What are the empirical mean and the std?"
   ]
  },
  {
   "cell_type": "code",
   "execution_count": 72,
   "metadata": {},
   "outputs": [
    {
     "name": "stdout",
     "output_type": "stream",
     "text": [
      "CPU times: user 19.6 s, sys: 119 ms, total: 19.7 s\n",
      "Wall time: 20 s\n"
     ]
    }
   ],
   "source": [
    "%%time\n",
    "number_of_trajectories = 1000\n",
    "trajectory_size = 500\n",
    "trajectory_means2 = get_trajectory_means(number_of_trajectories=number_of_trajectories, \n",
    "                                         trajectory_size=trajectory_size, \n",
    "                                         T=T, \n",
    "                                         pi_0=pi_0)"
   ]
  },
  {
   "cell_type": "code",
   "execution_count": null,
   "metadata": {},
   "outputs": [],
   "source": [
    "print(f'empirical mean {np.mean(trajectory_means2)}')\n",
    "print(f'empirical std {np.std(trajectory_means2)}')"
   ]
  },
  {
   "cell_type": "code",
   "execution_count": 73,
   "metadata": {},
   "outputs": [
    {
     "data": {
      "image/png": "[encoded data removed]",
      "text/plain": [
       "<Figure size 432x288 with 1 Axes>"
      ]
     },
     "metadata": {
      "needs_background": "light"
     },
     "output_type": "display_data"
    }
   ],
   "source": [
    "plt.figure()\n",
    "ax = sns.histplot(trajectory_means2, bins=20)\n",
    "plt.title('histogram plot of trajectory means')\n",
    "plt.grid()"
   ]
  },
  {
   "cell_type": "markdown",
   "metadata": {},
   "source": [
    "#### 4.C\n",
    "Draw normal fit curves on your two histograms."
   ]
  },
  {
   "cell_type": "code",
   "execution_count": 143,
   "metadata": {},
   "outputs": [],
   "source": [
    "def plot_histogram_with_normal_fit_curve(trajectory_means: list):\n",
    "    ## create the histogram\n",
    "    plt.figure()\n",
    "    ax = sns.histplot(trajectory_means, bins=20, label='Histogram plot', stat='density')\n",
    "    plt.title('histogram plot of trajectory means with normal fit')\n",
    "    plt.grid()\n",
    "    \n",
    "    ## create the normal plot\n",
    "    # create x,y such that x is just a linear space, y is the pdf of the normal distribution\n",
    "    x_lower_limit = round(min(trajectory_means))\n",
    "    x_upper_limit = round(max(trajectory_means))\n",
    "    x = np.linspace(start=x_lower_limit, stop=x_upper_limit, num=1000)\n",
    "\n",
    "    empirical_mean = np.mean(trajectory_means)\n",
    "    empirical_std = np.std(trajectory_means) \n",
    "    normal_rv = scipy.stats.norm(loc=empirical_mean, scale=empirical_std)\n",
    "    y_pdf = normal_rv.pdf(x)\n",
    "\n",
    "    ax.plot(x, y_pdf, 'r', lw=2, label='Normal fit plot') \n",
    "    \n",
    "    \n",
    "#     empirical_mean = np.mean(trajectory_means)\n",
    "#     empirical_var = np.var(trajectory_means)    \n",
    "    \n",
    "#     x = np.linspace(start=1, stop=6, num=1000)\n",
    "#     y = 1.0/np.sqrt(2*np.pi*empirical_var)*np.exp(-0.5*(x-empirical_mean)**2/empirical_var)\n",
    "    \n",
    "#     print(f'len x {len(x)} len y {len(y)}')\n",
    "#     # y needs to be scaled so it will be understandable on the histogram plot\n",
    "#     hist, _ = np.histogram(trajectory_means, bins=20)\n",
    "#     print(f'hist {hist}')\n",
    "#     biggest_bin_count = max(hist)\n",
    "#     print(f'biggest_bin_count {biggest_bin_count}')\n",
    "#     y_scaled = y * biggest_bin_count\n",
    "#     plt.plot(x, y*y_scaled,'-.', linewidth=2, c='red', label='Normal fit plot')\n",
    "    \n",
    "    plt.legend()\n",
    "    plt.show()\n",
    "    "
   ]
  },
  {
   "cell_type": "code",
   "execution_count": 144,
   "metadata": {},
   "outputs": [
    {
     "data": {
      "image/png": "[encoded data removed]",
      "text/plain": [
       "<Figure size 432x288 with 1 Axes>"
      ]
     },
     "metadata": {
      "needs_background": "light"
     },
     "output_type": "display_data"
    }
   ],
   "source": [
    "plot_histogram_with_normal_fit_curve(trajectory_means1)"
   ]
  },
  {
   "cell_type": "code",
   "execution_count": 145,
   "metadata": {},
   "outputs": [
    {
     "data": {
      "image/png": "[encoded data removed]",
      "text/plain": [
       "<Figure size 432x288 with 1 Axes>"
      ]
     },
     "metadata": {
      "needs_background": "light"
     },
     "output_type": "display_data"
    }
   ],
   "source": [
    "plot_histogram_with_normal_fit_curve(trajectory_means2)"
   ]
  },
  {
   "cell_type": "markdown",
   "metadata": {},
   "source": [
    "#### 4.D\n",
    "Write a python code to calculate $Cov(X_0,X_i)$ for $i=1,..,500$ based on $\\pi_0$ and $T$. \n",
    "\n",
    "Compute the values for our case."
   ]
  },
  {
   "cell_type": "code",
   "execution_count": null,
   "metadata": {},
   "outputs": [],
   "source": [
    "amount_of_iterations = 500\n",
    "k = 6\n",
    "cov_list = []\n",
    "for i in range(amount_of_iterations):\n",
    "\n",
    "    mue_0 = mui_i = np.mean(pi_0)\n",
    "    print(f'mu0 {mue_0} mui {mui_i}')\n",
    "    \n",
    "    expection_x_ij = 0 \n",
    "    T_power_k = np.linalg.matrix_power(T, i+1)\n",
    "    print(f'T_power_k {T_power_k}')\n",
    "    \n",
    "    for u in range(k):\n",
    "        for v in range(k):\n",
    "            curr_value  = (u+1)*(v+1)*pi_0[u]*T_power_k[u,v]\n",
    "            expection_x_ij += curr_value\n",
    "            print(f'expection_x_ij {expection_x_ij}')\n",
    "\n",
    "    cov = expection_x_ij - mue_0 * mui_i\n",
    "    cov_list.append(cov)\n",
    "print('the convarince is: ')\n",
    "print(cov_list)"
   ]
  },
  {
   "cell_type": "code",
   "execution_count": null,
   "metadata": {},
   "outputs": [],
   "source": []
  },
  {
   "cell_type": "code",
   "execution_count": 152,
   "metadata": {},
   "outputs": [],
   "source": []
  },
  {
   "cell_type": "code",
   "execution_count": 153,
   "metadata": {},
   "outputs": [
    {
     "name": "stdout",
     "output_type": "stream",
     "text": [
      "[1, 2, 3, 4, 5, 6]\n",
      "[-2.5 -1.5 -0.5  0.5  1.5  2.5]\n",
      "[6.25 2.25 0.25 0.25 2.25 6.25]\n"
     ]
    }
   ],
   "source": []
  },
  {
   "cell_type": "markdown",
   "metadata": {},
   "source": [
    "#### 4.E - Bonus (5 Points)\n",
    "Let $\\bar{X_n}$ be the sample average for a single trajectory of length $n$.\n",
    "1. Show that **in our case**:\n",
    "$$E(\\bar{X_n}) =E(X_0)$$\n",
    "What is it in our case ($\\pi_0$ and $T$ as defined above)?\n",
    "2. Show that \n",
    "$$Var(\\bar{X_n}) = \\frac{1}{n}\\sigma_0^2 + \\frac{2}{n^2}\\sum_{d=1}^{n-1}(n-d)Cov(X_0, X_d)$$\n",
    "Calculate it for our case.\n",
    "3. Formulate the CLT for Markov Chains.\n",
    "4. Graphically show that the CLT holds for n=500 in our case."
   ]
  },
  {
   "cell_type": "code",
   "execution_count": null,
   "metadata": {},
   "outputs": [],
   "source": []
  },
  {
   "cell_type": "markdown",
   "metadata": {},
   "source": [
    "### Question 5 - Distributions (15 Points)\n",
    "\n",
    "Let $X$ be a random variable with a median value $Med(X) = m$. Recall that this means that $P(X\\le m)=0.5$.\n",
    "\n",
    "Consider a sample $\\vec{x}(n) = x_1,...,x_n$ sampled independently from $X$. Without loss generality, assume that the observations are sorted. That is, $x_1 \\le x_2 \\le ... \\le x_n$. Also assume that $n$ is odd and $n > 100$.\n",
    "\n",
    "Let $R(\\vec{x}(n))$ be the largest index $i \\in {1,...,n}$ such that $x_i \\le m$.\n",
    "\n",
    "1. What is the distribution of $R$?\n",
    "1. Given $n$, compute a function $\\lambda (n)$ so that $P(x_{\\lambda (n)} \\le m) \\ge 0.95)$ and $P(x_{\\lambda (n)+1} \\le m) < 0.95)$."
   ]
  },
  {
   "cell_type": "code",
   "execution_count": null,
   "metadata": {},
   "outputs": [],
   "source": [
    "#TEST\n",
    "import numpy as np\n",
    "np.random.seed(2345)\n",
    "sample_size = 41 # index\n",
    "X = np.random.uniform(1,1000,1000)\n",
    "m = np.median(X)\n",
    "x_n = np.random.choice(X, sample_size)\n",
    "\n",
    "print(f'm {m}, len x_n {len(x_n)}, max {max(x_n)}, min {min(x_n)}')"
   ]
  },
  {
   "cell_type": "code",
   "execution_count": null,
   "metadata": {},
   "outputs": [],
   "source": [
    "x_ppf = stats.binom.ppf(1-0.95, n, 0.5)\n",
    "x_ppf"
   ]
  },
  {
   "cell_type": "code",
   "execution_count": null,
   "metadata": {},
   "outputs": [],
   "source": []
  },
  {
   "cell_type": "code",
   "execution_count": null,
   "metadata": {},
   "outputs": [],
   "source": []
  },
  {
   "cell_type": "code",
   "execution_count": null,
   "metadata": {},
   "outputs": [],
   "source": []
  },
  {
   "cell_type": "code",
   "execution_count": null,
   "metadata": {},
   "outputs": [],
   "source": []
  }
 ],
 "metadata": {
  "kernelspec": {
   "display_name": "Python 3 (ipykernel)",
   "language": "python",
   "name": "python3"
  },
  "language_info": {
   "codemirror_mode": {
    "name": "ipython",
    "version": 3
   },
   "file_extension": ".py",
   "mimetype": "text/x-python",
   "name": "python",
   "nbconvert_exporter": "python",
   "pygments_lexer": "ipython3",
   "version": "3.10.0"
  }
 },
 "nbformat": 4,
 "nbformat_minor": 4
}
